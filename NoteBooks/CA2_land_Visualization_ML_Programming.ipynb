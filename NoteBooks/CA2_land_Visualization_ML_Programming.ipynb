{
 "cells": [
  {
   "cell_type": "code",
   "execution_count": 1,
   "id": "22f689dc",
   "metadata": {},
   "outputs": [],
   "source": [
    "import numpy as np\n",
    "import pandas as pd\n",
    "import seaborn as sns\n",
    "import matplotlib.pyplot as plt\n",
    "\n",
    "from sklearn.model_selection import train_test_split\n",
    "\n",
    "from sklearn.ensemble import RandomForestRegressor\n",
    "from sklearn.neighbors import KNeighborsRegressor\n",
    "from sklearn.ensemble import AdaBoostRegressor\n",
    "from sklearn.linear_model import LinearRegression\n",
    "\n",
    "from sklearn.preprocessing import MinMaxScaler\n",
    "\n",
    "from sklearn.metrics import r2_score\n",
    "from sklearn.metrics import mean_squared_error\n",
    "from sklearn.metrics import mean_absolute_error\n",
    "\n",
    "from sklearn.model_selection import GridSearchCV"
   ]
  },
  {
   "cell_type": "code",
   "execution_count": 2,
   "id": "517a69e5",
   "metadata": {},
   "outputs": [],
   "source": [
    "models_dict = {\"rf\":RandomForestRegressor,\n",
    "               \"knn\":KNeighborsRegressor,\n",
    "               \"ada\":AdaBoostRegressor,\n",
    "               \"lr\":LinearRegression}"
   ]
  },
  {
   "cell_type": "code",
   "execution_count": 3,
   "id": "70578f21",
   "metadata": {},
   "outputs": [],
   "source": [
    "metrics_dict = {\"r2\":r2_score,\n",
    "               \"mse\":mean_squared_error,\n",
    "               \"mae\":mean_absolute_error}"
   ]
  },
  {
   "cell_type": "code",
   "execution_count": 5,
   "id": "e11bb646",
   "metadata": {},
   "outputs": [],
   "source": [
    "df_land = pd.read_csv(\"../data/ARA02.20220508215353_good_price.csv\")"
   ]
  },
  {
   "cell_type": "code",
   "execution_count": 6,
   "id": "37862acd",
   "metadata": {},
   "outputs": [
    {
     "data": {
      "text/html": [
       "<div>\n",
       "<style scoped>\n",
       "    .dataframe tbody tr th:only-of-type {\n",
       "        vertical-align: middle;\n",
       "    }\n",
       "\n",
       "    .dataframe tbody tr th {\n",
       "        vertical-align: top;\n",
       "    }\n",
       "\n",
       "    .dataframe thead th {\n",
       "        text-align: right;\n",
       "    }\n",
       "</style>\n",
       "<table border=\"1\" class=\"dataframe\">\n",
       "  <thead>\n",
       "    <tr style=\"text-align: right;\">\n",
       "      <th></th>\n",
       "      <th>STATISTIC</th>\n",
       "      <th>Statistic</th>\n",
       "      <th>TLIST(A1)</th>\n",
       "      <th>Year</th>\n",
       "      <th>C03388V04075</th>\n",
       "      <th>Type of Land Use</th>\n",
       "      <th>C02196V02652</th>\n",
       "      <th>Region</th>\n",
       "      <th>UNIT</th>\n",
       "      <th>VALUE</th>\n",
       "    </tr>\n",
       "  </thead>\n",
       "  <tbody>\n",
       "    <tr>\n",
       "      <th>0</th>\n",
       "      <td>ARA02C01</td>\n",
       "      <td>Median Price per Acre</td>\n",
       "      <td>2013</td>\n",
       "      <td>2013</td>\n",
       "      <td>1</td>\n",
       "      <td>All Land Types</td>\n",
       "      <td>-</td>\n",
       "      <td>State</td>\n",
       "      <td>Euro per Acre</td>\n",
       "      <td>6389.8</td>\n",
       "    </tr>\n",
       "    <tr>\n",
       "      <th>1</th>\n",
       "      <td>ARA02C01</td>\n",
       "      <td>Median Price per Acre</td>\n",
       "      <td>2013</td>\n",
       "      <td>2013</td>\n",
       "      <td>1</td>\n",
       "      <td>All Land Types</td>\n",
       "      <td>IE11</td>\n",
       "      <td>Border</td>\n",
       "      <td>Euro per Acre</td>\n",
       "      <td>4685.2</td>\n",
       "    </tr>\n",
       "    <tr>\n",
       "      <th>2</th>\n",
       "      <td>ARA02C01</td>\n",
       "      <td>Median Price per Acre</td>\n",
       "      <td>2013</td>\n",
       "      <td>2013</td>\n",
       "      <td>1</td>\n",
       "      <td>All Land Types</td>\n",
       "      <td>IE12</td>\n",
       "      <td>Midland</td>\n",
       "      <td>Euro per Acre</td>\n",
       "      <td>7114.6</td>\n",
       "    </tr>\n",
       "  </tbody>\n",
       "</table>\n",
       "</div>"
      ],
      "text/plain": [
       "  STATISTIC              Statistic  TLIST(A1)  Year  C03388V04075  \\\n",
       "0  ARA02C01  Median Price per Acre       2013  2013             1   \n",
       "1  ARA02C01  Median Price per Acre       2013  2013             1   \n",
       "2  ARA02C01  Median Price per Acre       2013  2013             1   \n",
       "\n",
       "  Type of Land Use C02196V02652   Region           UNIT   VALUE  \n",
       "0   All Land Types            -    State  Euro per Acre  6389.8  \n",
       "1   All Land Types         IE11   Border  Euro per Acre  4685.2  \n",
       "2   All Land Types         IE12  Midland  Euro per Acre  7114.6  "
      ]
     },
     "execution_count": 6,
     "metadata": {},
     "output_type": "execute_result"
    }
   ],
   "source": [
    "df_land.head(3)"
   ]
  },
  {
   "cell_type": "code",
   "execution_count": 7,
   "id": "db4494e8",
   "metadata": {},
   "outputs": [
    {
     "data": {
      "text/html": [
       "<div>\n",
       "<style scoped>\n",
       "    .dataframe tbody tr th:only-of-type {\n",
       "        vertical-align: middle;\n",
       "    }\n",
       "\n",
       "    .dataframe tbody tr th {\n",
       "        vertical-align: top;\n",
       "    }\n",
       "\n",
       "    .dataframe thead th {\n",
       "        text-align: right;\n",
       "    }\n",
       "</style>\n",
       "<table border=\"1\" class=\"dataframe\">\n",
       "  <thead>\n",
       "    <tr style=\"text-align: right;\">\n",
       "      <th></th>\n",
       "      <th>STATISTIC</th>\n",
       "      <th>Statistic</th>\n",
       "      <th>TLIST(A1)</th>\n",
       "      <th>Year</th>\n",
       "      <th>C03388V04075</th>\n",
       "      <th>Type of Land Use</th>\n",
       "      <th>C02196V02652</th>\n",
       "      <th>Region</th>\n",
       "      <th>UNIT</th>\n",
       "      <th>VALUE</th>\n",
       "    </tr>\n",
       "  </thead>\n",
       "  <tbody>\n",
       "    <tr>\n",
       "      <th>1725</th>\n",
       "      <td>ARA02C08</td>\n",
       "      <td>Value of Land Sold</td>\n",
       "      <td>2020</td>\n",
       "      <td>2020</td>\n",
       "      <td>3</td>\n",
       "      <td>Permanent Grassland</td>\n",
       "      <td>IE23</td>\n",
       "      <td>Mid-West</td>\n",
       "      <td>Euro</td>\n",
       "      <td>31455465</td>\n",
       "    </tr>\n",
       "    <tr>\n",
       "      <th>1726</th>\n",
       "      <td>ARA02C08</td>\n",
       "      <td>Value of Land Sold</td>\n",
       "      <td>2020</td>\n",
       "      <td>2020</td>\n",
       "      <td>3</td>\n",
       "      <td>Permanent Grassland</td>\n",
       "      <td>IE24</td>\n",
       "      <td>South-East</td>\n",
       "      <td>Euro</td>\n",
       "      <td>17396112.2</td>\n",
       "    </tr>\n",
       "    <tr>\n",
       "      <th>1727</th>\n",
       "      <td>ARA02C08</td>\n",
       "      <td>Value of Land Sold</td>\n",
       "      <td>2020</td>\n",
       "      <td>2020</td>\n",
       "      <td>3</td>\n",
       "      <td>Permanent Grassland</td>\n",
       "      <td>IE25</td>\n",
       "      <td>South-West</td>\n",
       "      <td>Euro</td>\n",
       "      <td>4446462</td>\n",
       "    </tr>\n",
       "  </tbody>\n",
       "</table>\n",
       "</div>"
      ],
      "text/plain": [
       "     STATISTIC           Statistic  TLIST(A1)  Year  C03388V04075  \\\n",
       "1725  ARA02C08  Value of Land Sold       2020  2020             3   \n",
       "1726  ARA02C08  Value of Land Sold       2020  2020             3   \n",
       "1727  ARA02C08  Value of Land Sold       2020  2020             3   \n",
       "\n",
       "         Type of Land Use C02196V02652      Region  UNIT       VALUE  \n",
       "1725  Permanent Grassland         IE23    Mid-West  Euro    31455465  \n",
       "1726  Permanent Grassland         IE24  South-East  Euro  17396112.2  \n",
       "1727  Permanent Grassland         IE25  South-West  Euro     4446462  "
      ]
     },
     "execution_count": 7,
     "metadata": {},
     "output_type": "execute_result"
    }
   ],
   "source": [
    "df_land.tail(3)"
   ]
  },
  {
   "cell_type": "code",
   "execution_count": 8,
   "id": "53936d46",
   "metadata": {},
   "outputs": [
    {
     "data": {
      "text/plain": [
       "(1728, 10)"
      ]
     },
     "execution_count": 8,
     "metadata": {},
     "output_type": "execute_result"
    }
   ],
   "source": [
    "df_land.shape"
   ]
  },
  {
   "cell_type": "code",
   "execution_count": 36,
   "id": "6924e59c",
   "metadata": {},
   "outputs": [
    {
     "data": {
      "text/plain": [
       "Index(['STATISTIC', 'Statistic', 'TLIST(A1)', 'Year', 'C03388V04075',\n",
       "       'Type of Land Use', 'C02196V02652', 'Region', 'UNIT', 'VALUE'],\n",
       "      dtype='object')"
      ]
     },
     "execution_count": 36,
     "metadata": {},
     "output_type": "execute_result"
    }
   ],
   "source": [
    "df_land.columns"
   ]
  },
  {
   "cell_type": "code",
   "execution_count": 37,
   "id": "456453d4",
   "metadata": {},
   "outputs": [
    {
     "data": {
      "text/plain": [
       "STATISTIC           object\n",
       "Statistic           object\n",
       "TLIST(A1)            int64\n",
       "Year                 int64\n",
       "C03388V04075         int64\n",
       "Type of Land Use    object\n",
       "C02196V02652        object\n",
       "Region              object\n",
       "UNIT                object\n",
       "VALUE               object\n",
       "dtype: object"
      ]
     },
     "execution_count": 37,
     "metadata": {},
     "output_type": "execute_result"
    }
   ],
   "source": [
    "df_land.dtypes"
   ]
  },
  {
   "cell_type": "markdown",
   "id": "292e4861",
   "metadata": {},
   "source": [
    "vimos que a coluna VALUE deveria ser floar mas está como object, então decidimos mudar o tipo para float"
   ]
  },
  {
   "cell_type": "code",
   "execution_count": 38,
   "id": "d95073be",
   "metadata": {},
   "outputs": [
    {
     "ename": "ValueError",
     "evalue": "could not convert string to float: '.'",
     "output_type": "error",
     "traceback": [
      "\u001b[1;31m---------------------------------------------------------------------------\u001b[0m",
      "\u001b[1;31mValueError\u001b[0m                                Traceback (most recent call last)",
      "\u001b[1;32m~\\AppData\\Local\\Temp/ipykernel_27608/3876639436.py\u001b[0m in \u001b[0;36m<module>\u001b[1;34m\u001b[0m\n\u001b[1;32m----> 1\u001b[1;33m \u001b[0mdf_land\u001b[0m\u001b[1;33m[\u001b[0m\u001b[1;34m\"VALUE\"\u001b[0m\u001b[1;33m]\u001b[0m \u001b[1;33m=\u001b[0m \u001b[0mdf_land\u001b[0m\u001b[1;33m[\u001b[0m\u001b[1;34m\"VALUE\"\u001b[0m\u001b[1;33m]\u001b[0m\u001b[1;33m.\u001b[0m\u001b[0mastype\u001b[0m\u001b[1;33m(\u001b[0m\u001b[1;34m\"float\"\u001b[0m\u001b[1;33m)\u001b[0m\u001b[1;33m\u001b[0m\u001b[1;33m\u001b[0m\u001b[0m\n\u001b[0m",
      "\u001b[1;32m~\\AppData\\Local\\Programs\\Python\\Python39\\lib\\site-packages\\pandas\\core\\generic.py\u001b[0m in \u001b[0;36mastype\u001b[1;34m(self, dtype, copy, errors)\u001b[0m\n\u001b[0;32m   5813\u001b[0m         \u001b[1;32melse\u001b[0m\u001b[1;33m:\u001b[0m\u001b[1;33m\u001b[0m\u001b[1;33m\u001b[0m\u001b[0m\n\u001b[0;32m   5814\u001b[0m             \u001b[1;31m# else, only a single dtype is given\u001b[0m\u001b[1;33m\u001b[0m\u001b[1;33m\u001b[0m\u001b[0m\n\u001b[1;32m-> 5815\u001b[1;33m             \u001b[0mnew_data\u001b[0m \u001b[1;33m=\u001b[0m \u001b[0mself\u001b[0m\u001b[1;33m.\u001b[0m\u001b[0m_mgr\u001b[0m\u001b[1;33m.\u001b[0m\u001b[0mastype\u001b[0m\u001b[1;33m(\u001b[0m\u001b[0mdtype\u001b[0m\u001b[1;33m=\u001b[0m\u001b[0mdtype\u001b[0m\u001b[1;33m,\u001b[0m \u001b[0mcopy\u001b[0m\u001b[1;33m=\u001b[0m\u001b[0mcopy\u001b[0m\u001b[1;33m,\u001b[0m \u001b[0merrors\u001b[0m\u001b[1;33m=\u001b[0m\u001b[0merrors\u001b[0m\u001b[1;33m)\u001b[0m\u001b[1;33m\u001b[0m\u001b[1;33m\u001b[0m\u001b[0m\n\u001b[0m\u001b[0;32m   5816\u001b[0m             \u001b[1;32mreturn\u001b[0m \u001b[0mself\u001b[0m\u001b[1;33m.\u001b[0m\u001b[0m_constructor\u001b[0m\u001b[1;33m(\u001b[0m\u001b[0mnew_data\u001b[0m\u001b[1;33m)\u001b[0m\u001b[1;33m.\u001b[0m\u001b[0m__finalize__\u001b[0m\u001b[1;33m(\u001b[0m\u001b[0mself\u001b[0m\u001b[1;33m,\u001b[0m \u001b[0mmethod\u001b[0m\u001b[1;33m=\u001b[0m\u001b[1;34m\"astype\"\u001b[0m\u001b[1;33m)\u001b[0m\u001b[1;33m\u001b[0m\u001b[1;33m\u001b[0m\u001b[0m\n\u001b[0;32m   5817\u001b[0m \u001b[1;33m\u001b[0m\u001b[0m\n",
      "\u001b[1;32m~\\AppData\\Local\\Programs\\Python\\Python39\\lib\\site-packages\\pandas\\core\\internals\\managers.py\u001b[0m in \u001b[0;36mastype\u001b[1;34m(self, dtype, copy, errors)\u001b[0m\n\u001b[0;32m    416\u001b[0m \u001b[1;33m\u001b[0m\u001b[0m\n\u001b[0;32m    417\u001b[0m     \u001b[1;32mdef\u001b[0m \u001b[0mastype\u001b[0m\u001b[1;33m(\u001b[0m\u001b[0mself\u001b[0m\u001b[1;33m:\u001b[0m \u001b[0mT\u001b[0m\u001b[1;33m,\u001b[0m \u001b[0mdtype\u001b[0m\u001b[1;33m,\u001b[0m \u001b[0mcopy\u001b[0m\u001b[1;33m:\u001b[0m \u001b[0mbool\u001b[0m \u001b[1;33m=\u001b[0m \u001b[1;32mFalse\u001b[0m\u001b[1;33m,\u001b[0m \u001b[0merrors\u001b[0m\u001b[1;33m:\u001b[0m \u001b[0mstr\u001b[0m \u001b[1;33m=\u001b[0m \u001b[1;34m\"raise\"\u001b[0m\u001b[1;33m)\u001b[0m \u001b[1;33m->\u001b[0m \u001b[0mT\u001b[0m\u001b[1;33m:\u001b[0m\u001b[1;33m\u001b[0m\u001b[1;33m\u001b[0m\u001b[0m\n\u001b[1;32m--> 418\u001b[1;33m         \u001b[1;32mreturn\u001b[0m \u001b[0mself\u001b[0m\u001b[1;33m.\u001b[0m\u001b[0mapply\u001b[0m\u001b[1;33m(\u001b[0m\u001b[1;34m\"astype\"\u001b[0m\u001b[1;33m,\u001b[0m \u001b[0mdtype\u001b[0m\u001b[1;33m=\u001b[0m\u001b[0mdtype\u001b[0m\u001b[1;33m,\u001b[0m \u001b[0mcopy\u001b[0m\u001b[1;33m=\u001b[0m\u001b[0mcopy\u001b[0m\u001b[1;33m,\u001b[0m \u001b[0merrors\u001b[0m\u001b[1;33m=\u001b[0m\u001b[0merrors\u001b[0m\u001b[1;33m)\u001b[0m\u001b[1;33m\u001b[0m\u001b[1;33m\u001b[0m\u001b[0m\n\u001b[0m\u001b[0;32m    419\u001b[0m \u001b[1;33m\u001b[0m\u001b[0m\n\u001b[0;32m    420\u001b[0m     def convert(\n",
      "\u001b[1;32m~\\AppData\\Local\\Programs\\Python\\Python39\\lib\\site-packages\\pandas\\core\\internals\\managers.py\u001b[0m in \u001b[0;36mapply\u001b[1;34m(self, f, align_keys, ignore_failures, **kwargs)\u001b[0m\n\u001b[0;32m    325\u001b[0m                     \u001b[0mapplied\u001b[0m \u001b[1;33m=\u001b[0m \u001b[0mb\u001b[0m\u001b[1;33m.\u001b[0m\u001b[0mapply\u001b[0m\u001b[1;33m(\u001b[0m\u001b[0mf\u001b[0m\u001b[1;33m,\u001b[0m \u001b[1;33m**\u001b[0m\u001b[0mkwargs\u001b[0m\u001b[1;33m)\u001b[0m\u001b[1;33m\u001b[0m\u001b[1;33m\u001b[0m\u001b[0m\n\u001b[0;32m    326\u001b[0m                 \u001b[1;32melse\u001b[0m\u001b[1;33m:\u001b[0m\u001b[1;33m\u001b[0m\u001b[1;33m\u001b[0m\u001b[0m\n\u001b[1;32m--> 327\u001b[1;33m                     \u001b[0mapplied\u001b[0m \u001b[1;33m=\u001b[0m \u001b[0mgetattr\u001b[0m\u001b[1;33m(\u001b[0m\u001b[0mb\u001b[0m\u001b[1;33m,\u001b[0m \u001b[0mf\u001b[0m\u001b[1;33m)\u001b[0m\u001b[1;33m(\u001b[0m\u001b[1;33m**\u001b[0m\u001b[0mkwargs\u001b[0m\u001b[1;33m)\u001b[0m\u001b[1;33m\u001b[0m\u001b[1;33m\u001b[0m\u001b[0m\n\u001b[0m\u001b[0;32m    328\u001b[0m             \u001b[1;32mexcept\u001b[0m \u001b[1;33m(\u001b[0m\u001b[0mTypeError\u001b[0m\u001b[1;33m,\u001b[0m \u001b[0mNotImplementedError\u001b[0m\u001b[1;33m)\u001b[0m\u001b[1;33m:\u001b[0m\u001b[1;33m\u001b[0m\u001b[1;33m\u001b[0m\u001b[0m\n\u001b[0;32m    329\u001b[0m                 \u001b[1;32mif\u001b[0m \u001b[1;32mnot\u001b[0m \u001b[0mignore_failures\u001b[0m\u001b[1;33m:\u001b[0m\u001b[1;33m\u001b[0m\u001b[1;33m\u001b[0m\u001b[0m\n",
      "\u001b[1;32m~\\AppData\\Local\\Programs\\Python\\Python39\\lib\\site-packages\\pandas\\core\\internals\\blocks.py\u001b[0m in \u001b[0;36mastype\u001b[1;34m(self, dtype, copy, errors)\u001b[0m\n\u001b[0;32m    589\u001b[0m         \u001b[0mvalues\u001b[0m \u001b[1;33m=\u001b[0m \u001b[0mself\u001b[0m\u001b[1;33m.\u001b[0m\u001b[0mvalues\u001b[0m\u001b[1;33m\u001b[0m\u001b[1;33m\u001b[0m\u001b[0m\n\u001b[0;32m    590\u001b[0m \u001b[1;33m\u001b[0m\u001b[0m\n\u001b[1;32m--> 591\u001b[1;33m         \u001b[0mnew_values\u001b[0m \u001b[1;33m=\u001b[0m \u001b[0mastype_array_safe\u001b[0m\u001b[1;33m(\u001b[0m\u001b[0mvalues\u001b[0m\u001b[1;33m,\u001b[0m \u001b[0mdtype\u001b[0m\u001b[1;33m,\u001b[0m \u001b[0mcopy\u001b[0m\u001b[1;33m=\u001b[0m\u001b[0mcopy\u001b[0m\u001b[1;33m,\u001b[0m \u001b[0merrors\u001b[0m\u001b[1;33m=\u001b[0m\u001b[0merrors\u001b[0m\u001b[1;33m)\u001b[0m\u001b[1;33m\u001b[0m\u001b[1;33m\u001b[0m\u001b[0m\n\u001b[0m\u001b[0;32m    592\u001b[0m \u001b[1;33m\u001b[0m\u001b[0m\n\u001b[0;32m    593\u001b[0m         \u001b[0mnew_values\u001b[0m \u001b[1;33m=\u001b[0m \u001b[0mmaybe_coerce_values\u001b[0m\u001b[1;33m(\u001b[0m\u001b[0mnew_values\u001b[0m\u001b[1;33m)\u001b[0m\u001b[1;33m\u001b[0m\u001b[1;33m\u001b[0m\u001b[0m\n",
      "\u001b[1;32m~\\AppData\\Local\\Programs\\Python\\Python39\\lib\\site-packages\\pandas\\core\\dtypes\\cast.py\u001b[0m in \u001b[0;36mastype_array_safe\u001b[1;34m(values, dtype, copy, errors)\u001b[0m\n\u001b[0;32m   1307\u001b[0m \u001b[1;33m\u001b[0m\u001b[0m\n\u001b[0;32m   1308\u001b[0m     \u001b[1;32mtry\u001b[0m\u001b[1;33m:\u001b[0m\u001b[1;33m\u001b[0m\u001b[1;33m\u001b[0m\u001b[0m\n\u001b[1;32m-> 1309\u001b[1;33m         \u001b[0mnew_values\u001b[0m \u001b[1;33m=\u001b[0m \u001b[0mastype_array\u001b[0m\u001b[1;33m(\u001b[0m\u001b[0mvalues\u001b[0m\u001b[1;33m,\u001b[0m \u001b[0mdtype\u001b[0m\u001b[1;33m,\u001b[0m \u001b[0mcopy\u001b[0m\u001b[1;33m=\u001b[0m\u001b[0mcopy\u001b[0m\u001b[1;33m)\u001b[0m\u001b[1;33m\u001b[0m\u001b[1;33m\u001b[0m\u001b[0m\n\u001b[0m\u001b[0;32m   1310\u001b[0m     \u001b[1;32mexcept\u001b[0m \u001b[1;33m(\u001b[0m\u001b[0mValueError\u001b[0m\u001b[1;33m,\u001b[0m \u001b[0mTypeError\u001b[0m\u001b[1;33m)\u001b[0m\u001b[1;33m:\u001b[0m\u001b[1;33m\u001b[0m\u001b[1;33m\u001b[0m\u001b[0m\n\u001b[0;32m   1311\u001b[0m         \u001b[1;31m# e.g. astype_nansafe can fail on object-dtype of strings\u001b[0m\u001b[1;33m\u001b[0m\u001b[1;33m\u001b[0m\u001b[0m\n",
      "\u001b[1;32m~\\AppData\\Local\\Programs\\Python\\Python39\\lib\\site-packages\\pandas\\core\\dtypes\\cast.py\u001b[0m in \u001b[0;36mastype_array\u001b[1;34m(values, dtype, copy)\u001b[0m\n\u001b[0;32m   1255\u001b[0m \u001b[1;33m\u001b[0m\u001b[0m\n\u001b[0;32m   1256\u001b[0m     \u001b[1;32melse\u001b[0m\u001b[1;33m:\u001b[0m\u001b[1;33m\u001b[0m\u001b[1;33m\u001b[0m\u001b[0m\n\u001b[1;32m-> 1257\u001b[1;33m         \u001b[0mvalues\u001b[0m \u001b[1;33m=\u001b[0m \u001b[0mastype_nansafe\u001b[0m\u001b[1;33m(\u001b[0m\u001b[0mvalues\u001b[0m\u001b[1;33m,\u001b[0m \u001b[0mdtype\u001b[0m\u001b[1;33m,\u001b[0m \u001b[0mcopy\u001b[0m\u001b[1;33m=\u001b[0m\u001b[0mcopy\u001b[0m\u001b[1;33m)\u001b[0m\u001b[1;33m\u001b[0m\u001b[1;33m\u001b[0m\u001b[0m\n\u001b[0m\u001b[0;32m   1258\u001b[0m \u001b[1;33m\u001b[0m\u001b[0m\n\u001b[0;32m   1259\u001b[0m     \u001b[1;31m# in pandas we don't store numpy str dtypes, so convert to object\u001b[0m\u001b[1;33m\u001b[0m\u001b[1;33m\u001b[0m\u001b[0m\n",
      "\u001b[1;32m~\\AppData\\Local\\Programs\\Python\\Python39\\lib\\site-packages\\pandas\\core\\dtypes\\cast.py\u001b[0m in \u001b[0;36mastype_nansafe\u001b[1;34m(arr, dtype, copy, skipna)\u001b[0m\n\u001b[0;32m   1199\u001b[0m     \u001b[1;32mif\u001b[0m \u001b[0mcopy\u001b[0m \u001b[1;32mor\u001b[0m \u001b[0mis_object_dtype\u001b[0m\u001b[1;33m(\u001b[0m\u001b[0marr\u001b[0m\u001b[1;33m.\u001b[0m\u001b[0mdtype\u001b[0m\u001b[1;33m)\u001b[0m \u001b[1;32mor\u001b[0m \u001b[0mis_object_dtype\u001b[0m\u001b[1;33m(\u001b[0m\u001b[0mdtype\u001b[0m\u001b[1;33m)\u001b[0m\u001b[1;33m:\u001b[0m\u001b[1;33m\u001b[0m\u001b[1;33m\u001b[0m\u001b[0m\n\u001b[0;32m   1200\u001b[0m         \u001b[1;31m# Explicit copy, or required since NumPy can't view from / to object.\u001b[0m\u001b[1;33m\u001b[0m\u001b[1;33m\u001b[0m\u001b[0m\n\u001b[1;32m-> 1201\u001b[1;33m         \u001b[1;32mreturn\u001b[0m \u001b[0marr\u001b[0m\u001b[1;33m.\u001b[0m\u001b[0mastype\u001b[0m\u001b[1;33m(\u001b[0m\u001b[0mdtype\u001b[0m\u001b[1;33m,\u001b[0m \u001b[0mcopy\u001b[0m\u001b[1;33m=\u001b[0m\u001b[1;32mTrue\u001b[0m\u001b[1;33m)\u001b[0m\u001b[1;33m\u001b[0m\u001b[1;33m\u001b[0m\u001b[0m\n\u001b[0m\u001b[0;32m   1202\u001b[0m \u001b[1;33m\u001b[0m\u001b[0m\n\u001b[0;32m   1203\u001b[0m     \u001b[1;32mreturn\u001b[0m \u001b[0marr\u001b[0m\u001b[1;33m.\u001b[0m\u001b[0mastype\u001b[0m\u001b[1;33m(\u001b[0m\u001b[0mdtype\u001b[0m\u001b[1;33m,\u001b[0m \u001b[0mcopy\u001b[0m\u001b[1;33m=\u001b[0m\u001b[0mcopy\u001b[0m\u001b[1;33m)\u001b[0m\u001b[1;33m\u001b[0m\u001b[1;33m\u001b[0m\u001b[0m\n",
      "\u001b[1;31mValueError\u001b[0m: could not convert string to float: '.'"
     ]
    }
   ],
   "source": [
    "df_land[\"VALUE\"] = df_land[\"VALUE\"].astype(\"float\")"
   ]
  },
  {
   "cell_type": "code",
   "execution_count": 9,
   "id": "66c088bb",
   "metadata": {},
   "outputs": [
    {
     "name": "stdout",
     "output_type": "stream",
     "text": [
      ".\n"
     ]
    }
   ],
   "source": [
    "non_floats = []\n",
    "for value in df_land[\"VALUE\"]:\n",
    "    try:\n",
    "        float_ = float(value)\n",
    "    except:\n",
    "        if not value in non_floats:\n",
    "            print(value)\n",
    "            non_floats.append(value)"
   ]
  },
  {
   "cell_type": "code",
   "execution_count": 10,
   "id": "a527fb30",
   "metadata": {},
   "outputs": [
    {
     "data": {
      "text/plain": [
       "['.']"
      ]
     },
     "execution_count": 10,
     "metadata": {},
     "output_type": "execute_result"
    }
   ],
   "source": [
    "non_floats"
   ]
  },
  {
   "cell_type": "code",
   "execution_count": 11,
   "id": "a72035f1",
   "metadata": {},
   "outputs": [],
   "source": [
    "mask = df_land[\"VALUE\"] != \".\""
   ]
  },
  {
   "cell_type": "code",
   "execution_count": 12,
   "id": "fe03fe39",
   "metadata": {},
   "outputs": [
    {
     "data": {
      "text/plain": [
       "0       True\n",
       "1       True\n",
       "2       True\n",
       "3       True\n",
       "4       True\n",
       "        ... \n",
       "1723    True\n",
       "1724    True\n",
       "1725    True\n",
       "1726    True\n",
       "1727    True\n",
       "Name: VALUE, Length: 1728, dtype: bool"
      ]
     },
     "execution_count": 12,
     "metadata": {},
     "output_type": "execute_result"
    }
   ],
   "source": [
    "mask"
   ]
  },
  {
   "cell_type": "code",
   "execution_count": 13,
   "id": "bd1f1c55",
   "metadata": {
    "scrolled": true
   },
   "outputs": [],
   "source": [
    "df_land = df_land[mask].copy()"
   ]
  },
  {
   "cell_type": "code",
   "execution_count": 16,
   "id": "806d8f57",
   "metadata": {},
   "outputs": [
    {
     "data": {
      "text/plain": [
       "(1608, 10)"
      ]
     },
     "execution_count": 16,
     "metadata": {},
     "output_type": "execute_result"
    }
   ],
   "source": [
    "df_land.shape"
   ]
  },
  {
   "cell_type": "code",
   "execution_count": 14,
   "id": "2061d4bb",
   "metadata": {},
   "outputs": [],
   "source": [
    "df_land[\"VALUE\"] = df_land[\"VALUE\"].astype(\"float\")"
   ]
  },
  {
   "cell_type": "code",
   "execution_count": 44,
   "id": "d8aeb74b",
   "metadata": {},
   "outputs": [
    {
     "data": {
      "text/plain": [
       "STATISTIC            object\n",
       "Statistic            object\n",
       "TLIST(A1)             int64\n",
       "Year                  int64\n",
       "C03388V04075          int64\n",
       "Type of Land Use     object\n",
       "C02196V02652         object\n",
       "Region               object\n",
       "UNIT                 object\n",
       "VALUE               float64\n",
       "dtype: object"
      ]
     },
     "execution_count": 44,
     "metadata": {},
     "output_type": "execute_result"
    }
   ],
   "source": [
    "df_land.dtypes"
   ]
  },
  {
   "cell_type": "code",
   "execution_count": 45,
   "id": "65f0c011",
   "metadata": {
    "scrolled": true
   },
   "outputs": [
    {
     "data": {
      "text/plain": [
       "STATISTIC           0\n",
       "Statistic           0\n",
       "TLIST(A1)           0\n",
       "Year                0\n",
       "C03388V04075        0\n",
       "Type of Land Use    0\n",
       "C02196V02652        0\n",
       "Region              0\n",
       "UNIT                0\n",
       "VALUE               0\n",
       "dtype: int64"
      ]
     },
     "execution_count": 45,
     "metadata": {},
     "output_type": "execute_result"
    }
   ],
   "source": [
    "df_land.isna().sum()"
   ]
  },
  {
   "cell_type": "code",
   "execution_count": 46,
   "id": "2d326c0e",
   "metadata": {},
   "outputs": [
    {
     "data": {
      "text/html": [
       "<div>\n",
       "<style scoped>\n",
       "    .dataframe tbody tr th:only-of-type {\n",
       "        vertical-align: middle;\n",
       "    }\n",
       "\n",
       "    .dataframe tbody tr th {\n",
       "        vertical-align: top;\n",
       "    }\n",
       "\n",
       "    .dataframe thead th {\n",
       "        text-align: right;\n",
       "    }\n",
       "</style>\n",
       "<table border=\"1\" class=\"dataframe\">\n",
       "  <thead>\n",
       "    <tr style=\"text-align: right;\">\n",
       "      <th></th>\n",
       "      <th>STATISTIC</th>\n",
       "      <th>Statistic</th>\n",
       "      <th>TLIST(A1)</th>\n",
       "      <th>Year</th>\n",
       "      <th>C03388V04075</th>\n",
       "      <th>Type of Land Use</th>\n",
       "      <th>C02196V02652</th>\n",
       "      <th>Region</th>\n",
       "      <th>UNIT</th>\n",
       "      <th>VALUE</th>\n",
       "    </tr>\n",
       "  </thead>\n",
       "  <tbody>\n",
       "  </tbody>\n",
       "</table>\n",
       "</div>"
      ],
      "text/plain": [
       "Empty DataFrame\n",
       "Columns: [STATISTIC, Statistic, TLIST(A1), Year, C03388V04075, Type of Land Use, C02196V02652, Region, UNIT, VALUE]\n",
       "Index: []"
      ]
     },
     "execution_count": 46,
     "metadata": {},
     "output_type": "execute_result"
    }
   ],
   "source": [
    "df_land[df_land[\"TLIST(A1)\"]!=df_land[\"Year\"]]"
   ]
  },
  {
   "cell_type": "code",
   "execution_count": 18,
   "id": "8f765266",
   "metadata": {},
   "outputs": [],
   "source": [
    "df_land.drop(columns=[\"STATISTIC\",\"TLIST(A1)\"], inplace = True)"
   ]
  },
  {
   "cell_type": "code",
   "execution_count": 48,
   "id": "d052f96d",
   "metadata": {},
   "outputs": [
    {
     "data": {
      "text/html": [
       "<div>\n",
       "<style scoped>\n",
       "    .dataframe tbody tr th:only-of-type {\n",
       "        vertical-align: middle;\n",
       "    }\n",
       "\n",
       "    .dataframe tbody tr th {\n",
       "        vertical-align: top;\n",
       "    }\n",
       "\n",
       "    .dataframe thead th {\n",
       "        text-align: right;\n",
       "    }\n",
       "</style>\n",
       "<table border=\"1\" class=\"dataframe\">\n",
       "  <thead>\n",
       "    <tr style=\"text-align: right;\">\n",
       "      <th></th>\n",
       "      <th>Statistic</th>\n",
       "      <th>Year</th>\n",
       "      <th>C03388V04075</th>\n",
       "      <th>Type of Land Use</th>\n",
       "      <th>C02196V02652</th>\n",
       "      <th>Region</th>\n",
       "      <th>UNIT</th>\n",
       "      <th>VALUE</th>\n",
       "    </tr>\n",
       "  </thead>\n",
       "  <tbody>\n",
       "    <tr>\n",
       "      <th>0</th>\n",
       "      <td>Median Price per Acre</td>\n",
       "      <td>2013</td>\n",
       "      <td>1</td>\n",
       "      <td>All Land Types</td>\n",
       "      <td>-</td>\n",
       "      <td>State</td>\n",
       "      <td>Euro per Acre</td>\n",
       "      <td>6389.8</td>\n",
       "    </tr>\n",
       "    <tr>\n",
       "      <th>1</th>\n",
       "      <td>Median Price per Acre</td>\n",
       "      <td>2013</td>\n",
       "      <td>1</td>\n",
       "      <td>All Land Types</td>\n",
       "      <td>IE11</td>\n",
       "      <td>Border</td>\n",
       "      <td>Euro per Acre</td>\n",
       "      <td>4685.2</td>\n",
       "    </tr>\n",
       "    <tr>\n",
       "      <th>2</th>\n",
       "      <td>Median Price per Acre</td>\n",
       "      <td>2013</td>\n",
       "      <td>1</td>\n",
       "      <td>All Land Types</td>\n",
       "      <td>IE12</td>\n",
       "      <td>Midland</td>\n",
       "      <td>Euro per Acre</td>\n",
       "      <td>7114.6</td>\n",
       "    </tr>\n",
       "    <tr>\n",
       "      <th>3</th>\n",
       "      <td>Median Price per Acre</td>\n",
       "      <td>2013</td>\n",
       "      <td>1</td>\n",
       "      <td>All Land Types</td>\n",
       "      <td>IE13</td>\n",
       "      <td>West</td>\n",
       "      <td>Euro per Acre</td>\n",
       "      <td>4496.5</td>\n",
       "    </tr>\n",
       "    <tr>\n",
       "      <th>4</th>\n",
       "      <td>Median Price per Acre</td>\n",
       "      <td>2013</td>\n",
       "      <td>1</td>\n",
       "      <td>All Land Types</td>\n",
       "      <td>IE21</td>\n",
       "      <td>Dublin</td>\n",
       "      <td>Euro per Acre</td>\n",
       "      <td>10117.2</td>\n",
       "    </tr>\n",
       "    <tr>\n",
       "      <th>...</th>\n",
       "      <td>...</td>\n",
       "      <td>...</td>\n",
       "      <td>...</td>\n",
       "      <td>...</td>\n",
       "      <td>...</td>\n",
       "      <td>...</td>\n",
       "      <td>...</td>\n",
       "      <td>...</td>\n",
       "    </tr>\n",
       "    <tr>\n",
       "      <th>1723</th>\n",
       "      <td>Value of Land Sold</td>\n",
       "      <td>2020</td>\n",
       "      <td>3</td>\n",
       "      <td>Permanent Grassland</td>\n",
       "      <td>IE21</td>\n",
       "      <td>Dublin</td>\n",
       "      <td>Euro</td>\n",
       "      <td>2670000.0</td>\n",
       "    </tr>\n",
       "    <tr>\n",
       "      <th>1724</th>\n",
       "      <td>Value of Land Sold</td>\n",
       "      <td>2020</td>\n",
       "      <td>3</td>\n",
       "      <td>Permanent Grassland</td>\n",
       "      <td>IE22</td>\n",
       "      <td>Mid-East</td>\n",
       "      <td>Euro</td>\n",
       "      <td>28863564.4</td>\n",
       "    </tr>\n",
       "    <tr>\n",
       "      <th>1725</th>\n",
       "      <td>Value of Land Sold</td>\n",
       "      <td>2020</td>\n",
       "      <td>3</td>\n",
       "      <td>Permanent Grassland</td>\n",
       "      <td>IE23</td>\n",
       "      <td>Mid-West</td>\n",
       "      <td>Euro</td>\n",
       "      <td>31455465.0</td>\n",
       "    </tr>\n",
       "    <tr>\n",
       "      <th>1726</th>\n",
       "      <td>Value of Land Sold</td>\n",
       "      <td>2020</td>\n",
       "      <td>3</td>\n",
       "      <td>Permanent Grassland</td>\n",
       "      <td>IE24</td>\n",
       "      <td>South-East</td>\n",
       "      <td>Euro</td>\n",
       "      <td>17396112.2</td>\n",
       "    </tr>\n",
       "    <tr>\n",
       "      <th>1727</th>\n",
       "      <td>Value of Land Sold</td>\n",
       "      <td>2020</td>\n",
       "      <td>3</td>\n",
       "      <td>Permanent Grassland</td>\n",
       "      <td>IE25</td>\n",
       "      <td>South-West</td>\n",
       "      <td>Euro</td>\n",
       "      <td>4446462.0</td>\n",
       "    </tr>\n",
       "  </tbody>\n",
       "</table>\n",
       "<p>1608 rows × 8 columns</p>\n",
       "</div>"
      ],
      "text/plain": [
       "                  Statistic  Year  C03388V04075     Type of Land Use  \\\n",
       "0     Median Price per Acre  2013             1       All Land Types   \n",
       "1     Median Price per Acre  2013             1       All Land Types   \n",
       "2     Median Price per Acre  2013             1       All Land Types   \n",
       "3     Median Price per Acre  2013             1       All Land Types   \n",
       "4     Median Price per Acre  2013             1       All Land Types   \n",
       "...                     ...   ...           ...                  ...   \n",
       "1723     Value of Land Sold  2020             3  Permanent Grassland   \n",
       "1724     Value of Land Sold  2020             3  Permanent Grassland   \n",
       "1725     Value of Land Sold  2020             3  Permanent Grassland   \n",
       "1726     Value of Land Sold  2020             3  Permanent Grassland   \n",
       "1727     Value of Land Sold  2020             3  Permanent Grassland   \n",
       "\n",
       "     C02196V02652      Region           UNIT       VALUE  \n",
       "0               -       State  Euro per Acre      6389.8  \n",
       "1            IE11      Border  Euro per Acre      4685.2  \n",
       "2            IE12     Midland  Euro per Acre      7114.6  \n",
       "3            IE13        West  Euro per Acre      4496.5  \n",
       "4            IE21      Dublin  Euro per Acre     10117.2  \n",
       "...           ...         ...            ...         ...  \n",
       "1723         IE21      Dublin           Euro   2670000.0  \n",
       "1724         IE22    Mid-East           Euro  28863564.4  \n",
       "1725         IE23    Mid-West           Euro  31455465.0  \n",
       "1726         IE24  South-East           Euro  17396112.2  \n",
       "1727         IE25  South-West           Euro   4446462.0  \n",
       "\n",
       "[1608 rows x 8 columns]"
      ]
     },
     "execution_count": 48,
     "metadata": {},
     "output_type": "execute_result"
    }
   ],
   "source": [
    "df_land"
   ]
  },
  {
   "cell_type": "code",
   "execution_count": 49,
   "id": "e24c55b7",
   "metadata": {},
   "outputs": [
    {
     "data": {
      "text/plain": [
       "array(['Median Price per Acre', 'Median Price per Hectare',\n",
       "       'Mean Price per Acre', 'Mean Price per Hectare',\n",
       "       'Number of Transactions', 'Volume of Land Sold Acres',\n",
       "       'Volume of Land Sold Hectares', 'Value of Land Sold'], dtype=object)"
      ]
     },
     "execution_count": 49,
     "metadata": {},
     "output_type": "execute_result"
    }
   ],
   "source": [
    "df_land[\"Statistic\"].unique()"
   ]
  },
  {
   "cell_type": "code",
   "execution_count": 19,
   "id": "ecd485e7",
   "metadata": {},
   "outputs": [],
   "source": [
    "df_land = df_land[df_land[\"Statistic\"].isin(['Median Price per Acre', 'Median Price per Hectare',\n",
    "                                             'Mean Price per Acre', 'Mean Price per Hectare'])].copy()"
   ]
  },
  {
   "cell_type": "code",
   "execution_count": 20,
   "id": "f203754e",
   "metadata": {},
   "outputs": [],
   "source": [
    "conversion = 2.47105381"
   ]
  },
  {
   "cell_type": "code",
   "execution_count": 21,
   "id": "cdcd6787",
   "metadata": {},
   "outputs": [],
   "source": [
    "df_land[\"VALUE\"] = df_land[\"VALUE\"].where(df_land[\"UNIT\"].str.contains(\"Acre\"), df_land[\"VALUE\"]*conversion)"
   ]
  },
  {
   "cell_type": "code",
   "execution_count": 54,
   "id": "1e9bd872",
   "metadata": {},
   "outputs": [
    {
     "data": {
      "text/html": [
       "<div>\n",
       "<style scoped>\n",
       "    .dataframe tbody tr th:only-of-type {\n",
       "        vertical-align: middle;\n",
       "    }\n",
       "\n",
       "    .dataframe tbody tr th {\n",
       "        vertical-align: top;\n",
       "    }\n",
       "\n",
       "    .dataframe thead th {\n",
       "        text-align: right;\n",
       "    }\n",
       "</style>\n",
       "<table border=\"1\" class=\"dataframe\">\n",
       "  <thead>\n",
       "    <tr style=\"text-align: right;\">\n",
       "      <th></th>\n",
       "      <th>Statistic</th>\n",
       "      <th>Year</th>\n",
       "      <th>C03388V04075</th>\n",
       "      <th>Type of Land Use</th>\n",
       "      <th>C02196V02652</th>\n",
       "      <th>Region</th>\n",
       "      <th>UNIT</th>\n",
       "      <th>VALUE</th>\n",
       "    </tr>\n",
       "  </thead>\n",
       "  <tbody>\n",
       "    <tr>\n",
       "      <th>0</th>\n",
       "      <td>Median Price per Acre</td>\n",
       "      <td>2013</td>\n",
       "      <td>1</td>\n",
       "      <td>All Land Types</td>\n",
       "      <td>-</td>\n",
       "      <td>State</td>\n",
       "      <td>Euro per Acre</td>\n",
       "      <td>6389.800000</td>\n",
       "    </tr>\n",
       "    <tr>\n",
       "      <th>1</th>\n",
       "      <td>Median Price per Acre</td>\n",
       "      <td>2013</td>\n",
       "      <td>1</td>\n",
       "      <td>All Land Types</td>\n",
       "      <td>IE11</td>\n",
       "      <td>Border</td>\n",
       "      <td>Euro per Acre</td>\n",
       "      <td>4685.200000</td>\n",
       "    </tr>\n",
       "    <tr>\n",
       "      <th>2</th>\n",
       "      <td>Median Price per Acre</td>\n",
       "      <td>2013</td>\n",
       "      <td>1</td>\n",
       "      <td>All Land Types</td>\n",
       "      <td>IE12</td>\n",
       "      <td>Midland</td>\n",
       "      <td>Euro per Acre</td>\n",
       "      <td>7114.600000</td>\n",
       "    </tr>\n",
       "    <tr>\n",
       "      <th>3</th>\n",
       "      <td>Median Price per Acre</td>\n",
       "      <td>2013</td>\n",
       "      <td>1</td>\n",
       "      <td>All Land Types</td>\n",
       "      <td>IE13</td>\n",
       "      <td>West</td>\n",
       "      <td>Euro per Acre</td>\n",
       "      <td>4496.500000</td>\n",
       "    </tr>\n",
       "    <tr>\n",
       "      <th>4</th>\n",
       "      <td>Median Price per Acre</td>\n",
       "      <td>2013</td>\n",
       "      <td>1</td>\n",
       "      <td>All Land Types</td>\n",
       "      <td>IE21</td>\n",
       "      <td>Dublin</td>\n",
       "      <td>Euro per Acre</td>\n",
       "      <td>10117.200000</td>\n",
       "    </tr>\n",
       "    <tr>\n",
       "      <th>...</th>\n",
       "      <td>...</td>\n",
       "      <td>...</td>\n",
       "      <td>...</td>\n",
       "      <td>...</td>\n",
       "      <td>...</td>\n",
       "      <td>...</td>\n",
       "      <td>...</td>\n",
       "      <td>...</td>\n",
       "    </tr>\n",
       "    <tr>\n",
       "      <th>859</th>\n",
       "      <td>Mean Price per Hectare</td>\n",
       "      <td>2020</td>\n",
       "      <td>3</td>\n",
       "      <td>Permanent Grassland</td>\n",
       "      <td>IE21</td>\n",
       "      <td>Dublin</td>\n",
       "      <td>Euro per Hectare</td>\n",
       "      <td>52726.851987</td>\n",
       "    </tr>\n",
       "    <tr>\n",
       "      <th>860</th>\n",
       "      <td>Mean Price per Hectare</td>\n",
       "      <td>2020</td>\n",
       "      <td>3</td>\n",
       "      <td>Permanent Grassland</td>\n",
       "      <td>IE22</td>\n",
       "      <td>Mid-East</td>\n",
       "      <td>Euro per Hectare</td>\n",
       "      <td>46379.950276</td>\n",
       "    </tr>\n",
       "    <tr>\n",
       "      <th>861</th>\n",
       "      <td>Mean Price per Hectare</td>\n",
       "      <td>2020</td>\n",
       "      <td>3</td>\n",
       "      <td>Permanent Grassland</td>\n",
       "      <td>IE23</td>\n",
       "      <td>Mid-West</td>\n",
       "      <td>Euro per Hectare</td>\n",
       "      <td>48077.317138</td>\n",
       "    </tr>\n",
       "    <tr>\n",
       "      <th>862</th>\n",
       "      <td>Mean Price per Hectare</td>\n",
       "      <td>2020</td>\n",
       "      <td>3</td>\n",
       "      <td>Permanent Grassland</td>\n",
       "      <td>IE24</td>\n",
       "      <td>South-East</td>\n",
       "      <td>Euro per Hectare</td>\n",
       "      <td>66125.399956</td>\n",
       "    </tr>\n",
       "    <tr>\n",
       "      <th>863</th>\n",
       "      <td>Mean Price per Hectare</td>\n",
       "      <td>2020</td>\n",
       "      <td>3</td>\n",
       "      <td>Permanent Grassland</td>\n",
       "      <td>IE25</td>\n",
       "      <td>South-West</td>\n",
       "      <td>Euro per Hectare</td>\n",
       "      <td>44868.653766</td>\n",
       "    </tr>\n",
       "  </tbody>\n",
       "</table>\n",
       "<p>804 rows × 8 columns</p>\n",
       "</div>"
      ],
      "text/plain": [
       "                  Statistic  Year  C03388V04075     Type of Land Use  \\\n",
       "0     Median Price per Acre  2013             1       All Land Types   \n",
       "1     Median Price per Acre  2013             1       All Land Types   \n",
       "2     Median Price per Acre  2013             1       All Land Types   \n",
       "3     Median Price per Acre  2013             1       All Land Types   \n",
       "4     Median Price per Acre  2013             1       All Land Types   \n",
       "..                      ...   ...           ...                  ...   \n",
       "859  Mean Price per Hectare  2020             3  Permanent Grassland   \n",
       "860  Mean Price per Hectare  2020             3  Permanent Grassland   \n",
       "861  Mean Price per Hectare  2020             3  Permanent Grassland   \n",
       "862  Mean Price per Hectare  2020             3  Permanent Grassland   \n",
       "863  Mean Price per Hectare  2020             3  Permanent Grassland   \n",
       "\n",
       "    C02196V02652      Region              UNIT         VALUE  \n",
       "0              -       State     Euro per Acre   6389.800000  \n",
       "1           IE11      Border     Euro per Acre   4685.200000  \n",
       "2           IE12     Midland     Euro per Acre   7114.600000  \n",
       "3           IE13        West     Euro per Acre   4496.500000  \n",
       "4           IE21      Dublin     Euro per Acre  10117.200000  \n",
       "..           ...         ...               ...           ...  \n",
       "859         IE21      Dublin  Euro per Hectare  52726.851987  \n",
       "860         IE22    Mid-East  Euro per Hectare  46379.950276  \n",
       "861         IE23    Mid-West  Euro per Hectare  48077.317138  \n",
       "862         IE24  South-East  Euro per Hectare  66125.399956  \n",
       "863         IE25  South-West  Euro per Hectare  44868.653766  \n",
       "\n",
       "[804 rows x 8 columns]"
      ]
     },
     "execution_count": 54,
     "metadata": {},
     "output_type": "execute_result"
    }
   ],
   "source": [
    "df_land"
   ]
  },
  {
   "cell_type": "code",
   "execution_count": 22,
   "id": "93c6b1c4",
   "metadata": {},
   "outputs": [],
   "source": [
    "df_land[\"Statistic\"] = df_land[\"Statistic\"].str.replace(\"Hectare\",\"Acre\")"
   ]
  },
  {
   "cell_type": "code",
   "execution_count": 56,
   "id": "1a67939f",
   "metadata": {},
   "outputs": [
    {
     "data": {
      "text/plain": [
       "array(['Median Price per Acre', 'Mean Price per Acre'], dtype=object)"
      ]
     },
     "execution_count": 56,
     "metadata": {},
     "output_type": "execute_result"
    }
   ],
   "source": [
    "df_land[\"Statistic\"].unique()"
   ]
  },
  {
   "cell_type": "code",
   "execution_count": 23,
   "id": "29027515",
   "metadata": {},
   "outputs": [],
   "source": [
    "df_land.drop(columns=[\"UNIT\"], inplace = True)"
   ]
  },
  {
   "cell_type": "code",
   "execution_count": 58,
   "id": "4a9b0bd1",
   "metadata": {
    "scrolled": true
   },
   "outputs": [
    {
     "data": {
      "text/plain": [
       "<AxesSubplot:>"
      ]
     },
     "execution_count": 58,
     "metadata": {},
     "output_type": "execute_result"
    },
    {
     "data": {
      "image/png": "[encoded data removed]",
      "text/plain": [
       "<Figure size 432x288 with 1 Axes>"
      ]
     },
     "metadata": {
      "needs_background": "light"
     },
     "output_type": "display_data"
    }
   ],
   "source": [
    "df_land[\"Statistic\"].value_counts().plot.bar()"
   ]
  },
  {
   "cell_type": "code",
   "execution_count": 59,
   "id": "47a56165",
   "metadata": {},
   "outputs": [
    {
     "data": {
      "text/plain": [
       "<AxesSubplot:>"
      ]
     },
     "execution_count": 59,
     "metadata": {},
     "output_type": "execute_result"
    },
    {
     "data": {
      "image/png": "[encoded data removed]",
      "text/plain": [
       "<Figure size 432x288 with 1 Axes>"
      ]
     },
     "metadata": {
      "needs_background": "light"
     },
     "output_type": "display_data"
    }
   ],
   "source": [
    "df_land[\"Year\"].value_counts().plot.bar()"
   ]
  },
  {
   "cell_type": "code",
   "execution_count": 60,
   "id": "7524a185",
   "metadata": {},
   "outputs": [
    {
     "data": {
      "text/plain": [
       "<AxesSubplot:xlabel='Statistic', ylabel='VALUE'>"
      ]
     },
     "execution_count": 60,
     "metadata": {},
     "output_type": "execute_result"
    },
    {
     "data": {
      "image/png": "[encoded data removed]",
      "text/plain": [
       "<Figure size 432x288 with 1 Axes>"
      ]
     },
     "metadata": {
      "needs_background": "light"
     },
     "output_type": "display_data"
    }
   ],
   "source": [
    "sns.boxplot(data=df_land, x = \"Statistic\", y = \"VALUE\")"
   ]
  },
  {
   "cell_type": "code",
   "execution_count": 61,
   "id": "f076d5d1",
   "metadata": {},
   "outputs": [
    {
     "data": {
      "text/plain": [
       "<AxesSubplot:xlabel='VALUE', ylabel='Density'>"
      ]
     },
     "execution_count": 61,
     "metadata": {},
     "output_type": "execute_result"
    },
    {
     "data": {
      "image/png": "[encoded data removed]",
      "text/plain": [
       "<Figure size 432x288 with 1 Axes>"
      ]
     },
     "metadata": {
      "needs_background": "light"
     },
     "output_type": "display_data"
    }
   ],
   "source": [
    "sns.kdeplot(data=df_land, hue = \"Statistic\", x = \"VALUE\")"
   ]
  },
  {
   "cell_type": "code",
   "execution_count": 62,
   "id": "1c494596",
   "metadata": {},
   "outputs": [
    {
     "data": {
      "text/html": [
       "<div>\n",
       "<style scoped>\n",
       "    .dataframe tbody tr th:only-of-type {\n",
       "        vertical-align: middle;\n",
       "    }\n",
       "\n",
       "    .dataframe tbody tr th {\n",
       "        vertical-align: top;\n",
       "    }\n",
       "\n",
       "    .dataframe thead th {\n",
       "        text-align: right;\n",
       "    }\n",
       "</style>\n",
       "<table border=\"1\" class=\"dataframe\">\n",
       "  <thead>\n",
       "    <tr style=\"text-align: right;\">\n",
       "      <th></th>\n",
       "      <th>Year</th>\n",
       "      <th>C03388V04075</th>\n",
       "      <th>VALUE</th>\n",
       "    </tr>\n",
       "  </thead>\n",
       "  <tbody>\n",
       "    <tr>\n",
       "      <th>count</th>\n",
       "      <td>804.000000</td>\n",
       "      <td>804.000000</td>\n",
       "      <td>804.000000</td>\n",
       "    </tr>\n",
       "    <tr>\n",
       "      <th>mean</th>\n",
       "      <td>2016.462687</td>\n",
       "      <td>2.000000</td>\n",
       "      <td>29635.868008</td>\n",
       "    </tr>\n",
       "    <tr>\n",
       "      <th>std</th>\n",
       "      <td>2.282611</td>\n",
       "      <td>0.846942</td>\n",
       "      <td>24933.862459</td>\n",
       "    </tr>\n",
       "    <tr>\n",
       "      <th>min</th>\n",
       "      <td>2013.000000</td>\n",
       "      <td>1.000000</td>\n",
       "      <td>3071.500000</td>\n",
       "    </tr>\n",
       "    <tr>\n",
       "      <th>25%</th>\n",
       "      <td>2014.000000</td>\n",
       "      <td>1.000000</td>\n",
       "      <td>8003.100000</td>\n",
       "    </tr>\n",
       "    <tr>\n",
       "      <th>50%</th>\n",
       "      <td>2016.000000</td>\n",
       "      <td>2.000000</td>\n",
       "      <td>19057.755404</td>\n",
       "    </tr>\n",
       "    <tr>\n",
       "      <th>75%</th>\n",
       "      <td>2018.000000</td>\n",
       "      <td>3.000000</td>\n",
       "      <td>48739.436007</td>\n",
       "    </tr>\n",
       "    <tr>\n",
       "      <th>max</th>\n",
       "      <td>2020.000000</td>\n",
       "      <td>3.000000</td>\n",
       "      <td>121510.858737</td>\n",
       "    </tr>\n",
       "  </tbody>\n",
       "</table>\n",
       "</div>"
      ],
      "text/plain": [
       "              Year  C03388V04075          VALUE\n",
       "count   804.000000    804.000000     804.000000\n",
       "mean   2016.462687      2.000000   29635.868008\n",
       "std       2.282611      0.846942   24933.862459\n",
       "min    2013.000000      1.000000    3071.500000\n",
       "25%    2014.000000      1.000000    8003.100000\n",
       "50%    2016.000000      2.000000   19057.755404\n",
       "75%    2018.000000      3.000000   48739.436007\n",
       "max    2020.000000      3.000000  121510.858737"
      ]
     },
     "execution_count": 62,
     "metadata": {},
     "output_type": "execute_result"
    }
   ],
   "source": [
    "df_land.describe()"
   ]
  },
  {
   "cell_type": "code",
   "execution_count": 63,
   "id": "b1f46797",
   "metadata": {},
   "outputs": [
    {
     "data": {
      "text/plain": [
       "<AxesSubplot:xlabel='Year', ylabel='VALUE'>"
      ]
     },
     "execution_count": 63,
     "metadata": {},
     "output_type": "execute_result"
    },
    {
     "data": {
      "image/png": "[encoded data removed]",
      "text/plain": [
       "<Figure size 432x288 with 1 Axes>"
      ]
     },
     "metadata": {
      "needs_background": "light"
     },
     "output_type": "display_data"
    }
   ],
   "source": [
    "sns.lineplot(data=df_land, x=\"Year\", y=\"VALUE\")"
   ]
  },
  {
   "cell_type": "code",
   "execution_count": 25,
   "id": "e7298ca1",
   "metadata": {},
   "outputs": [
    {
     "data": {
      "text/plain": [
       "<AxesSubplot:xlabel='Year', ylabel='VALUE'>"
      ]
     },
     "execution_count": 25,
     "metadata": {},
     "output_type": "execute_result"
    },
    {
     "data": {
      "image/png": "[encoded data removed]",
      "text/plain": [
       "<Figure size 864x432 with 1 Axes>"
      ]
     },
     "metadata": {
      "needs_background": "light"
     },
     "output_type": "display_data"
    }
   ],
   "source": [
    "plt.rcParams[\"figure.figsize\"] = (12,6)\n",
    "sns.scatterplot(data=df_land, x=\"Year\", y=\"VALUE\", hue=\"Region\")"
   ]
  },
  {
   "cell_type": "code",
   "execution_count": 65,
   "id": "d8ae958a",
   "metadata": {
    "scrolled": true
   },
   "outputs": [
    {
     "data": {
      "text/plain": [
       "<AxesSubplot:xlabel='Year'>"
      ]
     },
     "execution_count": 65,
     "metadata": {},
     "output_type": "execute_result"
    },
    {
     "data": {
      "image/png": "[encoded data removed]",
      "text/plain": [
       "<Figure size 432x288 with 1 Axes>"
      ]
     },
     "metadata": {
      "needs_background": "light"
     },
     "output_type": "display_data"
    }
   ],
   "source": [
    "df_land.groupby(\"Year\")[\"VALUE\"].mean().plot.bar()"
   ]
  },
  {
   "cell_type": "code",
   "execution_count": 66,
   "id": "42dc2f9e",
   "metadata": {},
   "outputs": [
    {
     "data": {
      "text/plain": [
       "array([1, 2, 3], dtype=int64)"
      ]
     },
     "execution_count": 66,
     "metadata": {},
     "output_type": "execute_result"
    }
   ],
   "source": [
    "df_land[\"C03388V04075\"].unique()"
   ]
  },
  {
   "cell_type": "code",
   "execution_count": 67,
   "id": "f81b4e4d",
   "metadata": {},
   "outputs": [
    {
     "data": {
      "text/plain": [
       "<AxesSubplot:>"
      ]
     },
     "execution_count": 67,
     "metadata": {},
     "output_type": "execute_result"
    },
    {
     "data": {
      "image/png": "[encoded data removed]",
      "text/plain": [
       "<Figure size 432x288 with 1 Axes>"
      ]
     },
     "metadata": {
      "needs_background": "light"
     },
     "output_type": "display_data"
    }
   ],
   "source": [
    "df_land[\"C03388V04075\"].value_counts().plot.bar()"
   ]
  },
  {
   "cell_type": "code",
   "execution_count": 68,
   "id": "457a7b83",
   "metadata": {
    "scrolled": true
   },
   "outputs": [
    {
     "data": {
      "text/plain": [
       "<AxesSubplot:xlabel='C03388V04075'>"
      ]
     },
     "execution_count": 68,
     "metadata": {},
     "output_type": "execute_result"
    },
    {
     "data": {
      "image/png": "[encoded data removed]",
      "text/plain": [
       "<Figure size 432x288 with 1 Axes>"
      ]
     },
     "metadata": {
      "needs_background": "light"
     },
     "output_type": "display_data"
    }
   ],
   "source": [
    "df_land.groupby(\"C03388V04075\")[\"VALUE\"].mean().plot.bar()"
   ]
  },
  {
   "cell_type": "code",
   "execution_count": 69,
   "id": "32db0235",
   "metadata": {},
   "outputs": [
    {
     "data": {
      "text/plain": [
       "<AxesSubplot:xlabel='VALUE', ylabel='Density'>"
      ]
     },
     "execution_count": 69,
     "metadata": {},
     "output_type": "execute_result"
    },
    {
     "data": {
      "image/png": "[encoded data removed]",
      "text/plain": [
       "<Figure size 432x288 with 1 Axes>"
      ]
     },
     "metadata": {
      "needs_background": "light"
     },
     "output_type": "display_data"
    }
   ],
   "source": [
    "sns.kdeplot(data=df_land, hue = \"C03388V04075\", x = \"VALUE\")"
   ]
  },
  {
   "cell_type": "code",
   "execution_count": 70,
   "id": "6717ccf3",
   "metadata": {},
   "outputs": [
    {
     "data": {
      "text/plain": [
       "<AxesSubplot:xlabel='C03388V04075', ylabel='VALUE'>"
      ]
     },
     "execution_count": 70,
     "metadata": {},
     "output_type": "execute_result"
    },
    {
     "data": {
      "image/png": "[encoded data removed]",
      "text/plain": [
       "<Figure size 432x288 with 1 Axes>"
      ]
     },
     "metadata": {
      "needs_background": "light"
     },
     "output_type": "display_data"
    }
   ],
   "source": [
    "sns.boxplot(data=df_land, x = \"C03388V04075\", y = \"VALUE\")"
   ]
  },
  {
   "cell_type": "code",
   "execution_count": 71,
   "id": "556d3003",
   "metadata": {},
   "outputs": [
    {
     "data": {
      "text/plain": [
       "array(['All Land Types', 'Arable Land', 'Permanent Grassland'],\n",
       "      dtype=object)"
      ]
     },
     "execution_count": 71,
     "metadata": {},
     "output_type": "execute_result"
    }
   ],
   "source": [
    "df_land[\"Type of Land Use\"].unique()"
   ]
  },
  {
   "cell_type": "code",
   "execution_count": 72,
   "id": "d9ad3dae",
   "metadata": {},
   "outputs": [
    {
     "data": {
      "text/plain": [
       "<AxesSubplot:xlabel='VALUE', ylabel='Density'>"
      ]
     },
     "execution_count": 72,
     "metadata": {},
     "output_type": "execute_result"
    },
    {
     "data": {
      "image/png": "[encoded data removed]",
      "text/plain": [
       "<Figure size 432x288 with 1 Axes>"
      ]
     },
     "metadata": {
      "needs_background": "light"
     },
     "output_type": "display_data"
    }
   ],
   "source": [
    "sns.kdeplot(data=df_land, hue = \"Type of Land Use\", x = \"VALUE\")"
   ]
  },
  {
   "cell_type": "code",
   "execution_count": 73,
   "id": "9525e239",
   "metadata": {},
   "outputs": [],
   "source": [
    "def to_C03388V04075(x):\n",
    "    if x == \"Permanent Grassland\":\n",
    "        return 3\n",
    "    if x == \"All Land Types\":\n",
    "        return 1\n",
    "    return 2"
   ]
  },
  {
   "cell_type": "code",
   "execution_count": 74,
   "id": "8a8fb936",
   "metadata": {},
   "outputs": [
    {
     "data": {
      "text/html": [
       "<div>\n",
       "<style scoped>\n",
       "    .dataframe tbody tr th:only-of-type {\n",
       "        vertical-align: middle;\n",
       "    }\n",
       "\n",
       "    .dataframe tbody tr th {\n",
       "        vertical-align: top;\n",
       "    }\n",
       "\n",
       "    .dataframe thead th {\n",
       "        text-align: right;\n",
       "    }\n",
       "</style>\n",
       "<table border=\"1\" class=\"dataframe\">\n",
       "  <thead>\n",
       "    <tr style=\"text-align: right;\">\n",
       "      <th></th>\n",
       "      <th>Statistic</th>\n",
       "      <th>Year</th>\n",
       "      <th>C03388V04075</th>\n",
       "      <th>Type of Land Use</th>\n",
       "      <th>C02196V02652</th>\n",
       "      <th>Region</th>\n",
       "      <th>VALUE</th>\n",
       "    </tr>\n",
       "  </thead>\n",
       "  <tbody>\n",
       "  </tbody>\n",
       "</table>\n",
       "</div>"
      ],
      "text/plain": [
       "Empty DataFrame\n",
       "Columns: [Statistic, Year, C03388V04075, Type of Land Use, C02196V02652, Region, VALUE]\n",
       "Index: []"
      ]
     },
     "execution_count": 74,
     "metadata": {},
     "output_type": "execute_result"
    }
   ],
   "source": [
    "df_land[df_land[\"C03388V04075\"] != df_land[\"Type of Land Use\"].apply(to_C03388V04075)]"
   ]
  },
  {
   "cell_type": "code",
   "execution_count": 26,
   "id": "0c23515a",
   "metadata": {},
   "outputs": [],
   "source": [
    "df_land.drop(columns=[\"C03388V04075\"], inplace = True)"
   ]
  },
  {
   "cell_type": "code",
   "execution_count": 76,
   "id": "208ded16",
   "metadata": {},
   "outputs": [
    {
     "data": {
      "text/plain": [
       "array(['State', 'Border', 'Midland', 'West', 'Dublin', 'Mid-East',\n",
       "       'Mid-West', 'South-East', 'South-West'], dtype=object)"
      ]
     },
     "execution_count": 76,
     "metadata": {},
     "output_type": "execute_result"
    }
   ],
   "source": [
    "df_land[\"Region\"].unique()"
   ]
  },
  {
   "cell_type": "code",
   "execution_count": 77,
   "id": "cabfea9e",
   "metadata": {},
   "outputs": [
    {
     "data": {
      "text/plain": [
       "<AxesSubplot:>"
      ]
     },
     "execution_count": 77,
     "metadata": {},
     "output_type": "execute_result"
    },
    {
     "data": {
      "image/png": "[encoded data removed]",
      "text/plain": [
       "<Figure size 432x288 with 1 Axes>"
      ]
     },
     "metadata": {
      "needs_background": "light"
     },
     "output_type": "display_data"
    }
   ],
   "source": [
    "df_land[\"Region\"].value_counts().plot.bar()"
   ]
  },
  {
   "cell_type": "code",
   "execution_count": 81,
   "id": "136a769d",
   "metadata": {},
   "outputs": [
    {
     "data": {
      "text/plain": [
       "<AxesSubplot:xlabel='VALUE', ylabel='Density'>"
      ]
     },
     "execution_count": 81,
     "metadata": {},
     "output_type": "execute_result"
    },
    {
     "data": {
      "image/png": "[encoded data removed]",
      "text/plain": [
       "<Figure size 720x360 with 1 Axes>"
      ]
     },
     "metadata": {
      "needs_background": "light"
     },
     "output_type": "display_data"
    }
   ],
   "source": [
    "plt.figure(figsize=(10,5))\n",
    "sns.kdeplot(data=df_land, hue = \"Region\", x = \"VALUE\")"
   ]
  },
  {
   "cell_type": "code",
   "execution_count": 82,
   "id": "69335a44",
   "metadata": {},
   "outputs": [
    {
     "data": {
      "text/plain": [
       "<AxesSubplot:xlabel='Region', ylabel='VALUE'>"
      ]
     },
     "execution_count": 82,
     "metadata": {},
     "output_type": "execute_result"
    },
    {
     "data": {
      "image/png": "[encoded data removed]",
      "text/plain": [
       "<Figure size 720x360 with 1 Axes>"
      ]
     },
     "metadata": {
      "needs_background": "light"
     },
     "output_type": "display_data"
    }
   ],
   "source": [
    "plt.figure(figsize=(10,5))\n",
    "sns.boxplot(data=df_land, x = \"Region\", y = \"VALUE\")"
   ]
  },
  {
   "cell_type": "code",
   "execution_count": 83,
   "id": "dfa38aba",
   "metadata": {},
   "outputs": [
    {
     "data": {
      "text/plain": [
       "(9,)"
      ]
     },
     "execution_count": 83,
     "metadata": {},
     "output_type": "execute_result"
    }
   ],
   "source": [
    "df_land[\"C02196V02652\"].unique().shape"
   ]
  },
  {
   "cell_type": "code",
   "execution_count": 84,
   "id": "7f7efb84",
   "metadata": {},
   "outputs": [
    {
     "data": {
      "text/plain": [
       "(9,)"
      ]
     },
     "execution_count": 84,
     "metadata": {},
     "output_type": "execute_result"
    }
   ],
   "source": [
    "df_land[\"Region\"].unique().shape"
   ]
  },
  {
   "cell_type": "code",
   "execution_count": 85,
   "id": "16780eae",
   "metadata": {},
   "outputs": [
    {
     "data": {
      "text/plain": [
       "<AxesSubplot:xlabel='C02196V02652', ylabel='VALUE'>"
      ]
     },
     "execution_count": 85,
     "metadata": {},
     "output_type": "execute_result"
    },
    {
     "data": {
      "image/png": "[encoded data removed]",
      "text/plain": [
       "<Figure size 720x360 with 1 Axes>"
      ]
     },
     "metadata": {
      "needs_background": "light"
     },
     "output_type": "display_data"
    }
   ],
   "source": [
    "plt.figure(figsize=(10,5))\n",
    "sns.boxplot(data=df_land, x = \"C02196V02652\", y = \"VALUE\")"
   ]
  },
  {
   "cell_type": "code",
   "execution_count": 27,
   "id": "9955ea1c",
   "metadata": {},
   "outputs": [],
   "source": [
    "df_land.drop(columns=[\"C02196V02652\"], inplace = True)"
   ]
  },
  {
   "cell_type": "code",
   "execution_count": 28,
   "id": "58bd4d7e",
   "metadata": {},
   "outputs": [
    {
     "data": {
      "text/html": [
       "<div>\n",
       "<style scoped>\n",
       "    .dataframe tbody tr th:only-of-type {\n",
       "        vertical-align: middle;\n",
       "    }\n",
       "\n",
       "    .dataframe tbody tr th {\n",
       "        vertical-align: top;\n",
       "    }\n",
       "\n",
       "    .dataframe thead th {\n",
       "        text-align: right;\n",
       "    }\n",
       "</style>\n",
       "<table border=\"1\" class=\"dataframe\">\n",
       "  <thead>\n",
       "    <tr style=\"text-align: right;\">\n",
       "      <th></th>\n",
       "      <th>Year</th>\n",
       "      <th>VALUE</th>\n",
       "    </tr>\n",
       "  </thead>\n",
       "  <tbody>\n",
       "    <tr>\n",
       "      <th>Year</th>\n",
       "      <td>1.000000</td>\n",
       "      <td>0.035918</td>\n",
       "    </tr>\n",
       "    <tr>\n",
       "      <th>VALUE</th>\n",
       "      <td>0.035918</td>\n",
       "      <td>1.000000</td>\n",
       "    </tr>\n",
       "  </tbody>\n",
       "</table>\n",
       "</div>"
      ],
      "text/plain": [
       "           Year     VALUE\n",
       "Year   1.000000  0.035918\n",
       "VALUE  0.035918  1.000000"
      ]
     },
     "execution_count": 28,
     "metadata": {},
     "output_type": "execute_result"
    }
   ],
   "source": [
    "df_land.corr()"
   ]
  },
  {
   "cell_type": "markdown",
   "id": "8ad7ca0b",
   "metadata": {},
   "source": [
    "### Machine Learning"
   ]
  },
  {
   "cell_type": "code",
   "execution_count": 30,
   "id": "af9bf7ba",
   "metadata": {},
   "outputs": [
    {
     "data": {
      "text/html": [
       "<div>\n",
       "<style scoped>\n",
       "    .dataframe tbody tr th:only-of-type {\n",
       "        vertical-align: middle;\n",
       "    }\n",
       "\n",
       "    .dataframe tbody tr th {\n",
       "        vertical-align: top;\n",
       "    }\n",
       "\n",
       "    .dataframe thead th {\n",
       "        text-align: right;\n",
       "    }\n",
       "</style>\n",
       "<table border=\"1\" class=\"dataframe\">\n",
       "  <thead>\n",
       "    <tr style=\"text-align: right;\">\n",
       "      <th></th>\n",
       "      <th>Statistic</th>\n",
       "      <th>Year</th>\n",
       "      <th>Type of Land Use</th>\n",
       "      <th>Region</th>\n",
       "      <th>VALUE</th>\n",
       "    </tr>\n",
       "  </thead>\n",
       "  <tbody>\n",
       "    <tr>\n",
       "      <th>0</th>\n",
       "      <td>Median Price per Acre</td>\n",
       "      <td>2013</td>\n",
       "      <td>All Land Types</td>\n",
       "      <td>State</td>\n",
       "      <td>6389.800000</td>\n",
       "    </tr>\n",
       "    <tr>\n",
       "      <th>1</th>\n",
       "      <td>Median Price per Acre</td>\n",
       "      <td>2013</td>\n",
       "      <td>All Land Types</td>\n",
       "      <td>Border</td>\n",
       "      <td>4685.200000</td>\n",
       "    </tr>\n",
       "    <tr>\n",
       "      <th>2</th>\n",
       "      <td>Median Price per Acre</td>\n",
       "      <td>2013</td>\n",
       "      <td>All Land Types</td>\n",
       "      <td>Midland</td>\n",
       "      <td>7114.600000</td>\n",
       "    </tr>\n",
       "    <tr>\n",
       "      <th>3</th>\n",
       "      <td>Median Price per Acre</td>\n",
       "      <td>2013</td>\n",
       "      <td>All Land Types</td>\n",
       "      <td>West</td>\n",
       "      <td>4496.500000</td>\n",
       "    </tr>\n",
       "    <tr>\n",
       "      <th>4</th>\n",
       "      <td>Median Price per Acre</td>\n",
       "      <td>2013</td>\n",
       "      <td>All Land Types</td>\n",
       "      <td>Dublin</td>\n",
       "      <td>10117.200000</td>\n",
       "    </tr>\n",
       "    <tr>\n",
       "      <th>...</th>\n",
       "      <td>...</td>\n",
       "      <td>...</td>\n",
       "      <td>...</td>\n",
       "      <td>...</td>\n",
       "      <td>...</td>\n",
       "    </tr>\n",
       "    <tr>\n",
       "      <th>859</th>\n",
       "      <td>Mean Price per Acre</td>\n",
       "      <td>2020</td>\n",
       "      <td>Permanent Grassland</td>\n",
       "      <td>Dublin</td>\n",
       "      <td>52726.851987</td>\n",
       "    </tr>\n",
       "    <tr>\n",
       "      <th>860</th>\n",
       "      <td>Mean Price per Acre</td>\n",
       "      <td>2020</td>\n",
       "      <td>Permanent Grassland</td>\n",
       "      <td>Mid-East</td>\n",
       "      <td>46379.950276</td>\n",
       "    </tr>\n",
       "    <tr>\n",
       "      <th>861</th>\n",
       "      <td>Mean Price per Acre</td>\n",
       "      <td>2020</td>\n",
       "      <td>Permanent Grassland</td>\n",
       "      <td>Mid-West</td>\n",
       "      <td>48077.317138</td>\n",
       "    </tr>\n",
       "    <tr>\n",
       "      <th>862</th>\n",
       "      <td>Mean Price per Acre</td>\n",
       "      <td>2020</td>\n",
       "      <td>Permanent Grassland</td>\n",
       "      <td>South-East</td>\n",
       "      <td>66125.399956</td>\n",
       "    </tr>\n",
       "    <tr>\n",
       "      <th>863</th>\n",
       "      <td>Mean Price per Acre</td>\n",
       "      <td>2020</td>\n",
       "      <td>Permanent Grassland</td>\n",
       "      <td>South-West</td>\n",
       "      <td>44868.653766</td>\n",
       "    </tr>\n",
       "  </tbody>\n",
       "</table>\n",
       "<p>804 rows × 5 columns</p>\n",
       "</div>"
      ],
      "text/plain": [
       "                 Statistic  Year     Type of Land Use      Region  \\\n",
       "0    Median Price per Acre  2013       All Land Types       State   \n",
       "1    Median Price per Acre  2013       All Land Types      Border   \n",
       "2    Median Price per Acre  2013       All Land Types     Midland   \n",
       "3    Median Price per Acre  2013       All Land Types        West   \n",
       "4    Median Price per Acre  2013       All Land Types      Dublin   \n",
       "..                     ...   ...                  ...         ...   \n",
       "859    Mean Price per Acre  2020  Permanent Grassland      Dublin   \n",
       "860    Mean Price per Acre  2020  Permanent Grassland    Mid-East   \n",
       "861    Mean Price per Acre  2020  Permanent Grassland    Mid-West   \n",
       "862    Mean Price per Acre  2020  Permanent Grassland  South-East   \n",
       "863    Mean Price per Acre  2020  Permanent Grassland  South-West   \n",
       "\n",
       "            VALUE  \n",
       "0     6389.800000  \n",
       "1     4685.200000  \n",
       "2     7114.600000  \n",
       "3     4496.500000  \n",
       "4    10117.200000  \n",
       "..            ...  \n",
       "859  52726.851987  \n",
       "860  46379.950276  \n",
       "861  48077.317138  \n",
       "862  66125.399956  \n",
       "863  44868.653766  \n",
       "\n",
       "[804 rows x 5 columns]"
      ]
     },
     "execution_count": 30,
     "metadata": {},
     "output_type": "execute_result"
    }
   ],
   "source": [
    "df_land"
   ]
  },
  {
   "cell_type": "code",
   "execution_count": 31,
   "id": "cff8381d",
   "metadata": {},
   "outputs": [],
   "source": [
    "df = pd.get_dummies(df_land)"
   ]
  },
  {
   "cell_type": "code",
   "execution_count": 32,
   "id": "9cc240e7",
   "metadata": {},
   "outputs": [
    {
     "data": {
      "text/html": [
       "<div>\n",
       "<style scoped>\n",
       "    .dataframe tbody tr th:only-of-type {\n",
       "        vertical-align: middle;\n",
       "    }\n",
       "\n",
       "    .dataframe tbody tr th {\n",
       "        vertical-align: top;\n",
       "    }\n",
       "\n",
       "    .dataframe thead th {\n",
       "        text-align: right;\n",
       "    }\n",
       "</style>\n",
       "<table border=\"1\" class=\"dataframe\">\n",
       "  <thead>\n",
       "    <tr style=\"text-align: right;\">\n",
       "      <th></th>\n",
       "      <th>Year</th>\n",
       "      <th>VALUE</th>\n",
       "      <th>Statistic_Mean Price per Acre</th>\n",
       "      <th>Statistic_Median Price per Acre</th>\n",
       "      <th>Type of Land Use_All Land Types</th>\n",
       "      <th>Type of Land Use_Arable Land</th>\n",
       "      <th>Type of Land Use_Permanent Grassland</th>\n",
       "      <th>Region_Border</th>\n",
       "      <th>Region_Dublin</th>\n",
       "      <th>Region_Mid-East</th>\n",
       "      <th>Region_Mid-West</th>\n",
       "      <th>Region_Midland</th>\n",
       "      <th>Region_South-East</th>\n",
       "      <th>Region_South-West</th>\n",
       "      <th>Region_State</th>\n",
       "      <th>Region_West</th>\n",
       "    </tr>\n",
       "  </thead>\n",
       "  <tbody>\n",
       "    <tr>\n",
       "      <th>0</th>\n",
       "      <td>2013</td>\n",
       "      <td>6389.800000</td>\n",
       "      <td>0</td>\n",
       "      <td>1</td>\n",
       "      <td>1</td>\n",
       "      <td>0</td>\n",
       "      <td>0</td>\n",
       "      <td>0</td>\n",
       "      <td>0</td>\n",
       "      <td>0</td>\n",
       "      <td>0</td>\n",
       "      <td>0</td>\n",
       "      <td>0</td>\n",
       "      <td>0</td>\n",
       "      <td>1</td>\n",
       "      <td>0</td>\n",
       "    </tr>\n",
       "    <tr>\n",
       "      <th>1</th>\n",
       "      <td>2013</td>\n",
       "      <td>4685.200000</td>\n",
       "      <td>0</td>\n",
       "      <td>1</td>\n",
       "      <td>1</td>\n",
       "      <td>0</td>\n",
       "      <td>0</td>\n",
       "      <td>1</td>\n",
       "      <td>0</td>\n",
       "      <td>0</td>\n",
       "      <td>0</td>\n",
       "      <td>0</td>\n",
       "      <td>0</td>\n",
       "      <td>0</td>\n",
       "      <td>0</td>\n",
       "      <td>0</td>\n",
       "    </tr>\n",
       "    <tr>\n",
       "      <th>2</th>\n",
       "      <td>2013</td>\n",
       "      <td>7114.600000</td>\n",
       "      <td>0</td>\n",
       "      <td>1</td>\n",
       "      <td>1</td>\n",
       "      <td>0</td>\n",
       "      <td>0</td>\n",
       "      <td>0</td>\n",
       "      <td>0</td>\n",
       "      <td>0</td>\n",
       "      <td>0</td>\n",
       "      <td>1</td>\n",
       "      <td>0</td>\n",
       "      <td>0</td>\n",
       "      <td>0</td>\n",
       "      <td>0</td>\n",
       "    </tr>\n",
       "    <tr>\n",
       "      <th>3</th>\n",
       "      <td>2013</td>\n",
       "      <td>4496.500000</td>\n",
       "      <td>0</td>\n",
       "      <td>1</td>\n",
       "      <td>1</td>\n",
       "      <td>0</td>\n",
       "      <td>0</td>\n",
       "      <td>0</td>\n",
       "      <td>0</td>\n",
       "      <td>0</td>\n",
       "      <td>0</td>\n",
       "      <td>0</td>\n",
       "      <td>0</td>\n",
       "      <td>0</td>\n",
       "      <td>0</td>\n",
       "      <td>1</td>\n",
       "    </tr>\n",
       "    <tr>\n",
       "      <th>4</th>\n",
       "      <td>2013</td>\n",
       "      <td>10117.200000</td>\n",
       "      <td>0</td>\n",
       "      <td>1</td>\n",
       "      <td>1</td>\n",
       "      <td>0</td>\n",
       "      <td>0</td>\n",
       "      <td>0</td>\n",
       "      <td>1</td>\n",
       "      <td>0</td>\n",
       "      <td>0</td>\n",
       "      <td>0</td>\n",
       "      <td>0</td>\n",
       "      <td>0</td>\n",
       "      <td>0</td>\n",
       "      <td>0</td>\n",
       "    </tr>\n",
       "    <tr>\n",
       "      <th>...</th>\n",
       "      <td>...</td>\n",
       "      <td>...</td>\n",
       "      <td>...</td>\n",
       "      <td>...</td>\n",
       "      <td>...</td>\n",
       "      <td>...</td>\n",
       "      <td>...</td>\n",
       "      <td>...</td>\n",
       "      <td>...</td>\n",
       "      <td>...</td>\n",
       "      <td>...</td>\n",
       "      <td>...</td>\n",
       "      <td>...</td>\n",
       "      <td>...</td>\n",
       "      <td>...</td>\n",
       "      <td>...</td>\n",
       "    </tr>\n",
       "    <tr>\n",
       "      <th>859</th>\n",
       "      <td>2020</td>\n",
       "      <td>52726.851987</td>\n",
       "      <td>1</td>\n",
       "      <td>0</td>\n",
       "      <td>0</td>\n",
       "      <td>0</td>\n",
       "      <td>1</td>\n",
       "      <td>0</td>\n",
       "      <td>1</td>\n",
       "      <td>0</td>\n",
       "      <td>0</td>\n",
       "      <td>0</td>\n",
       "      <td>0</td>\n",
       "      <td>0</td>\n",
       "      <td>0</td>\n",
       "      <td>0</td>\n",
       "    </tr>\n",
       "    <tr>\n",
       "      <th>860</th>\n",
       "      <td>2020</td>\n",
       "      <td>46379.950276</td>\n",
       "      <td>1</td>\n",
       "      <td>0</td>\n",
       "      <td>0</td>\n",
       "      <td>0</td>\n",
       "      <td>1</td>\n",
       "      <td>0</td>\n",
       "      <td>0</td>\n",
       "      <td>1</td>\n",
       "      <td>0</td>\n",
       "      <td>0</td>\n",
       "      <td>0</td>\n",
       "      <td>0</td>\n",
       "      <td>0</td>\n",
       "      <td>0</td>\n",
       "    </tr>\n",
       "    <tr>\n",
       "      <th>861</th>\n",
       "      <td>2020</td>\n",
       "      <td>48077.317138</td>\n",
       "      <td>1</td>\n",
       "      <td>0</td>\n",
       "      <td>0</td>\n",
       "      <td>0</td>\n",
       "      <td>1</td>\n",
       "      <td>0</td>\n",
       "      <td>0</td>\n",
       "      <td>0</td>\n",
       "      <td>1</td>\n",
       "      <td>0</td>\n",
       "      <td>0</td>\n",
       "      <td>0</td>\n",
       "      <td>0</td>\n",
       "      <td>0</td>\n",
       "    </tr>\n",
       "    <tr>\n",
       "      <th>862</th>\n",
       "      <td>2020</td>\n",
       "      <td>66125.399956</td>\n",
       "      <td>1</td>\n",
       "      <td>0</td>\n",
       "      <td>0</td>\n",
       "      <td>0</td>\n",
       "      <td>1</td>\n",
       "      <td>0</td>\n",
       "      <td>0</td>\n",
       "      <td>0</td>\n",
       "      <td>0</td>\n",
       "      <td>0</td>\n",
       "      <td>1</td>\n",
       "      <td>0</td>\n",
       "      <td>0</td>\n",
       "      <td>0</td>\n",
       "    </tr>\n",
       "    <tr>\n",
       "      <th>863</th>\n",
       "      <td>2020</td>\n",
       "      <td>44868.653766</td>\n",
       "      <td>1</td>\n",
       "      <td>0</td>\n",
       "      <td>0</td>\n",
       "      <td>0</td>\n",
       "      <td>1</td>\n",
       "      <td>0</td>\n",
       "      <td>0</td>\n",
       "      <td>0</td>\n",
       "      <td>0</td>\n",
       "      <td>0</td>\n",
       "      <td>0</td>\n",
       "      <td>1</td>\n",
       "      <td>0</td>\n",
       "      <td>0</td>\n",
       "    </tr>\n",
       "  </tbody>\n",
       "</table>\n",
       "<p>804 rows × 16 columns</p>\n",
       "</div>"
      ],
      "text/plain": [
       "     Year         VALUE  Statistic_Mean Price per Acre  \\\n",
       "0    2013   6389.800000                              0   \n",
       "1    2013   4685.200000                              0   \n",
       "2    2013   7114.600000                              0   \n",
       "3    2013   4496.500000                              0   \n",
       "4    2013  10117.200000                              0   \n",
       "..    ...           ...                            ...   \n",
       "859  2020  52726.851987                              1   \n",
       "860  2020  46379.950276                              1   \n",
       "861  2020  48077.317138                              1   \n",
       "862  2020  66125.399956                              1   \n",
       "863  2020  44868.653766                              1   \n",
       "\n",
       "     Statistic_Median Price per Acre  Type of Land Use_All Land Types  \\\n",
       "0                                  1                                1   \n",
       "1                                  1                                1   \n",
       "2                                  1                                1   \n",
       "3                                  1                                1   \n",
       "4                                  1                                1   \n",
       "..                               ...                              ...   \n",
       "859                                0                                0   \n",
       "860                                0                                0   \n",
       "861                                0                                0   \n",
       "862                                0                                0   \n",
       "863                                0                                0   \n",
       "\n",
       "     Type of Land Use_Arable Land  Type of Land Use_Permanent Grassland  \\\n",
       "0                               0                                     0   \n",
       "1                               0                                     0   \n",
       "2                               0                                     0   \n",
       "3                               0                                     0   \n",
       "4                               0                                     0   \n",
       "..                            ...                                   ...   \n",
       "859                             0                                     1   \n",
       "860                             0                                     1   \n",
       "861                             0                                     1   \n",
       "862                             0                                     1   \n",
       "863                             0                                     1   \n",
       "\n",
       "     Region_Border  Region_Dublin  Region_Mid-East  Region_Mid-West  \\\n",
       "0                0              0                0                0   \n",
       "1                1              0                0                0   \n",
       "2                0              0                0                0   \n",
       "3                0              0                0                0   \n",
       "4                0              1                0                0   \n",
       "..             ...            ...              ...              ...   \n",
       "859              0              1                0                0   \n",
       "860              0              0                1                0   \n",
       "861              0              0                0                1   \n",
       "862              0              0                0                0   \n",
       "863              0              0                0                0   \n",
       "\n",
       "     Region_Midland  Region_South-East  Region_South-West  Region_State  \\\n",
       "0                 0                  0                  0             1   \n",
       "1                 0                  0                  0             0   \n",
       "2                 1                  0                  0             0   \n",
       "3                 0                  0                  0             0   \n",
       "4                 0                  0                  0             0   \n",
       "..              ...                ...                ...           ...   \n",
       "859               0                  0                  0             0   \n",
       "860               0                  0                  0             0   \n",
       "861               0                  0                  0             0   \n",
       "862               0                  1                  0             0   \n",
       "863               0                  0                  1             0   \n",
       "\n",
       "     Region_West  \n",
       "0              0  \n",
       "1              0  \n",
       "2              0  \n",
       "3              1  \n",
       "4              0  \n",
       "..           ...  \n",
       "859            0  \n",
       "860            0  \n",
       "861            0  \n",
       "862            0  \n",
       "863            0  \n",
       "\n",
       "[804 rows x 16 columns]"
      ]
     },
     "execution_count": 32,
     "metadata": {},
     "output_type": "execute_result"
    }
   ],
   "source": [
    "df"
   ]
  },
  {
   "cell_type": "code",
   "execution_count": 33,
   "id": "f1b0341a",
   "metadata": {},
   "outputs": [],
   "source": [
    "scaler = MinMaxScaler()"
   ]
  },
  {
   "cell_type": "code",
   "execution_count": 34,
   "id": "075667cb",
   "metadata": {
    "scrolled": true
   },
   "outputs": [],
   "source": [
    "df[\"Year\"] = scaler.fit_transform(df[[\"Year\"]])"
   ]
  },
  {
   "cell_type": "code",
   "execution_count": 35,
   "id": "d0c652dc",
   "metadata": {},
   "outputs": [],
   "source": [
    "X = df.drop(columns=[\"VALUE\"])\n",
    "y = df[\"VALUE\"]\n",
    "\n",
    "X_train, X_test, y_train, y_test = train_test_split(X, y, test_size=0.3,\n",
    "                                                    random_state=42)"
   ]
  },
  {
   "cell_type": "code",
   "execution_count": 36,
   "id": "688b7d32",
   "metadata": {},
   "outputs": [],
   "source": [
    "for model in models_dict:\n",
    "    models_dict[model] = models_dict[model]().fit(X_train, y_train)"
   ]
  },
  {
   "cell_type": "code",
   "execution_count": 37,
   "id": "73a0f229",
   "metadata": {},
   "outputs": [],
   "source": [
    "results = {\"model\":[],\"r2\":[],\"mse\":[],\"mae\":[]}\n",
    "for model in models_dict:\n",
    "    results[\"model\"].append(model)\n",
    "    for metric in metrics_dict:\n",
    "        pred = models_dict[model].predict(X_test)\n",
    "        results[metric].append(metrics_dict[metric](y_test, pred))"
   ]
  },
  {
   "cell_type": "code",
   "execution_count": 38,
   "id": "aa45e554",
   "metadata": {},
   "outputs": [
    {
     "data": {
      "text/html": [
       "<div>\n",
       "<style scoped>\n",
       "    .dataframe tbody tr th:only-of-type {\n",
       "        vertical-align: middle;\n",
       "    }\n",
       "\n",
       "    .dataframe tbody tr th {\n",
       "        vertical-align: top;\n",
       "    }\n",
       "\n",
       "    .dataframe thead th {\n",
       "        text-align: right;\n",
       "    }\n",
       "</style>\n",
       "<table border=\"1\" class=\"dataframe\">\n",
       "  <thead>\n",
       "    <tr style=\"text-align: right;\">\n",
       "      <th></th>\n",
       "      <th>model</th>\n",
       "      <th>r2</th>\n",
       "      <th>mse</th>\n",
       "      <th>mae</th>\n",
       "    </tr>\n",
       "  </thead>\n",
       "  <tbody>\n",
       "    <tr>\n",
       "      <th>0</th>\n",
       "      <td>rf</td>\n",
       "      <td>-0.625430</td>\n",
       "      <td>1.237692e+09</td>\n",
       "      <td>31984.655067</td>\n",
       "    </tr>\n",
       "    <tr>\n",
       "      <th>1</th>\n",
       "      <td>knn</td>\n",
       "      <td>-0.055599</td>\n",
       "      <td>8.037916e+08</td>\n",
       "      <td>25186.310167</td>\n",
       "    </tr>\n",
       "    <tr>\n",
       "      <th>2</th>\n",
       "      <td>ada</td>\n",
       "      <td>0.160620</td>\n",
       "      <td>6.391501e+08</td>\n",
       "      <td>22767.677170</td>\n",
       "    </tr>\n",
       "    <tr>\n",
       "      <th>3</th>\n",
       "      <td>lr</td>\n",
       "      <td>0.145992</td>\n",
       "      <td>6.502889e+08</td>\n",
       "      <td>22767.606357</td>\n",
       "    </tr>\n",
       "  </tbody>\n",
       "</table>\n",
       "</div>"
      ],
      "text/plain": [
       "  model        r2           mse           mae\n",
       "0    rf -0.625430  1.237692e+09  31984.655067\n",
       "1   knn -0.055599  8.037916e+08  25186.310167\n",
       "2   ada  0.160620  6.391501e+08  22767.677170\n",
       "3    lr  0.145992  6.502889e+08  22767.606357"
      ]
     },
     "execution_count": 38,
     "metadata": {},
     "output_type": "execute_result"
    }
   ],
   "source": [
    "pd.DataFrame(results)"
   ]
  },
  {
   "cell_type": "code",
   "execution_count": 40,
   "id": "020a3023",
   "metadata": {},
   "outputs": [
    {
     "data": {
      "text/plain": [
       "29635.868008289977"
      ]
     },
     "execution_count": 40,
     "metadata": {},
     "output_type": "execute_result"
    }
   ],
   "source": [
    "df[\"VALUE\"].mean()"
   ]
  },
  {
   "cell_type": "code",
   "execution_count": 137,
   "id": "5c1d546c",
   "metadata": {},
   "outputs": [
    {
     "data": {
      "text/plain": [
       "<BarContainer object of 15 artists>"
      ]
     },
     "execution_count": 137,
     "metadata": {},
     "output_type": "execute_result"
    },
    {
     "data": {
      "image/png": "[encoded data removed]",
      "text/plain": [
       "<Figure size 432x288 with 1 Axes>"
      ]
     },
     "metadata": {
      "needs_background": "light"
     },
     "output_type": "display_data"
    }
   ],
   "source": [
    "plt.barh(width=np.sort(models_dict[\"ada\"].feature_importances_),\n",
    "                      y=X.columns[np.argsort(models_dict[\"ada\"].feature_importances_)])"
   ]
  },
  {
   "cell_type": "code",
   "execution_count": 160,
   "id": "6422dad9",
   "metadata": {},
   "outputs": [
    {
     "data": {
      "text/plain": [
       "GridSearchCV(estimator=AdaBoostRegressor(),\n",
       "             param_grid={'learning_rate': [0.1, 0.2, 0.5, 1],\n",
       "                         'n_estimators': [20, 50, 100]},\n",
       "             scoring='neg_mean_absolute_error')"
      ]
     },
     "execution_count": 160,
     "metadata": {},
     "output_type": "execute_result"
    }
   ],
   "source": [
    "parameters_dict = {\"n_estimators\":[20,50,100],\n",
    "                   \"learning_rate\":[0.1,0.2,0.5,1]}\n",
    "\n",
    "model = AdaBoostRegressor()\n",
    "clf = GridSearchCV(model, parameters_dict, scoring='neg_mean_absolute_error')\n",
    "clf.fit(X,y)"
   ]
  },
  {
   "cell_type": "code",
   "execution_count": 161,
   "id": "6acfb20f",
   "metadata": {},
   "outputs": [
    {
     "data": {
      "text/plain": [
       "{'learning_rate': 1, 'n_estimators': 100}"
      ]
     },
     "execution_count": 161,
     "metadata": {},
     "output_type": "execute_result"
    }
   ],
   "source": [
    "clf.best_params_"
   ]
  },
  {
   "cell_type": "code",
   "execution_count": 163,
   "id": "eac31b2c",
   "metadata": {},
   "outputs": [
    {
     "data": {
      "text/plain": [
       "-29897.354435294757"
      ]
     },
     "execution_count": 163,
     "metadata": {},
     "output_type": "execute_result"
    }
   ],
   "source": [
    "clf.best_score_"
   ]
  },
  {
   "cell_type": "markdown",
   "id": "8ef00560",
   "metadata": {},
   "source": [
    "### End"
   ]
  },
  {
   "cell_type": "code",
   "execution_count": 41,
   "id": "550a5501",
   "metadata": {},
   "outputs": [],
   "source": [
    "df = df[(df[\"Statistic_Mean Price per Acre\"]==1)&(df[\"Type of Land Use_All Land Types\"]==1)][[\"Year\",\"VALUE\"]]"
   ]
  },
  {
   "cell_type": "code",
   "execution_count": 42,
   "id": "ded1ca83",
   "metadata": {},
   "outputs": [],
   "source": [
    "df[\"Year\"] = scaler.inverse_transform(df[[\"Year\"]])"
   ]
  },
  {
   "cell_type": "code",
   "execution_count": 43,
   "id": "3780485b",
   "metadata": {},
   "outputs": [],
   "source": [
    "df = df.groupby(\"Year\").mean().reset_index().rename(columns={\"VALUE\":\"Land Price\"})"
   ]
  },
  {
   "cell_type": "code",
   "execution_count": 44,
   "id": "51f9cd3f",
   "metadata": {},
   "outputs": [
    {
     "data": {
      "text/html": [
       "<div>\n",
       "<style scoped>\n",
       "    .dataframe tbody tr th:only-of-type {\n",
       "        vertical-align: middle;\n",
       "    }\n",
       "\n",
       "    .dataframe tbody tr th {\n",
       "        vertical-align: top;\n",
       "    }\n",
       "\n",
       "    .dataframe thead th {\n",
       "        text-align: right;\n",
       "    }\n",
       "</style>\n",
       "<table border=\"1\" class=\"dataframe\">\n",
       "  <thead>\n",
       "    <tr style=\"text-align: right;\">\n",
       "      <th></th>\n",
       "      <th>Year</th>\n",
       "      <th>Land Price</th>\n",
       "    </tr>\n",
       "  </thead>\n",
       "  <tbody>\n",
       "    <tr>\n",
       "      <th>0</th>\n",
       "      <td>2013.0</td>\n",
       "      <td>24735.281700</td>\n",
       "    </tr>\n",
       "    <tr>\n",
       "      <th>1</th>\n",
       "      <td>2014.0</td>\n",
       "      <td>26153.927062</td>\n",
       "    </tr>\n",
       "    <tr>\n",
       "      <th>2</th>\n",
       "      <td>2015.0</td>\n",
       "      <td>23717.800962</td>\n",
       "    </tr>\n",
       "    <tr>\n",
       "      <th>3</th>\n",
       "      <td>2016.0</td>\n",
       "      <td>22761.334020</td>\n",
       "    </tr>\n",
       "    <tr>\n",
       "      <th>4</th>\n",
       "      <td>2017.0</td>\n",
       "      <td>24808.491920</td>\n",
       "    </tr>\n",
       "    <tr>\n",
       "      <th>5</th>\n",
       "      <td>2018.0</td>\n",
       "      <td>27986.827726</td>\n",
       "    </tr>\n",
       "    <tr>\n",
       "      <th>6</th>\n",
       "      <td>2019.0</td>\n",
       "      <td>24618.471287</td>\n",
       "    </tr>\n",
       "    <tr>\n",
       "      <th>7</th>\n",
       "      <td>2020.0</td>\n",
       "      <td>24845.948310</td>\n",
       "    </tr>\n",
       "  </tbody>\n",
       "</table>\n",
       "</div>"
      ],
      "text/plain": [
       "     Year    Land Price\n",
       "0  2013.0  24735.281700\n",
       "1  2014.0  26153.927062\n",
       "2  2015.0  23717.800962\n",
       "3  2016.0  22761.334020\n",
       "4  2017.0  24808.491920\n",
       "5  2018.0  27986.827726\n",
       "6  2019.0  24618.471287\n",
       "7  2020.0  24845.948310"
      ]
     },
     "execution_count": 44,
     "metadata": {},
     "output_type": "execute_result"
    }
   ],
   "source": [
    "df"
   ]
  },
  {
   "cell_type": "code",
   "execution_count": 149,
   "id": "b52701e7",
   "metadata": {},
   "outputs": [],
   "source": [
    "df.to_csv(\"land_price.csv\")"
   ]
  }
 ],
 "metadata": {
  "kernelspec": {
   "display_name": "Python 3 (ipykernel)",
   "language": "python",
   "name": "python3"
  },
  "language_info": {
   "codemirror_mode": {
    "name": "ipython",
    "version": 3
   },
   "file_extension": ".py",
   "mimetype": "text/x-python",
   "name": "python",
   "nbconvert_exporter": "python",
   "pygments_lexer": "ipython3",
   "version": "3.9.7"
  }
 },
 "nbformat": 4,
 "nbformat_minor": 5
}
