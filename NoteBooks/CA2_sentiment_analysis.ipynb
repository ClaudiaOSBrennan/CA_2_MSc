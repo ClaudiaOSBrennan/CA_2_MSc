{
 "cells": [
  {
   "cell_type": "code",
   "execution_count": 61,
   "id": "6e5fd869",
   "metadata": {},
   "outputs": [
    {
     "name": "stderr",
     "output_type": "stream",
     "text": [
      "[nltk_data] Downloading package stopwords to\n",
      "[nltk_data]     C:\\Users\\NB28149\\AppData\\Roaming\\nltk_data...\n",
      "[nltk_data]   Package stopwords is already up-to-date!\n",
      "[nltk_data] Downloading package vader_lexicon to\n",
      "[nltk_data]     C:\\Users\\NB28149\\AppData\\Roaming\\nltk_data...\n",
      "[nltk_data]   Package vader_lexicon is already up-to-date!\n"
     ]
    }
   ],
   "source": [
    "import pandas as pd\n",
    "import numpy as np\n",
    "import seaborn as sns\n",
    "import tweepy\n",
    "import re\n",
    "import string\n",
    "from string import punctuation\n",
    "import nltk\n",
    "from nltk.corpus import stopwords\n",
    "nltk.download('stopwords')\n",
    "\n",
    "\n",
    "import matplotlib.pyplot as plt\n",
    "from sklearn.model_selection import train_test_split\n",
    "from sklearn.metrics import accuracy_score\n",
    "from sklearn.feature_extraction.text import CountVectorizer\n",
    "from sklearn.feature_extraction.text import TfidfTransformer\n",
    "from sklearn.feature_extraction.text import TfidfVectorizer\n",
    "\n",
    "import tensorflow as tf\n",
    "from tensorflow.keras.models import Sequential\n",
    "from tensorflow.keras.layers import Dense, Activation, Dropout\n",
    "from tensorflow.keras.callbacks import EarlyStopping\n",
    "\n",
    "nltk.download('vader_lexicon')\n",
    "from nltk.sentiment.vader import SentimentIntensityAnalyzer"
   ]
  },
  {
   "cell_type": "code",
   "execution_count": 62,
   "id": "fcba5c0c",
   "metadata": {},
   "outputs": [],
   "source": [
    "api_key = \"dzPfHbw07mHlxqWrbFXPnJ83R\"\n",
    "api_secret = \"8lAhud69E2748mdv8eKpsRf2lwDWlBVDk8YMxjxrGLRCfhppTj\"\n",
    "bearer_token = \"AAAAAAAAAAAAAAAAAAAAAEHZbwEAAAAAAWZ%2FmsJH42PgVE44JaUqw8spT6M%3DDczwilpVRZtjfpRPK6l6TSjTB6l9EXAsVqVafUCabWoNLNDeh9\"\n",
    "acess_token = \"2534496417-9rOsCGmGMi9R9kfzifhqJrzP0YxX4ejBgTu3tnf\"\n",
    "acess_secret = \"ccLadXKnmQme8WuUIPsP3X7CUn9WvPFk56uCHWHDq6H76\""
   ]
  },
  {
   "cell_type": "code",
   "execution_count": 63,
   "id": "32092fff",
   "metadata": {},
   "outputs": [],
   "source": [
    "client = tweepy.Client(bearer_token=bearer_token)"
   ]
  },
  {
   "cell_type": "code",
   "execution_count": 68,
   "id": "8659ce93",
   "metadata": {},
   "outputs": [],
   "source": [
    "query = '''ireland milk -is:retweet lang:en'''\n",
    "tweets = client.search_recent_tweets(query=query,\n",
    "                                     tweet_fields = [\"geo\", \"text\", \"source\", \"context_annotations\"],\n",
    "                                     user_fields = [\"location\"],\n",
    "                                     max_results = 100,\n",
    "                                     )"
   ]
  },
  {
   "cell_type": "code",
   "execution_count": 71,
   "id": "484f0893",
   "metadata": {
    "scrolled": true
   },
   "outputs": [],
   "source": [
    "tweets_ireland = {}\n",
    "tweets_ireland[\"tweet\"] = []\n",
    "for tweet in tweets.data:\n",
    "    tweets_ireland[\"tweet\"].append(tweet.text)"
   ]
  },
  {
   "cell_type": "code",
   "execution_count": 74,
   "id": "b2692681",
   "metadata": {},
   "outputs": [],
   "source": [
    "df_ireland = pd.DataFrame(tweets_ireland)"
   ]
  },
  {
   "cell_type": "code",
   "execution_count": 77,
   "id": "090a420e",
   "metadata": {},
   "outputs": [],
   "source": [
    "df_ireland[\"tweet\"] = df_ireland[\"tweet\"].str.replace(\"\\n\",\"\")"
   ]
  },
  {
   "cell_type": "code",
   "execution_count": 78,
   "id": "e15aa194",
   "metadata": {},
   "outputs": [],
   "source": [
    "query = '''us milk -is:retweet lang:en'''\n",
    "tweets = client.search_recent_tweets(query=query,\n",
    "                                     tweet_fields = [\"geo\", \"text\", \"source\", \"context_annotations\"],\n",
    "                                     user_fields = [\"location\"],\n",
    "                                     max_results = 100,\n",
    "                                     )"
   ]
  },
  {
   "cell_type": "code",
   "execution_count": 79,
   "id": "7ea3e1f7",
   "metadata": {},
   "outputs": [],
   "source": [
    "tweets_us = {}\n",
    "tweets_us[\"tweet\"] = []\n",
    "for tweet in tweets.data:\n",
    "    tweets_us[\"tweet\"].append(tweet.text)"
   ]
  },
  {
   "cell_type": "code",
   "execution_count": 80,
   "id": "410a5635",
   "metadata": {},
   "outputs": [],
   "source": [
    "df_us = pd.DataFrame(tweets_us)"
   ]
  },
  {
   "cell_type": "code",
   "execution_count": 81,
   "id": "284fc12b",
   "metadata": {},
   "outputs": [],
   "source": [
    "df_us[\"tweet\"] = df_us[\"tweet\"].str.replace(\"\\n\",\"\")"
   ]
  },
  {
   "cell_type": "code",
   "execution_count": 44,
   "id": "0e31fc0a",
   "metadata": {},
   "outputs": [],
   "source": [
    "df = pd.read_csv('clothing_review.csv')"
   ]
  },
  {
   "cell_type": "code",
   "execution_count": 45,
   "id": "bd152dd6",
   "metadata": {},
   "outputs": [],
   "source": [
    "df = df.drop(['Title', 'Positive Feedback Count', 'Unnamed: 0', ], axis=1)\n",
    "df.dropna(inplace=True)"
   ]
  },
  {
   "cell_type": "code",
   "execution_count": 46,
   "id": "d050293e",
   "metadata": {},
   "outputs": [],
   "source": [
    "df['Polarity_Rating'] = df['Rating'].apply(lambda x: 'Positive' if x > 3 else('Neutral' if x == 3  else 'Negative'))"
   ]
  },
  {
   "cell_type": "code",
   "execution_count": 47,
   "id": "301b8fca",
   "metadata": {},
   "outputs": [],
   "source": [
    "df_Positive = df[df['Polarity_Rating'] == 'Positive'][0:8000]\n",
    "df_Neutral = df[df['Polarity_Rating'] == 'Neutral']\n",
    "df_Negative = df[df['Polarity_Rating'] == 'Negative']"
   ]
  },
  {
   "cell_type": "code",
   "execution_count": 48,
   "id": "e2afe125",
   "metadata": {},
   "outputs": [],
   "source": [
    "df_Neutral_over = df_Neutral.sample(8000, replace=True)\n",
    "df_Negative_over = df_Negative.sample(8000, replace=True)\n",
    "df = pd.concat([df_Positive, df_Neutral_over, df_Negative_over], axis=0)"
   ]
  },
  {
   "cell_type": "code",
   "execution_count": 49,
   "id": "03cb16bb",
   "metadata": {},
   "outputs": [],
   "source": [
    "def get_text_processing(text):\n",
    "    stpword = stopwords.words('english')\n",
    "    no_punctuation = [char for char in text if char not in string.punctuation]\n",
    "    no_punctuation = ''.join(no_punctuation)\n",
    "    return ' '.join([word for word in no_punctuation.split() if word.lower() not in stpword])"
   ]
  },
  {
   "cell_type": "code",
   "execution_count": 50,
   "id": "9d04a3ab",
   "metadata": {},
   "outputs": [],
   "source": [
    "df['review'] = df['Review Text'].apply(get_text_processing)"
   ]
  },
  {
   "cell_type": "code",
   "execution_count": 51,
   "id": "291d4028",
   "metadata": {},
   "outputs": [],
   "source": [
    "df = df[['review', 'Polarity_Rating']]"
   ]
  },
  {
   "cell_type": "code",
   "execution_count": 52,
   "id": "d1725ed4",
   "metadata": {},
   "outputs": [],
   "source": [
    "one_hot = pd.get_dummies(df[\"Polarity_Rating\"])\n",
    "df_ = df.copy()\n",
    "df_.drop(['Polarity_Rating'],axis=1,inplace=True)\n",
    "df_ = pd.concat([df,one_hot],axis=1)"
   ]
  },
  {
   "cell_type": "code",
   "execution_count": 100,
   "id": "4104a391",
   "metadata": {},
   "outputs": [
    {
     "data": {
      "text/html": [
       "<div>\n",
       "<style scoped>\n",
       "    .dataframe tbody tr th:only-of-type {\n",
       "        vertical-align: middle;\n",
       "    }\n",
       "\n",
       "    .dataframe tbody tr th {\n",
       "        vertical-align: top;\n",
       "    }\n",
       "\n",
       "    .dataframe thead th {\n",
       "        text-align: right;\n",
       "    }\n",
       "</style>\n",
       "<table border=\"1\" class=\"dataframe\">\n",
       "  <thead>\n",
       "    <tr style=\"text-align: right;\">\n",
       "      <th></th>\n",
       "      <th>review</th>\n",
       "      <th>Polarity_Rating</th>\n",
       "      <th>Negative</th>\n",
       "      <th>Neutral</th>\n",
       "      <th>Positive</th>\n",
       "    </tr>\n",
       "  </thead>\n",
       "  <tbody>\n",
       "    <tr>\n",
       "      <th>0</th>\n",
       "      <td>Absolutely wonderful silky sexy comfortable</td>\n",
       "      <td>Positive</td>\n",
       "      <td>0</td>\n",
       "      <td>0</td>\n",
       "      <td>1</td>\n",
       "    </tr>\n",
       "    <tr>\n",
       "      <th>1</th>\n",
       "      <td>Love dress sooo pretty happened find store im ...</td>\n",
       "      <td>Positive</td>\n",
       "      <td>0</td>\n",
       "      <td>0</td>\n",
       "      <td>1</td>\n",
       "    </tr>\n",
       "    <tr>\n",
       "      <th>3</th>\n",
       "      <td>love love love jumpsuit fun flirty fabulous ev...</td>\n",
       "      <td>Positive</td>\n",
       "      <td>0</td>\n",
       "      <td>0</td>\n",
       "      <td>1</td>\n",
       "    </tr>\n",
       "    <tr>\n",
       "      <th>4</th>\n",
       "      <td>shirt flattering due adjustable front tie perf...</td>\n",
       "      <td>Positive</td>\n",
       "      <td>0</td>\n",
       "      <td>0</td>\n",
       "      <td>1</td>\n",
       "    </tr>\n",
       "    <tr>\n",
       "      <th>6</th>\n",
       "      <td>aded basket hte last mintue see would look lik...</td>\n",
       "      <td>Positive</td>\n",
       "      <td>0</td>\n",
       "      <td>0</td>\n",
       "      <td>1</td>\n",
       "    </tr>\n",
       "    <tr>\n",
       "      <th>...</th>\n",
       "      <td>...</td>\n",
       "      <td>...</td>\n",
       "      <td>...</td>\n",
       "      <td>...</td>\n",
       "      <td>...</td>\n",
       "    </tr>\n",
       "    <tr>\n",
       "      <th>20205</th>\n",
       "      <td>Love silhouette coziness fabric first wearings...</td>\n",
       "      <td>Negative</td>\n",
       "      <td>1</td>\n",
       "      <td>0</td>\n",
       "      <td>0</td>\n",
       "    </tr>\n",
       "    <tr>\n",
       "      <th>22885</th>\n",
       "      <td>Bummer loved lacy bell arms everything look sw...</td>\n",
       "      <td>Negative</td>\n",
       "      <td>1</td>\n",
       "      <td>0</td>\n",
       "      <td>0</td>\n",
       "    </tr>\n",
       "    <tr>\n",
       "      <th>20874</th>\n",
       "      <td>Alas wanted love photos models wearing look go...</td>\n",
       "      <td>Negative</td>\n",
       "      <td>1</td>\n",
       "      <td>0</td>\n",
       "      <td>0</td>\n",
       "    </tr>\n",
       "    <tr>\n",
       "      <th>20240</th>\n",
       "      <td>ginormous shapeless shirt runs extremely large...</td>\n",
       "      <td>Negative</td>\n",
       "      <td>1</td>\n",
       "      <td>0</td>\n",
       "      <td>0</td>\n",
       "    </tr>\n",
       "    <tr>\n",
       "      <th>11026</th>\n",
       "      <td>couple weeks debated making purchase fear size...</td>\n",
       "      <td>Negative</td>\n",
       "      <td>1</td>\n",
       "      <td>0</td>\n",
       "      <td>0</td>\n",
       "    </tr>\n",
       "  </tbody>\n",
       "</table>\n",
       "<p>24000 rows × 5 columns</p>\n",
       "</div>"
      ],
      "text/plain": [
       "                                                  review Polarity_Rating  \\\n",
       "0            Absolutely wonderful silky sexy comfortable        Positive   \n",
       "1      Love dress sooo pretty happened find store im ...        Positive   \n",
       "3      love love love jumpsuit fun flirty fabulous ev...        Positive   \n",
       "4      shirt flattering due adjustable front tie perf...        Positive   \n",
       "6      aded basket hte last mintue see would look lik...        Positive   \n",
       "...                                                  ...             ...   \n",
       "20205  Love silhouette coziness fabric first wearings...        Negative   \n",
       "22885  Bummer loved lacy bell arms everything look sw...        Negative   \n",
       "20874  Alas wanted love photos models wearing look go...        Negative   \n",
       "20240  ginormous shapeless shirt runs extremely large...        Negative   \n",
       "11026  couple weeks debated making purchase fear size...        Negative   \n",
       "\n",
       "       Negative  Neutral  Positive  \n",
       "0             0        0         1  \n",
       "1             0        0         1  \n",
       "3             0        0         1  \n",
       "4             0        0         1  \n",
       "6             0        0         1  \n",
       "...         ...      ...       ...  \n",
       "20205         1        0         0  \n",
       "22885         1        0         0  \n",
       "20874         1        0         0  \n",
       "20240         1        0         0  \n",
       "11026         1        0         0  \n",
       "\n",
       "[24000 rows x 5 columns]"
      ]
     },
     "execution_count": 100,
     "metadata": {},
     "output_type": "execute_result"
    }
   ],
   "source": [
    "df_"
   ]
  },
  {
   "cell_type": "code",
   "execution_count": 53,
   "id": "7969de0f",
   "metadata": {},
   "outputs": [],
   "source": [
    "X = df_['review'].values\n",
    "y = df_.drop('review', axis=1).values\n",
    "X_train, X_test, y_train, y_test = train_test_split(X, y, test_size=0.30, random_state=42)"
   ]
  },
  {
   "cell_type": "code",
   "execution_count": 94,
   "id": "7f00d774",
   "metadata": {},
   "outputs": [],
   "source": [
    "vect = CountVectorizer(max_features=5000)\n",
    "X_train = vect.fit_transform(X_train)\n",
    "X_test = vect.transform(X_test)"
   ]
  },
  {
   "cell_type": "code",
   "execution_count": 95,
   "id": "b68d9986",
   "metadata": {},
   "outputs": [],
   "source": [
    "tfidf = TfidfTransformer()\n",
    "X_train = tfidf.fit_transform(X_train)\n",
    "X_test = tfidf.transform(X_test)\n",
    "X_train = X_train.toarray()\n",
    "X_test = X_test.toarray()"
   ]
  },
  {
   "cell_type": "code",
   "execution_count": 14,
   "id": "d081b101",
   "metadata": {},
   "outputs": [],
   "source": [
    "model = Sequential()\n",
    "\n",
    "model.add(Dense(units=5000,activation='relu'))\n",
    "model.add(Dropout(0.5))\n",
    "\n",
    "model.add(Dense(units=400,activation='relu'))\n",
    "model.add(Dropout(0.5))\n",
    "\n",
    "model.add(Dense(units=100,activation='relu'))\n",
    "model.add(Dropout(0.5))\n",
    "\n",
    "model.add(Dense(units=3, activation='softmax'))\n",
    "\n",
    "opt=tf.keras.optimizers.Adam(learning_rate=0.001)\n",
    "model.compile(loss='categorical_crossentropy', optimizer=opt, metrics=['accuracy'])\n",
    "\n",
    "early_stop = EarlyStopping(monitor='val_loss', mode='min', verbose=1, patience=2)"
   ]
  },
  {
   "cell_type": "code",
   "execution_count": 15,
   "id": "8aee0572",
   "metadata": {},
   "outputs": [
    {
     "name": "stdout",
     "output_type": "stream",
     "text": [
      "Epoch 1/100\n",
      "66/66 [==============================] - 14s 202ms/step - loss: 0.7616 - accuracy: 0.6464 - val_loss: 0.4717 - val_accuracy: 0.8143\n",
      "Epoch 2/100\n",
      "66/66 [==============================] - 14s 210ms/step - loss: 0.2760 - accuracy: 0.9070 - val_loss: 0.3133 - val_accuracy: 0.8971\n",
      "Epoch 3/100\n",
      "66/66 [==============================] - 15s 222ms/step - loss: 0.0779 - accuracy: 0.9785 - val_loss: 0.3366 - val_accuracy: 0.9087\n",
      "Epoch 4/100\n",
      "66/66 [==============================] - 14s 219ms/step - loss: 0.0217 - accuracy: 0.9945 - val_loss: 0.3899 - val_accuracy: 0.9140\n",
      "Epoch 00004: early stopping\n"
     ]
    },
    {
     "data": {
      "text/plain": [
       "<keras.callbacks.History at 0x200f549ec70>"
      ]
     },
     "execution_count": 15,
     "metadata": {},
     "output_type": "execute_result"
    }
   ],
   "source": [
    "model.fit(x=X_train, y=y_train, batch_size=256, epochs=100, validation_data=(X_test, y_test), verbose=1, callbacks=early_stop)"
   ]
  },
  {
   "cell_type": "code",
   "execution_count": 16,
   "id": "dccb35ad",
   "metadata": {},
   "outputs": [
    {
     "name": "stdout",
     "output_type": "stream",
     "text": [
      "113/113 [==============================] - 3s 30ms/step - loss: 0.3899 - accuracy: 0.9140\n",
      "Test accuracy: 0.914027750492096\n"
     ]
    }
   ],
   "source": [
    "model_score = model.evaluate(X_test, y_test, batch_size=64, verbose=1)\n",
    "print('Test accuracy:', model_score[1])"
   ]
  },
  {
   "cell_type": "code",
   "execution_count": 18,
   "id": "2d392803",
   "metadata": {},
   "outputs": [],
   "source": [
    "sid = SentimentIntensityAnalyzer()"
   ]
  },
  {
   "cell_type": "code",
   "execution_count": 43,
   "id": "d7057910",
   "metadata": {},
   "outputs": [
    {
     "data": {
      "text/html": [
       "<div>\n",
       "<style scoped>\n",
       "    .dataframe tbody tr th:only-of-type {\n",
       "        vertical-align: middle;\n",
       "    }\n",
       "\n",
       "    .dataframe tbody tr th {\n",
       "        vertical-align: top;\n",
       "    }\n",
       "\n",
       "    .dataframe thead th {\n",
       "        text-align: right;\n",
       "    }\n",
       "</style>\n",
       "<table border=\"1\" class=\"dataframe\">\n",
       "  <thead>\n",
       "    <tr style=\"text-align: right;\">\n",
       "      <th></th>\n",
       "      <th>review</th>\n",
       "    </tr>\n",
       "  </thead>\n",
       "  <tbody>\n",
       "    <tr>\n",
       "      <th>0</th>\n",
       "      <td>Absolutely wonderful silky sexy comfortable</td>\n",
       "    </tr>\n",
       "    <tr>\n",
       "      <th>1</th>\n",
       "      <td>Love dress sooo pretty happened find store im ...</td>\n",
       "    </tr>\n",
       "    <tr>\n",
       "      <th>3</th>\n",
       "      <td>love love love jumpsuit fun flirty fabulous ev...</td>\n",
       "    </tr>\n",
       "    <tr>\n",
       "      <th>4</th>\n",
       "      <td>shirt flattering due adjustable front tie perf...</td>\n",
       "    </tr>\n",
       "    <tr>\n",
       "      <th>6</th>\n",
       "      <td>aded basket hte last mintue see would look lik...</td>\n",
       "    </tr>\n",
       "    <tr>\n",
       "      <th>...</th>\n",
       "      <td>...</td>\n",
       "    </tr>\n",
       "    <tr>\n",
       "      <th>6878</th>\n",
       "      <td>pants look beautiful first see goes downhill w...</td>\n",
       "    </tr>\n",
       "    <tr>\n",
       "      <th>17451</th>\n",
       "      <td>looking offwhite vest thought one would perfec...</td>\n",
       "    </tr>\n",
       "    <tr>\n",
       "      <th>97</th>\n",
       "      <td>excited order top red xs cute huge shapeless s...</td>\n",
       "    </tr>\n",
       "    <tr>\n",
       "      <th>18181</th>\n",
       "      <td>petite ordered size small came looking like gy...</td>\n",
       "    </tr>\n",
       "    <tr>\n",
       "      <th>8641</th>\n",
       "      <td>short curvy shirt swallowed sleeves especially...</td>\n",
       "    </tr>\n",
       "  </tbody>\n",
       "</table>\n",
       "<p>24000 rows × 1 columns</p>\n",
       "</div>"
      ],
      "text/plain": [
       "                                                  review\n",
       "0            Absolutely wonderful silky sexy comfortable\n",
       "1      Love dress sooo pretty happened find store im ...\n",
       "3      love love love jumpsuit fun flirty fabulous ev...\n",
       "4      shirt flattering due adjustable front tie perf...\n",
       "6      aded basket hte last mintue see would look lik...\n",
       "...                                                  ...\n",
       "6878   pants look beautiful first see goes downhill w...\n",
       "17451  looking offwhite vest thought one would perfec...\n",
       "97     excited order top red xs cute huge shapeless s...\n",
       "18181  petite ordered size small came looking like gy...\n",
       "8641   short curvy shirt swallowed sleeves especially...\n",
       "\n",
       "[24000 rows x 1 columns]"
      ]
     },
     "execution_count": 43,
     "metadata": {},
     "output_type": "execute_result"
    }
   ],
   "source": [
    "df"
   ]
  },
  {
   "cell_type": "code",
   "execution_count": 55,
   "id": "0773ad6b",
   "metadata": {},
   "outputs": [],
   "source": [
    "X = df['review'].values\n",
    "y = df.drop('review', axis=1).values\n",
    "X_train, X_test, y_train, y_test = train_test_split(X, y, test_size=0.30, random_state=42)"
   ]
  },
  {
   "cell_type": "code",
   "execution_count": 40,
   "id": "fc5f6c69",
   "metadata": {},
   "outputs": [
    {
     "data": {
      "text/plain": [
       "array(['price amazing goes everything fits great glad made purchase',\n",
       "       'disappointment beautiful fabrics interesting design rarityand especially length unfortunately mess terms proportions size 2 barely get design flaw sadly fit strange seem simply sizing would correct flaws',\n",
       "       'sure going love dress saw rack disappointed poofy bottom flattering id love see pattern back better fit',\n",
       "       ...,\n",
       "       'loved look sweater workmanship surprisingly poor missed stitches loose threads throughout even tag sewn outside retailer great return really wanted keep disappointed',\n",
       "       'purchased dress 50th birthday bash stunning fit perfect buy size could worn regular size incredibly flattering elegant well made one go black dresses summer',\n",
       "       'great dark wash fit true size every stevies reference 56 145lbs size 6m 29 fit perfect bit long fold looks cute highly recommend especially since sale definitely closet staple'],\n",
       "      dtype=object)"
      ]
     },
     "execution_count": 40,
     "metadata": {},
     "output_type": "execute_result"
    }
   ],
   "source": [
    "X_test"
   ]
  },
  {
   "cell_type": "code",
   "execution_count": 24,
   "id": "1885f4ad",
   "metadata": {},
   "outputs": [],
   "source": [
    "results = []\n",
    "for text in X_test:\n",
    "    result = sid.polarity_scores(text)[\"compound\"]\n",
    "    if result < -0.05:\n",
    "        results.append(\"Negative\")\n",
    "    elif result < 0.05:\n",
    "        results.append(\"Neutral\")\n",
    "    else:\n",
    "        results.append(\"Positive\")"
   ]
  },
  {
   "cell_type": "code",
   "execution_count": 25,
   "id": "304ff7a3",
   "metadata": {},
   "outputs": [],
   "source": [
    "results = np.array(results)"
   ]
  },
  {
   "cell_type": "code",
   "execution_count": 56,
   "id": "a46fbd94",
   "metadata": {
    "scrolled": true
   },
   "outputs": [
    {
     "data": {
      "text/plain": [
       "array([['Positive'],\n",
       "       ['Negative'],\n",
       "       ['Negative'],\n",
       "       ...,\n",
       "       ['Negative'],\n",
       "       ['Positive'],\n",
       "       ['Positive']], dtype=object)"
      ]
     },
     "execution_count": 56,
     "metadata": {},
     "output_type": "execute_result"
    }
   ],
   "source": [
    "y_test"
   ]
  },
  {
   "cell_type": "code",
   "execution_count": 57,
   "id": "d5db955f",
   "metadata": {},
   "outputs": [
    {
     "data": {
      "text/plain": [
       "0.38263888888888886"
      ]
     },
     "execution_count": 57,
     "metadata": {},
     "output_type": "execute_result"
    }
   ],
   "source": [
    "accuracy_score(y_test,results)"
   ]
  },
  {
   "cell_type": "code",
   "execution_count": null,
   "id": "fd9342d1",
   "metadata": {},
   "outputs": [],
   "source": []
  },
  {
   "cell_type": "code",
   "execution_count": 83,
   "id": "b2be64ae",
   "metadata": {},
   "outputs": [],
   "source": [
    "df_ireland['tweet'] = df_ireland['tweet'].apply(get_text_processing)\n",
    "df_us['tweet'] = df_us['tweet'].apply(get_text_processing)"
   ]
  },
  {
   "cell_type": "code",
   "execution_count": 84,
   "id": "a44d2019",
   "metadata": {},
   "outputs": [
    {
     "data": {
      "text/html": [
       "<div>\n",
       "<style scoped>\n",
       "    .dataframe tbody tr th:only-of-type {\n",
       "        vertical-align: middle;\n",
       "    }\n",
       "\n",
       "    .dataframe tbody tr th {\n",
       "        vertical-align: top;\n",
       "    }\n",
       "\n",
       "    .dataframe thead th {\n",
       "        text-align: right;\n",
       "    }\n",
       "</style>\n",
       "<table border=\"1\" class=\"dataframe\">\n",
       "  <thead>\n",
       "    <tr style=\"text-align: right;\">\n",
       "      <th></th>\n",
       "      <th>tweet</th>\n",
       "    </tr>\n",
       "  </thead>\n",
       "  <tbody>\n",
       "    <tr>\n",
       "      <th>0</th>\n",
       "      <td>DavidGHFrost trussliz FCdO sure dairy farmers ...</td>\n",
       "    </tr>\n",
       "    <tr>\n",
       "      <th>1</th>\n",
       "      <td>Balor evil eye stole cow Goibnui smithGive bac...</td>\n",
       "    </tr>\n",
       "    <tr>\n",
       "      <th>2</th>\n",
       "      <td>SarahFourL PrayForPatrick Growing rural Irelan...</td>\n",
       "    </tr>\n",
       "    <tr>\n",
       "      <th>3</th>\n",
       "      <td>Reading Ireland wants bring potato milk gotta ...</td>\n",
       "    </tr>\n",
       "    <tr>\n",
       "      <th>4</th>\n",
       "      <td>PaulineOHara12 Luca31404488 8 square plain Dai...</td>\n",
       "    </tr>\n",
       "    <tr>\n",
       "      <th>...</th>\n",
       "      <td>...</td>\n",
       "    </tr>\n",
       "    <tr>\n",
       "      <th>95</th>\n",
       "      <td>rather deported Rwanda illegals want go anothe...</td>\n",
       "    </tr>\n",
       "    <tr>\n",
       "      <th>96</th>\n",
       "      <td>NoSeaBorderNI EricDaw12617509 Peston MarosSefc...</td>\n",
       "    </tr>\n",
       "    <tr>\n",
       "      <th>97</th>\n",
       "      <td>NI agrifood cant survive hard Irish border wou...</td>\n",
       "    </tr>\n",
       "    <tr>\n",
       "      <th>98</th>\n",
       "      <td>Northern Ireland accept Rule another country U...</td>\n",
       "    </tr>\n",
       "    <tr>\n",
       "      <th>99</th>\n",
       "      <td>Humans cant survive milk steakWhat happens cou...</td>\n",
       "    </tr>\n",
       "  </tbody>\n",
       "</table>\n",
       "<p>100 rows × 1 columns</p>\n",
       "</div>"
      ],
      "text/plain": [
       "                                                tweet\n",
       "0   DavidGHFrost trussliz FCdO sure dairy farmers ...\n",
       "1   Balor evil eye stole cow Goibnui smithGive bac...\n",
       "2   SarahFourL PrayForPatrick Growing rural Irelan...\n",
       "3   Reading Ireland wants bring potato milk gotta ...\n",
       "4   PaulineOHara12 Luca31404488 8 square plain Dai...\n",
       "..                                                ...\n",
       "95  rather deported Rwanda illegals want go anothe...\n",
       "96  NoSeaBorderNI EricDaw12617509 Peston MarosSefc...\n",
       "97  NI agrifood cant survive hard Irish border wou...\n",
       "98  Northern Ireland accept Rule another country U...\n",
       "99  Humans cant survive milk steakWhat happens cou...\n",
       "\n",
       "[100 rows x 1 columns]"
      ]
     },
     "execution_count": 84,
     "metadata": {},
     "output_type": "execute_result"
    }
   ],
   "source": [
    "df_ireland"
   ]
  },
  {
   "cell_type": "code",
   "execution_count": 96,
   "id": "e3b952ba",
   "metadata": {},
   "outputs": [],
   "source": [
    "vec_ireland = vect.transform(df_ireland['tweet'])\n",
    "vec_us = vect.transform(df_us['tweet'])"
   ]
  },
  {
   "cell_type": "code",
   "execution_count": 97,
   "id": "1c92a11a",
   "metadata": {},
   "outputs": [],
   "source": [
    "vec_ireland = tfidf.transform(vec_ireland)\n",
    "vec_us = tfidf.transform(vec_us)\n",
    "vec_ireland = vec_ireland.toarray()\n",
    "vec_us = vec_us.toarray()"
   ]
  },
  {
   "cell_type": "code",
   "execution_count": 101,
   "id": "e6da71af",
   "metadata": {},
   "outputs": [],
   "source": [
    "df_ireland[\"sentiment\"] = np.argmax(model.predict(vec_ireland),axis=1)"
   ]
  },
  {
   "cell_type": "code",
   "execution_count": 104,
   "id": "36fab04e",
   "metadata": {},
   "outputs": [],
   "source": [
    "def number_to_sentiment(x):\n",
    "    if x == 0:\n",
    "        return \"Negative\"\n",
    "    if x == 1:\n",
    "        return \"Neutral\"\n",
    "    return \"Positive\""
   ]
  },
  {
   "cell_type": "code",
   "execution_count": 106,
   "id": "9b3b6236",
   "metadata": {},
   "outputs": [],
   "source": [
    "df_ireland[\"sentiment\"] = df_ireland[\"sentiment\"].apply(number_to_sentiment)"
   ]
  },
  {
   "cell_type": "code",
   "execution_count": 107,
   "id": "cee00874",
   "metadata": {},
   "outputs": [],
   "source": [
    "df_us[\"sentiment\"] = np.argmax(model.predict(vec_us),axis=1)\n",
    "df_us[\"sentiment\"] = df_us[\"sentiment\"].apply(number_to_sentiment)"
   ]
  },
  {
   "cell_type": "code",
   "execution_count": 113,
   "id": "be896af2",
   "metadata": {},
   "outputs": [
    {
     "data": {
      "text/plain": [
       "<AxesSubplot:>"
      ]
     },
     "execution_count": 113,
     "metadata": {},
     "output_type": "execute_result"
    },
    {
     "data": {
      "image/png": "[encoded data removed]",
      "text/plain": [
       "<Figure size 432x288 with 1 Axes>"
      ]
     },
     "metadata": {
      "needs_background": "light"
     },
     "output_type": "display_data"
    }
   ],
   "source": [
    "df_ireland[\"sentiment\"].value_counts().plot.bar()"
   ]
  },
  {
   "cell_type": "code",
   "execution_count": 114,
   "id": "e0cc2fc2",
   "metadata": {},
   "outputs": [
    {
     "data": {
      "text/plain": [
       "<AxesSubplot:>"
      ]
     },
     "execution_count": 114,
     "metadata": {},
     "output_type": "execute_result"
    },
    {
     "data": {
      "image/png": "[encoded data removed]",
      "text/plain": [
       "<Figure size 432x288 with 1 Axes>"
      ]
     },
     "metadata": {
      "needs_background": "light"
     },
     "output_type": "display_data"
    }
   ],
   "source": [
    "df_us[\"sentiment\"].value_counts().plot.bar()"
   ]
  }
 ],
 "metadata": {
  "kernelspec": {
   "display_name": "Python 3 (ipykernel)",
   "language": "python",
   "name": "python3"
  },
  "language_info": {
   "codemirror_mode": {
    "name": "ipython",
    "version": 3
   },
   "file_extension": ".py",
   "mimetype": "text/x-python",
   "name": "python",
   "nbconvert_exporter": "python",
   "pygments_lexer": "ipython3",
   "version": "3.9.9"
  }
 },
 "nbformat": 4,
 "nbformat_minor": 5
}
