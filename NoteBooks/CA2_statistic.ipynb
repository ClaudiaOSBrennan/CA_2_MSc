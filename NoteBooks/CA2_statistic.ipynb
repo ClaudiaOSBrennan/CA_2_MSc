{
 "cells": [
  {
   "cell_type": "code",
   "execution_count": 1,
   "id": "20a943d2",
   "metadata": {
    "scrolled": true
   },
   "outputs": [],
   "source": [
    "import pandas as pd\n",
    "import seaborn as sns\n",
    "import matplotlib.pyplot as plt\n",
    "from scipy.stats import pearsonr\n",
    "from scipy.stats import kendalltau\n",
    "from scipy.stats import spearmanr\n",
    "from scipy.stats import f_oneway\n",
    "from scipy.stats import wilcoxon\n",
    "from scipy.stats import shapiro"
   ]
  },
  {
   "cell_type": "code",
   "execution_count": 3,
   "id": "f4a853bf",
   "metadata": {
    "scrolled": true
   },
   "outputs": [],
   "source": [
    "df = pd.read_csv(\"../data/DP_LIVE_20052022013442812.csv\")"
   ]
  },
  {
   "cell_type": "code",
   "execution_count": 4,
   "id": "2f4a2a53",
   "metadata": {},
   "outputs": [
    {
     "data": {
      "text/html": [
       "<div>\n",
       "<style scoped>\n",
       "    .dataframe tbody tr th:only-of-type {\n",
       "        vertical-align: middle;\n",
       "    }\n",
       "\n",
       "    .dataframe tbody tr th {\n",
       "        vertical-align: top;\n",
       "    }\n",
       "\n",
       "    .dataframe thead th {\n",
       "        text-align: right;\n",
       "    }\n",
       "</style>\n",
       "<table border=\"1\" class=\"dataframe\">\n",
       "  <thead>\n",
       "    <tr style=\"text-align: right;\">\n",
       "      <th></th>\n",
       "      <th>LOCATION</th>\n",
       "      <th>INDICATOR</th>\n",
       "      <th>SUBJECT</th>\n",
       "      <th>MEASURE</th>\n",
       "      <th>FREQUENCY</th>\n",
       "      <th>TIME</th>\n",
       "      <th>Value</th>\n",
       "      <th>Flag Codes</th>\n",
       "    </tr>\n",
       "  </thead>\n",
       "  <tbody>\n",
       "    <tr>\n",
       "      <th>0</th>\n",
       "      <td>AUS</td>\n",
       "      <td>AGRLANDAREA</td>\n",
       "      <td>TOT</td>\n",
       "      <td>THND_HA</td>\n",
       "      <td>A</td>\n",
       "      <td>1985</td>\n",
       "      <td>485605.123</td>\n",
       "      <td>NaN</td>\n",
       "    </tr>\n",
       "    <tr>\n",
       "      <th>1</th>\n",
       "      <td>AUS</td>\n",
       "      <td>AGRLANDAREA</td>\n",
       "      <td>TOT</td>\n",
       "      <td>THND_HA</td>\n",
       "      <td>A</td>\n",
       "      <td>1986</td>\n",
       "      <td>485167.951</td>\n",
       "      <td>NaN</td>\n",
       "    </tr>\n",
       "    <tr>\n",
       "      <th>2</th>\n",
       "      <td>AUS</td>\n",
       "      <td>AGRLANDAREA</td>\n",
       "      <td>TOT</td>\n",
       "      <td>THND_HA</td>\n",
       "      <td>A</td>\n",
       "      <td>1987</td>\n",
       "      <td>471019.353</td>\n",
       "      <td>NaN</td>\n",
       "    </tr>\n",
       "    <tr>\n",
       "      <th>3</th>\n",
       "      <td>AUS</td>\n",
       "      <td>AGRLANDAREA</td>\n",
       "      <td>TOT</td>\n",
       "      <td>THND_HA</td>\n",
       "      <td>A</td>\n",
       "      <td>1988</td>\n",
       "      <td>472033.507</td>\n",
       "      <td>NaN</td>\n",
       "    </tr>\n",
       "    <tr>\n",
       "      <th>4</th>\n",
       "      <td>AUS</td>\n",
       "      <td>AGRLANDAREA</td>\n",
       "      <td>TOT</td>\n",
       "      <td>THND_HA</td>\n",
       "      <td>A</td>\n",
       "      <td>1989</td>\n",
       "      <td>460503.367</td>\n",
       "      <td>NaN</td>\n",
       "    </tr>\n",
       "    <tr>\n",
       "      <th>...</th>\n",
       "      <td>...</td>\n",
       "      <td>...</td>\n",
       "      <td>...</td>\n",
       "      <td>...</td>\n",
       "      <td>...</td>\n",
       "      <td>...</td>\n",
       "      <td>...</td>\n",
       "      <td>...</td>\n",
       "    </tr>\n",
       "    <tr>\n",
       "      <th>6776</th>\n",
       "      <td>EU27_2020</td>\n",
       "      <td>AGRLANDAREA</td>\n",
       "      <td>PASTURE</td>\n",
       "      <td>THND_HA</td>\n",
       "      <td>A</td>\n",
       "      <td>2015</td>\n",
       "      <td>49228.000</td>\n",
       "      <td>NaN</td>\n",
       "    </tr>\n",
       "    <tr>\n",
       "      <th>6777</th>\n",
       "      <td>EU27_2020</td>\n",
       "      <td>AGRLANDAREA</td>\n",
       "      <td>PASTURE</td>\n",
       "      <td>THND_HA</td>\n",
       "      <td>A</td>\n",
       "      <td>2016</td>\n",
       "      <td>49217.000</td>\n",
       "      <td>NaN</td>\n",
       "    </tr>\n",
       "    <tr>\n",
       "      <th>6778</th>\n",
       "      <td>EU27_2020</td>\n",
       "      <td>AGRLANDAREA</td>\n",
       "      <td>PASTURE</td>\n",
       "      <td>THND_HA</td>\n",
       "      <td>A</td>\n",
       "      <td>2017</td>\n",
       "      <td>49234.000</td>\n",
       "      <td>NaN</td>\n",
       "    </tr>\n",
       "    <tr>\n",
       "      <th>6779</th>\n",
       "      <td>EU27_2020</td>\n",
       "      <td>AGRLANDAREA</td>\n",
       "      <td>PASTURE</td>\n",
       "      <td>THND_HA</td>\n",
       "      <td>A</td>\n",
       "      <td>2018</td>\n",
       "      <td>50137.000</td>\n",
       "      <td>NaN</td>\n",
       "    </tr>\n",
       "    <tr>\n",
       "      <th>6780</th>\n",
       "      <td>EU27_2020</td>\n",
       "      <td>AGRLANDAREA</td>\n",
       "      <td>PASTURE</td>\n",
       "      <td>THND_HA</td>\n",
       "      <td>A</td>\n",
       "      <td>2019</td>\n",
       "      <td>50752.000</td>\n",
       "      <td>NaN</td>\n",
       "    </tr>\n",
       "  </tbody>\n",
       "</table>\n",
       "<p>6781 rows × 8 columns</p>\n",
       "</div>"
      ],
      "text/plain": [
       "       LOCATION    INDICATOR  SUBJECT  MEASURE FREQUENCY  TIME       Value  \\\n",
       "0           AUS  AGRLANDAREA      TOT  THND_HA         A  1985  485605.123   \n",
       "1           AUS  AGRLANDAREA      TOT  THND_HA         A  1986  485167.951   \n",
       "2           AUS  AGRLANDAREA      TOT  THND_HA         A  1987  471019.353   \n",
       "3           AUS  AGRLANDAREA      TOT  THND_HA         A  1988  472033.507   \n",
       "4           AUS  AGRLANDAREA      TOT  THND_HA         A  1989  460503.367   \n",
       "...         ...          ...      ...      ...       ...   ...         ...   \n",
       "6776  EU27_2020  AGRLANDAREA  PASTURE  THND_HA         A  2015   49228.000   \n",
       "6777  EU27_2020  AGRLANDAREA  PASTURE  THND_HA         A  2016   49217.000   \n",
       "6778  EU27_2020  AGRLANDAREA  PASTURE  THND_HA         A  2017   49234.000   \n",
       "6779  EU27_2020  AGRLANDAREA  PASTURE  THND_HA         A  2018   50137.000   \n",
       "6780  EU27_2020  AGRLANDAREA  PASTURE  THND_HA         A  2019   50752.000   \n",
       "\n",
       "      Flag Codes  \n",
       "0            NaN  \n",
       "1            NaN  \n",
       "2            NaN  \n",
       "3            NaN  \n",
       "4            NaN  \n",
       "...          ...  \n",
       "6776         NaN  \n",
       "6777         NaN  \n",
       "6778         NaN  \n",
       "6779         NaN  \n",
       "6780         NaN  \n",
       "\n",
       "[6781 rows x 8 columns]"
      ]
     },
     "execution_count": 4,
     "metadata": {},
     "output_type": "execute_result"
    }
   ],
   "source": [
    "df"
   ]
  },
  {
   "cell_type": "code",
   "execution_count": 5,
   "id": "c7e31943",
   "metadata": {
    "scrolled": true
   },
   "outputs": [
    {
     "data": {
      "text/plain": [
       "array(['AUS', 'AUT', 'BEL', 'CAN', 'CZE', 'DNK', 'FIN', 'FRA', 'DEU',\n",
       "       'GRC', 'HUN', 'ISL', 'IRL', 'ITA', 'JPN', 'KOR', 'LUX', 'MEX',\n",
       "       'NLD', 'NZL', 'NOR', 'POL', 'PRT', 'SVK', 'ESP', 'SWE', 'CHE',\n",
       "       'TUR', 'GBR', 'USA', 'ARG', 'BRA', 'BGR', 'CHL', 'CHN', 'COL',\n",
       "       'CRI', 'HRV', 'CYP', 'EST', 'IND', 'IDN', 'ISR', 'KAZ', 'LVA',\n",
       "       'LTU', 'MLT', 'PHL', 'ROU', 'RUS', 'SVN', 'ZAF', 'UKR', 'VNM',\n",
       "       'EU28', 'EU27_2020'], dtype=object)"
      ]
     },
     "execution_count": 5,
     "metadata": {},
     "output_type": "execute_result"
    }
   ],
   "source": [
    "df[\"LOCATION\"].unique()"
   ]
  },
  {
   "cell_type": "code",
   "execution_count": 6,
   "id": "9ae280ac",
   "metadata": {},
   "outputs": [],
   "source": [
    "df_ire = df[(df[\"LOCATION\"]==\"IRL\")&(df[\"SUBJECT\"]==\"TOT\")]"
   ]
  },
  {
   "cell_type": "code",
   "execution_count": 7,
   "id": "70103a27",
   "metadata": {},
   "outputs": [],
   "source": [
    "df_fra = df[(df[\"LOCATION\"]==\"FRA\")&(df[\"SUBJECT\"]==\"TOT\")]"
   ]
  },
  {
   "cell_type": "code",
   "execution_count": 8,
   "id": "6afb4f1a",
   "metadata": {},
   "outputs": [
    {
     "data": {
      "text/plain": [
       "<seaborn.axisgrid.FacetGrid at 0x24ccac2a400>"
      ]
     },
     "execution_count": 8,
     "metadata": {},
     "output_type": "execute_result"
    },
    {
     "data": {
      "image/png": "[encoded data removed]",
      "text/plain": [
       "<Figure size 360x360 with 1 Axes>"
      ]
     },
     "metadata": {
      "needs_background": "light"
     },
     "output_type": "display_data"
    }
   ],
   "source": [
    "sns.displot(data=df_fra,x=\"Value\",bins=20, kde=True)"
   ]
  },
  {
   "cell_type": "markdown",
   "id": "b7cd0a5f",
   "metadata": {},
   "source": [
    "#### Normality test"
   ]
  },
  {
   "cell_type": "code",
   "execution_count": 26,
   "id": "80b6b724",
   "metadata": {},
   "outputs": [
    {
     "data": {
      "text/plain": [
       "ShapiroResult(statistic=0.6243314743041992, pvalue=1.0572205866310469e-07)"
      ]
     },
     "execution_count": 26,
     "metadata": {},
     "output_type": "execute_result"
    }
   ],
   "source": [
    "#p-value < 0.05 is not normal\n",
    "shapiro(df_fra[\"Value\"])"
   ]
  },
  {
   "cell_type": "code",
   "execution_count": 11,
   "id": "976fbb44",
   "metadata": {
    "scrolled": true
   },
   "outputs": [
    {
     "data": {
      "text/plain": [
       "<seaborn.axisgrid.FacetGrid at 0x24ca01fad90>"
      ]
     },
     "execution_count": 11,
     "metadata": {},
     "output_type": "execute_result"
    },
    {
     "data": {
      "image/png": "[encoded data removed]",
      "text/plain": [
       "<Figure size 360x360 with 1 Axes>"
      ]
     },
     "metadata": {
      "needs_background": "light"
     },
     "output_type": "display_data"
    }
   ],
   "source": [
    "sns.displot(data=df_ire,x=\"Value\",bins=20, kde=True)"
   ]
  },
  {
   "cell_type": "markdown",
   "id": "8bf58600",
   "metadata": {},
   "source": [
    "#### Normality test"
   ]
  },
  {
   "cell_type": "code",
   "execution_count": 24,
   "id": "be173fe9",
   "metadata": {
    "scrolled": true
   },
   "outputs": [
    {
     "data": {
      "text/plain": [
       "ShapiroResult(statistic=0.9851990342140198, pvalue=0.9346866011619568)"
      ]
     },
     "execution_count": 24,
     "metadata": {},
     "output_type": "execute_result"
    }
   ],
   "source": [
    "shapiro(df_ire[\"Value\"])"
   ]
  },
  {
   "cell_type": "code",
   "execution_count": null,
   "id": "f638957d",
   "metadata": {},
   "outputs": [],
   "source": [
    "shapiro(df_ire[\"Value\"])"
   ]
  },
  {
   "cell_type": "code",
   "execution_count": 50,
   "id": "1b133616",
   "metadata": {
    "scrolled": true
   },
   "outputs": [
    {
     "data": {
      "text/plain": [
       "<matplotlib.collections.PathCollection at 0x1fe961bb7f0>"
      ]
     },
     "execution_count": 50,
     "metadata": {},
     "output_type": "execute_result"
    },
    {
     "data": {
      "image/png": "[encoded data removed]",
      "text/plain": [
       "<Figure size 432x288 with 1 Axes>"
      ]
     },
     "metadata": {
      "needs_background": "light"
     },
     "output_type": "display_data"
    }
   ],
   "source": [
    "plt.scatter(x=df_fra[\"Value\"].head(19), y=df_ire[\"Value\"].head(19))"
   ]
  },
  {
   "cell_type": "code",
   "execution_count": 51,
   "id": "b23dd15d",
   "metadata": {},
   "outputs": [
    {
     "data": {
      "text/plain": [
       "count       31.000000\n",
       "mean     29825.822581\n",
       "std       1202.437640\n",
       "min      28853.000000\n",
       "25%      29101.000000\n",
       "50%      29633.000000\n",
       "75%      29976.750000\n",
       "max      35178.000000\n",
       "Name: Value, dtype: float64"
      ]
     },
     "execution_count": 51,
     "metadata": {},
     "output_type": "execute_result"
    }
   ],
   "source": [
    "df_fra[\"Value\"].describe()"
   ]
  },
  {
   "cell_type": "code",
   "execution_count": 37,
   "id": "e0b19af8",
   "metadata": {},
   "outputs": [
    {
     "data": {
      "text/plain": [
       "count      31.000000\n",
       "mean     4441.422581\n",
       "std        92.040943\n",
       "min      4261.000000\n",
       "25%      4390.600000\n",
       "50%      4431.600000\n",
       "75%      4513.500000\n",
       "max      4629.000000\n",
       "Name: Value, dtype: float64"
      ]
     },
     "execution_count": 37,
     "metadata": {},
     "output_type": "execute_result"
    }
   ],
   "source": [
    "df_ire[\"Value\"].describe()"
   ]
  },
  {
   "cell_type": "code",
   "execution_count": 52,
   "id": "ade8fb1f",
   "metadata": {
    "scrolled": true
   },
   "outputs": [
    {
     "data": {
      "text/plain": [
       "(-0.2270296415062096, 0.3499419213750439)"
      ]
     },
     "execution_count": 52,
     "metadata": {},
     "output_type": "execute_result"
    }
   ],
   "source": [
    "pearsonr(df_fra[\"Value\"].head(19), df_ire[\"Value\"].head(19))"
   ]
  },
  {
   "cell_type": "code",
   "execution_count": 53,
   "id": "98379778",
   "metadata": {
    "scrolled": false
   },
   "outputs": [
    {
     "data": {
      "text/plain": [
       "KendalltauResult(correlation=0.23976608187134502, pvalue=0.16374964550644155)"
      ]
     },
     "execution_count": 53,
     "metadata": {},
     "output_type": "execute_result"
    }
   ],
   "source": [
    "kendalltau(df_fra[\"Value\"].head(19), df_ire[\"Value\"].head(19))"
   ]
  },
  {
   "cell_type": "code",
   "execution_count": 54,
   "id": "26dcdff1",
   "metadata": {
    "scrolled": true
   },
   "outputs": [
    {
     "data": {
      "text/plain": [
       "SpearmanrResult(correlation=0.2175438596491228, pvalue=0.37096957539137776)"
      ]
     },
     "execution_count": 54,
     "metadata": {},
     "output_type": "execute_result"
    }
   ],
   "source": [
    "spearmanr(df_fra[\"Value\"].head(19), df_ire[\"Value\"].head(19))"
   ]
  },
  {
   "cell_type": "code",
   "execution_count": 55,
   "id": "7efd6d5a",
   "metadata": {
    "scrolled": false
   },
   "outputs": [
    {
     "data": {
      "text/plain": [
       "F_onewayResult(statistic=29374.30995467651, pvalue=5.02895105858283e-54)"
      ]
     },
     "execution_count": 55,
     "metadata": {},
     "output_type": "execute_result"
    }
   ],
   "source": [
    "f_oneway(df_fra[\"Value\"].head(19), df_ire[\"Value\"].head(19))"
   ]
  },
  {
   "cell_type": "code",
   "execution_count": 56,
   "id": "30471092",
   "metadata": {
    "scrolled": true
   },
   "outputs": [
    {
     "data": {
      "text/plain": [
       "WilcoxonResult(statistic=0.0, pvalue=3.814697265625e-06)"
      ]
     },
     "execution_count": 56,
     "metadata": {},
     "output_type": "execute_result"
    }
   ],
   "source": [
    "wilcoxon(df_fra[\"Value\"].head(19), df_ire[\"Value\"].head(19))"
   ]
  },
  {
   "cell_type": "code",
   "execution_count": null,
   "id": "5a23a700",
   "metadata": {},
   "outputs": [],
   "source": []
  }
 ],
 "metadata": {
  "kernelspec": {
   "display_name": "Python 3 (ipykernel)",
   "language": "python",
   "name": "python3"
  },
  "language_info": {
   "codemirror_mode": {
    "name": "ipython",
    "version": 3
   },
   "file_extension": ".py",
   "mimetype": "text/x-python",
   "name": "python",
   "nbconvert_exporter": "python",
   "pygments_lexer": "ipython3",
   "version": "3.9.9"
  }
 },
 "nbformat": 4,
 "nbformat_minor": 5
}
