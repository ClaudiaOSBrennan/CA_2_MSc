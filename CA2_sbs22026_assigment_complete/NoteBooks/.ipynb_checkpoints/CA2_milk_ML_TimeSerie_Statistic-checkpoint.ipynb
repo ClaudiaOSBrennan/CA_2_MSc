{
 "cells": [
  {
   "cell_type": "code",
   "execution_count": 1,
   "id": "854533c5",
   "metadata": {},
   "outputs": [],
   "source": [
    "import numpy as np\n",
    "import pandas as pd\n",
    "import seaborn as sns\n",
    "import matplotlib.pyplot as plt\n",
    "\n",
    "from sklearn.model_selection import train_test_split\n",
    "\n",
    "from sklearn.ensemble import RandomForestRegressor\n",
    "from sklearn.neighbors import KNeighborsRegressor\n",
    "from sklearn.ensemble import AdaBoostRegressor\n",
    "from sklearn.linear_model import LinearRegression\n",
    "from sklearn.preprocessing import MinMaxScaler\n",
    "\n",
    "from sklearn.metrics import r2_score\n",
    "from sklearn.metrics import mean_squared_error\n",
    "from sklearn.metrics import mean_absolute_error\n",
    "\n",
    "from statsmodels.tsa.seasonal import seasonal_decompose\n",
    "from statsmodels.tsa.stattools import adfuller\n",
    "from statsmodels.graphics.tsaplots import plot_acf\n",
    "from statsmodels.graphics.tsaplots import plot_pacf\n",
    "\n",
    "from statsmodels.tsa.arima.model import ARIMA"
   ]
  },
  {
   "cell_type": "code",
   "execution_count": 2,
   "id": "7e65723a",
   "metadata": {},
   "outputs": [
    {
     "name": "stdout",
     "output_type": "stream",
     "text": [
      "2013\n",
      "2015\n",
      "2018\n",
      "2021\n"
     ]
    }
   ],
   "source": [
    "df = pd.DataFrame()\n",
    "for i in [2013,2015,2018,2021]:\n",
    "    print(i)\n",
    "    if i == 2013 or i == 2015:\n",
    "        temp = pd.read_excel(f\"../Data/MS{i}M12TBL1.xls\",header=2)\n",
    "        temp = temp.iloc[[17,18,19,21,22,23,25,26,27]].set_index([\"Category\"])\n",
    "    else:\n",
    "        temp = pd.read_excel(f\"../Data/MS{i}M12TBL1.xls\",header=1)\n",
    "        temp = temp.iloc[[16,17,18,20,21,22,24,25,26]].set_index([\"Category\"])\n",
    "    temp.index = [\"Total milk sold for human\",\"Total milk sold for human\",\"Total milk sold for human\",\n",
    "                         \"Whole milk sales\",\"Whole milk sales\",\"Whole milk sales\",\n",
    "                         \"Skimmed  & semi-\",\"Skimmed  & semi-\",\"Skimmed  & semi-\"]\n",
    "    df = df.append(temp.reset_index())"
   ]
  },
  {
   "cell_type": "code",
   "execution_count": 3,
   "id": "fd279bc9",
   "metadata": {},
   "outputs": [
    {
     "data": {
      "text/html": [
       "<div>\n",
       "<style scoped>\n",
       "    .dataframe tbody tr th:only-of-type {\n",
       "        vertical-align: middle;\n",
       "    }\n",
       "\n",
       "    .dataframe tbody tr th {\n",
       "        vertical-align: top;\n",
       "    }\n",
       "\n",
       "    .dataframe thead th {\n",
       "        text-align: right;\n",
       "    }\n",
       "</style>\n",
       "<table border=\"1\" class=\"dataframe\">\n",
       "  <thead>\n",
       "    <tr style=\"text-align: right;\">\n",
       "      <th></th>\n",
       "      <th>index</th>\n",
       "      <th>Year</th>\n",
       "      <th>Unit</th>\n",
       "      <th>Jan</th>\n",
       "      <th>Feb</th>\n",
       "      <th>Mar</th>\n",
       "      <th>Apr</th>\n",
       "      <th>May</th>\n",
       "      <th>Jun</th>\n",
       "      <th>Jul</th>\n",
       "      <th>Aug</th>\n",
       "      <th>Sep</th>\n",
       "      <th>Oct</th>\n",
       "      <th>Nov</th>\n",
       "      <th>Dec</th>\n",
       "      <th>Year.1</th>\n",
       "    </tr>\n",
       "  </thead>\n",
       "  <tbody>\n",
       "    <tr>\n",
       "      <th>0</th>\n",
       "      <td>Total milk sold for human</td>\n",
       "      <td>2011.0</td>\n",
       "      <td>million</td>\n",
       "      <td>26.6</td>\n",
       "      <td>24.4</td>\n",
       "      <td>28.0</td>\n",
       "      <td>26.2</td>\n",
       "      <td>27.9</td>\n",
       "      <td>28.0</td>\n",
       "      <td>26.1</td>\n",
       "      <td>27.0</td>\n",
       "      <td>25.6</td>\n",
       "      <td>25.9</td>\n",
       "      <td>25.3</td>\n",
       "      <td>25.41</td>\n",
       "      <td>316.4</td>\n",
       "    </tr>\n",
       "    <tr>\n",
       "      <th>1</th>\n",
       "      <td>Total milk sold for human</td>\n",
       "      <td>2012.0</td>\n",
       "      <td>litres</td>\n",
       "      <td>25.4</td>\n",
       "      <td>24.2</td>\n",
       "      <td>26.6</td>\n",
       "      <td>24.1</td>\n",
       "      <td>25.3</td>\n",
       "      <td>25.1</td>\n",
       "      <td>24.8</td>\n",
       "      <td>25.7</td>\n",
       "      <td>24.4</td>\n",
       "      <td>25.4</td>\n",
       "      <td>25.5</td>\n",
       "      <td>25.1</td>\n",
       "      <td>301.6</td>\n",
       "    </tr>\n",
       "    <tr>\n",
       "      <th>2</th>\n",
       "      <td>Total milk sold for human</td>\n",
       "      <td>2013.0</td>\n",
       "      <td>NaN</td>\n",
       "      <td>25.4</td>\n",
       "      <td>22.8</td>\n",
       "      <td>25.3</td>\n",
       "      <td>24.7</td>\n",
       "      <td>25.4</td>\n",
       "      <td>24.3</td>\n",
       "      <td>24.6</td>\n",
       "      <td>24.1</td>\n",
       "      <td>22.8</td>\n",
       "      <td>23.4</td>\n",
       "      <td>23.5</td>\n",
       "      <td>23.1</td>\n",
       "      <td>289.4</td>\n",
       "    </tr>\n",
       "    <tr>\n",
       "      <th>3</th>\n",
       "      <td>Whole milk sales</td>\n",
       "      <td>2011.0</td>\n",
       "      <td>million</td>\n",
       "      <td>14.5</td>\n",
       "      <td>13.8</td>\n",
       "      <td>15.8</td>\n",
       "      <td>13.9</td>\n",
       "      <td>15.0</td>\n",
       "      <td>14.5</td>\n",
       "      <td>14.6</td>\n",
       "      <td>15.4</td>\n",
       "      <td>14.7</td>\n",
       "      <td>15.2</td>\n",
       "      <td>15.6</td>\n",
       "      <td>14.4</td>\n",
       "      <td>177.5</td>\n",
       "    </tr>\n",
       "    <tr>\n",
       "      <th>4</th>\n",
       "      <td>Whole milk sales</td>\n",
       "      <td>2012.0</td>\n",
       "      <td>litres</td>\n",
       "      <td>15.3</td>\n",
       "      <td>14.7</td>\n",
       "      <td>16.4</td>\n",
       "      <td>15.1</td>\n",
       "      <td>15.8</td>\n",
       "      <td>15.7</td>\n",
       "      <td>15.6</td>\n",
       "      <td>15.8</td>\n",
       "      <td>15.1</td>\n",
       "      <td>15.6</td>\n",
       "      <td>15.4</td>\n",
       "      <td>14.9</td>\n",
       "      <td>185.4</td>\n",
       "    </tr>\n",
       "  </tbody>\n",
       "</table>\n",
       "</div>"
      ],
      "text/plain": [
       "                       index    Year     Unit   Jan   Feb   Mar   Apr   May  \\\n",
       "0  Total milk sold for human  2011.0  million  26.6  24.4  28.0  26.2  27.9   \n",
       "1  Total milk sold for human  2012.0   litres  25.4  24.2  26.6  24.1  25.3   \n",
       "2  Total milk sold for human  2013.0      NaN  25.4  22.8  25.3  24.7  25.4   \n",
       "3           Whole milk sales  2011.0  million  14.5  13.8  15.8  13.9  15.0   \n",
       "4           Whole milk sales  2012.0   litres  15.3  14.7  16.4  15.1  15.8   \n",
       "\n",
       "    Jun   Jul   Aug   Sep   Oct   Nov    Dec Year.1  \n",
       "0  28.0  26.1  27.0  25.6  25.9  25.3  25.41  316.4  \n",
       "1  25.1  24.8  25.7  24.4  25.4  25.5   25.1  301.6  \n",
       "2  24.3  24.6  24.1  22.8  23.4  23.5   23.1  289.4  \n",
       "3  14.5  14.6  15.4  14.7  15.2  15.6   14.4  177.5  \n",
       "4  15.7  15.6  15.8  15.1  15.6  15.4   14.9  185.4  "
      ]
     },
     "execution_count": 3,
     "metadata": {},
     "output_type": "execute_result"
    }
   ],
   "source": [
    "df.head()"
   ]
  },
  {
   "cell_type": "code",
   "execution_count": 4,
   "id": "bacca6d1",
   "metadata": {},
   "outputs": [
    {
     "data": {
      "text/plain": [
       "Index(['index', 'Year', 'Unit', 'Jan', 'Feb', 'Mar', 'Apr', 'May', 'Jun',\n",
       "       'Jul', 'Aug', 'Sep', 'Oct', 'Nov', 'Dec', 'Year.1'],\n",
       "      dtype='object')"
      ]
     },
     "execution_count": 4,
     "metadata": {},
     "output_type": "execute_result"
    }
   ],
   "source": [
    "df.columns"
   ]
  },
  {
   "cell_type": "code",
   "execution_count": 5,
   "id": "a50c7669",
   "metadata": {},
   "outputs": [],
   "source": [
    "df = df.drop(columns=[\"Unit\",\"Year.1\"])"
   ]
  },
  {
   "cell_type": "code",
   "execution_count": 6,
   "id": "8cc04c80",
   "metadata": {},
   "outputs": [],
   "source": [
    "months = df.drop(columns=[\"index\",\"Year\"]).columns.tolist()"
   ]
  },
  {
   "cell_type": "code",
   "execution_count": 7,
   "id": "6a8b5a6a",
   "metadata": {},
   "outputs": [
    {
     "data": {
      "text/plain": [
       "['Jan',\n",
       " 'Feb',\n",
       " 'Mar',\n",
       " 'Apr',\n",
       " 'May',\n",
       " 'Jun',\n",
       " 'Jul',\n",
       " 'Aug',\n",
       " 'Sep',\n",
       " 'Oct',\n",
       " 'Nov',\n",
       " 'Dec']"
      ]
     },
     "execution_count": 7,
     "metadata": {},
     "output_type": "execute_result"
    }
   ],
   "source": [
    "months"
   ]
  },
  {
   "cell_type": "code",
   "execution_count": 8,
   "id": "040f35a4",
   "metadata": {},
   "outputs": [],
   "source": [
    "df = pd.melt(df, id_vars=[\"index\",\"Year\"], value_vars=months, var_name=\"Month\", value_name='value')"
   ]
  },
  {
   "cell_type": "code",
   "execution_count": 9,
   "id": "5a97c71a",
   "metadata": {},
   "outputs": [
    {
     "data": {
      "text/html": [
       "<div>\n",
       "<style scoped>\n",
       "    .dataframe tbody tr th:only-of-type {\n",
       "        vertical-align: middle;\n",
       "    }\n",
       "\n",
       "    .dataframe tbody tr th {\n",
       "        vertical-align: top;\n",
       "    }\n",
       "\n",
       "    .dataframe thead th {\n",
       "        text-align: right;\n",
       "    }\n",
       "</style>\n",
       "<table border=\"1\" class=\"dataframe\">\n",
       "  <thead>\n",
       "    <tr style=\"text-align: right;\">\n",
       "      <th></th>\n",
       "      <th>index</th>\n",
       "      <th>Year</th>\n",
       "      <th>Month</th>\n",
       "      <th>value</th>\n",
       "    </tr>\n",
       "  </thead>\n",
       "  <tbody>\n",
       "    <tr>\n",
       "      <th>0</th>\n",
       "      <td>Total milk sold for human</td>\n",
       "      <td>2011.0</td>\n",
       "      <td>Jan</td>\n",
       "      <td>26.6</td>\n",
       "    </tr>\n",
       "    <tr>\n",
       "      <th>1</th>\n",
       "      <td>Total milk sold for human</td>\n",
       "      <td>2012.0</td>\n",
       "      <td>Jan</td>\n",
       "      <td>25.4</td>\n",
       "    </tr>\n",
       "    <tr>\n",
       "      <th>2</th>\n",
       "      <td>Total milk sold for human</td>\n",
       "      <td>2013.0</td>\n",
       "      <td>Jan</td>\n",
       "      <td>25.4</td>\n",
       "    </tr>\n",
       "    <tr>\n",
       "      <th>3</th>\n",
       "      <td>Whole milk sales</td>\n",
       "      <td>2011.0</td>\n",
       "      <td>Jan</td>\n",
       "      <td>14.5</td>\n",
       "    </tr>\n",
       "    <tr>\n",
       "      <th>4</th>\n",
       "      <td>Whole milk sales</td>\n",
       "      <td>2012.0</td>\n",
       "      <td>Jan</td>\n",
       "      <td>15.3</td>\n",
       "    </tr>\n",
       "    <tr>\n",
       "      <th>...</th>\n",
       "      <td>...</td>\n",
       "      <td>...</td>\n",
       "      <td>...</td>\n",
       "      <td>...</td>\n",
       "    </tr>\n",
       "    <tr>\n",
       "      <th>427</th>\n",
       "      <td>Whole milk sales</td>\n",
       "      <td>2020.0</td>\n",
       "      <td>Dec</td>\n",
       "      <td>25.1</td>\n",
       "    </tr>\n",
       "    <tr>\n",
       "      <th>428</th>\n",
       "      <td>Whole milk sales</td>\n",
       "      <td>2021.0</td>\n",
       "      <td>Dec</td>\n",
       "      <td>25.2 4</td>\n",
       "    </tr>\n",
       "    <tr>\n",
       "      <th>429</th>\n",
       "      <td>Skimmed  &amp; semi-</td>\n",
       "      <td>2019.0</td>\n",
       "      <td>Dec</td>\n",
       "      <td>16.06</td>\n",
       "    </tr>\n",
       "    <tr>\n",
       "      <th>430</th>\n",
       "      <td>Skimmed  &amp; semi-</td>\n",
       "      <td>2020.0</td>\n",
       "      <td>Dec</td>\n",
       "      <td>14.8</td>\n",
       "    </tr>\n",
       "    <tr>\n",
       "      <th>431</th>\n",
       "      <td>Skimmed  &amp; semi-</td>\n",
       "      <td>2021.0</td>\n",
       "      <td>Dec</td>\n",
       "      <td>15.0 4</td>\n",
       "    </tr>\n",
       "  </tbody>\n",
       "</table>\n",
       "<p>432 rows × 4 columns</p>\n",
       "</div>"
      ],
      "text/plain": [
       "                         index    Year Month   value\n",
       "0    Total milk sold for human  2011.0   Jan    26.6\n",
       "1    Total milk sold for human  2012.0   Jan    25.4\n",
       "2    Total milk sold for human  2013.0   Jan    25.4\n",
       "3             Whole milk sales  2011.0   Jan    14.5\n",
       "4             Whole milk sales  2012.0   Jan    15.3\n",
       "..                         ...     ...   ...     ...\n",
       "427           Whole milk sales  2020.0   Dec    25.1\n",
       "428           Whole milk sales  2021.0   Dec  25.2 4\n",
       "429           Skimmed  & semi-  2019.0   Dec   16.06\n",
       "430           Skimmed  & semi-  2020.0   Dec    14.8\n",
       "431           Skimmed  & semi-  2021.0   Dec  15.0 4\n",
       "\n",
       "[432 rows x 4 columns]"
      ]
     },
     "execution_count": 9,
     "metadata": {},
     "output_type": "execute_result"
    }
   ],
   "source": [
    "df"
   ]
  },
  {
   "cell_type": "code",
   "execution_count": 10,
   "id": "19ef7ba8",
   "metadata": {},
   "outputs": [
    {
     "data": {
      "text/plain": [
       "index     object\n",
       "Year     float64\n",
       "Month     object\n",
       "value     object\n",
       "dtype: object"
      ]
     },
     "execution_count": 10,
     "metadata": {},
     "output_type": "execute_result"
    }
   ],
   "source": [
    "df.dtypes"
   ]
  },
  {
   "cell_type": "code",
   "execution_count": 11,
   "id": "34633cdc",
   "metadata": {},
   "outputs": [],
   "source": [
    "df[\"value\"] = df[\"value\"].astype(\"str\")\\\n",
    "                         .str.replace(\" 4\",\"\")\\\n",
    "                         .str.replace(\" 1\",\"\")\\\n",
    "                         .astype(\"float\")"
   ]
  },
  {
   "cell_type": "code",
   "execution_count": 12,
   "id": "165ab2d0",
   "metadata": {},
   "outputs": [
    {
     "data": {
      "text/plain": [
       "index     object\n",
       "Year     float64\n",
       "Month     object\n",
       "value    float64\n",
       "dtype: object"
      ]
     },
     "execution_count": 12,
     "metadata": {},
     "output_type": "execute_result"
    }
   ],
   "source": [
    "df.dtypes"
   ]
  },
  {
   "cell_type": "code",
   "execution_count": 13,
   "id": "ed56d901",
   "metadata": {},
   "outputs": [],
   "source": [
    "df = pd.pivot_table(df, values=\"value\", index=[\"Year\",\"Month\"], columns=\"index\")"
   ]
  },
  {
   "cell_type": "code",
   "execution_count": 14,
   "id": "1d3217cc",
   "metadata": {},
   "outputs": [
    {
     "data": {
      "text/html": [
       "<div>\n",
       "<style scoped>\n",
       "    .dataframe tbody tr th:only-of-type {\n",
       "        vertical-align: middle;\n",
       "    }\n",
       "\n",
       "    .dataframe tbody tr th {\n",
       "        vertical-align: top;\n",
       "    }\n",
       "\n",
       "    .dataframe thead th {\n",
       "        text-align: right;\n",
       "    }\n",
       "</style>\n",
       "<table border=\"1\" class=\"dataframe\">\n",
       "  <thead>\n",
       "    <tr style=\"text-align: right;\">\n",
       "      <th>index</th>\n",
       "      <th>Year</th>\n",
       "      <th>Month</th>\n",
       "      <th>Skimmed  &amp; semi-</th>\n",
       "      <th>Total milk sold for human</th>\n",
       "      <th>Whole milk sales</th>\n",
       "    </tr>\n",
       "  </thead>\n",
       "  <tbody>\n",
       "    <tr>\n",
       "      <th>0</th>\n",
       "      <td>2011.0</td>\n",
       "      <td>Apr</td>\n",
       "      <td>14.9</td>\n",
       "      <td>26.20</td>\n",
       "      <td>13.9</td>\n",
       "    </tr>\n",
       "    <tr>\n",
       "      <th>1</th>\n",
       "      <td>2011.0</td>\n",
       "      <td>Aug</td>\n",
       "      <td>15.6</td>\n",
       "      <td>27.00</td>\n",
       "      <td>15.4</td>\n",
       "    </tr>\n",
       "    <tr>\n",
       "      <th>2</th>\n",
       "      <td>2011.0</td>\n",
       "      <td>Dec</td>\n",
       "      <td>4.9</td>\n",
       "      <td>25.41</td>\n",
       "      <td>14.4</td>\n",
       "    </tr>\n",
       "    <tr>\n",
       "      <th>3</th>\n",
       "      <td>2011.0</td>\n",
       "      <td>Feb</td>\n",
       "      <td>5.8</td>\n",
       "      <td>24.40</td>\n",
       "      <td>13.8</td>\n",
       "    </tr>\n",
       "    <tr>\n",
       "      <th>4</th>\n",
       "      <td>2011.0</td>\n",
       "      <td>Jan</td>\n",
       "      <td>4.0</td>\n",
       "      <td>26.60</td>\n",
       "      <td>14.5</td>\n",
       "    </tr>\n",
       "    <tr>\n",
       "      <th>...</th>\n",
       "      <td>...</td>\n",
       "      <td>...</td>\n",
       "      <td>...</td>\n",
       "      <td>...</td>\n",
       "      <td>...</td>\n",
       "    </tr>\n",
       "    <tr>\n",
       "      <th>127</th>\n",
       "      <td>2021.0</td>\n",
       "      <td>Mar</td>\n",
       "      <td>15.6</td>\n",
       "      <td>42.10</td>\n",
       "      <td>26.5</td>\n",
       "    </tr>\n",
       "    <tr>\n",
       "      <th>128</th>\n",
       "      <td>2021.0</td>\n",
       "      <td>May</td>\n",
       "      <td>15.8</td>\n",
       "      <td>46.60</td>\n",
       "      <td>30.8</td>\n",
       "    </tr>\n",
       "    <tr>\n",
       "      <th>129</th>\n",
       "      <td>2021.0</td>\n",
       "      <td>Nov</td>\n",
       "      <td>15.4</td>\n",
       "      <td>41.00</td>\n",
       "      <td>25.5</td>\n",
       "    </tr>\n",
       "    <tr>\n",
       "      <th>130</th>\n",
       "      <td>2021.0</td>\n",
       "      <td>Oct</td>\n",
       "      <td>15.8</td>\n",
       "      <td>41.90</td>\n",
       "      <td>26.1</td>\n",
       "    </tr>\n",
       "    <tr>\n",
       "      <th>131</th>\n",
       "      <td>2021.0</td>\n",
       "      <td>Sep</td>\n",
       "      <td>15.1</td>\n",
       "      <td>41.70</td>\n",
       "      <td>26.6</td>\n",
       "    </tr>\n",
       "  </tbody>\n",
       "</table>\n",
       "<p>132 rows × 5 columns</p>\n",
       "</div>"
      ],
      "text/plain": [
       "index    Year Month  Skimmed  & semi-  Total milk sold for human  \\\n",
       "0      2011.0   Apr              14.9                      26.20   \n",
       "1      2011.0   Aug              15.6                      27.00   \n",
       "2      2011.0   Dec               4.9                      25.41   \n",
       "3      2011.0   Feb               5.8                      24.40   \n",
       "4      2011.0   Jan               4.0                      26.60   \n",
       "..        ...   ...               ...                        ...   \n",
       "127    2021.0   Mar              15.6                      42.10   \n",
       "128    2021.0   May              15.8                      46.60   \n",
       "129    2021.0   Nov              15.4                      41.00   \n",
       "130    2021.0   Oct              15.8                      41.90   \n",
       "131    2021.0   Sep              15.1                      41.70   \n",
       "\n",
       "index  Whole milk sales  \n",
       "0                  13.9  \n",
       "1                  15.4  \n",
       "2                  14.4  \n",
       "3                  13.8  \n",
       "4                  14.5  \n",
       "..                  ...  \n",
       "127                26.5  \n",
       "128                30.8  \n",
       "129                25.5  \n",
       "130                26.1  \n",
       "131                26.6  \n",
       "\n",
       "[132 rows x 5 columns]"
      ]
     },
     "execution_count": 14,
     "metadata": {},
     "output_type": "execute_result"
    }
   ],
   "source": [
    "df.reset_index()"
   ]
  },
  {
   "cell_type": "code",
   "execution_count": 15,
   "id": "4a0f8924",
   "metadata": {},
   "outputs": [],
   "source": [
    "df = df.reset_index()"
   ]
  },
  {
   "cell_type": "code",
   "execution_count": 16,
   "id": "c2794948",
   "metadata": {},
   "outputs": [
    {
     "data": {
      "text/plain": [
       "Index(['Year', 'Month', 'Skimmed  & semi-', 'Total milk sold for human',\n",
       "       'Whole milk sales'],\n",
       "      dtype='object', name='index')"
      ]
     },
     "execution_count": 16,
     "metadata": {},
     "output_type": "execute_result"
    }
   ],
   "source": [
    "df.columns"
   ]
  },
  {
   "cell_type": "code",
   "execution_count": 17,
   "id": "2d6abaae",
   "metadata": {},
   "outputs": [
    {
     "data": {
      "text/html": [
       "<div>\n",
       "<style scoped>\n",
       "    .dataframe tbody tr th:only-of-type {\n",
       "        vertical-align: middle;\n",
       "    }\n",
       "\n",
       "    .dataframe tbody tr th {\n",
       "        vertical-align: top;\n",
       "    }\n",
       "\n",
       "    .dataframe thead th {\n",
       "        text-align: right;\n",
       "    }\n",
       "</style>\n",
       "<table border=\"1\" class=\"dataframe\">\n",
       "  <thead>\n",
       "    <tr style=\"text-align: right;\">\n",
       "      <th>index</th>\n",
       "      <th>Year</th>\n",
       "      <th>Month</th>\n",
       "      <th>Skimmed  &amp; semi-</th>\n",
       "      <th>Total milk sold for human</th>\n",
       "      <th>Whole milk sales</th>\n",
       "    </tr>\n",
       "  </thead>\n",
       "  <tbody>\n",
       "    <tr>\n",
       "      <th>0</th>\n",
       "      <td>2011.0</td>\n",
       "      <td>Apr</td>\n",
       "      <td>14.9</td>\n",
       "      <td>26.20</td>\n",
       "      <td>13.9</td>\n",
       "    </tr>\n",
       "    <tr>\n",
       "      <th>1</th>\n",
       "      <td>2011.0</td>\n",
       "      <td>Aug</td>\n",
       "      <td>15.6</td>\n",
       "      <td>27.00</td>\n",
       "      <td>15.4</td>\n",
       "    </tr>\n",
       "    <tr>\n",
       "      <th>2</th>\n",
       "      <td>2011.0</td>\n",
       "      <td>Dec</td>\n",
       "      <td>4.9</td>\n",
       "      <td>25.41</td>\n",
       "      <td>14.4</td>\n",
       "    </tr>\n",
       "    <tr>\n",
       "      <th>3</th>\n",
       "      <td>2011.0</td>\n",
       "      <td>Feb</td>\n",
       "      <td>5.8</td>\n",
       "      <td>24.40</td>\n",
       "      <td>13.8</td>\n",
       "    </tr>\n",
       "    <tr>\n",
       "      <th>4</th>\n",
       "      <td>2011.0</td>\n",
       "      <td>Jan</td>\n",
       "      <td>4.0</td>\n",
       "      <td>26.60</td>\n",
       "      <td>14.5</td>\n",
       "    </tr>\n",
       "    <tr>\n",
       "      <th>...</th>\n",
       "      <td>...</td>\n",
       "      <td>...</td>\n",
       "      <td>...</td>\n",
       "      <td>...</td>\n",
       "      <td>...</td>\n",
       "    </tr>\n",
       "    <tr>\n",
       "      <th>122</th>\n",
       "      <td>2021.0</td>\n",
       "      <td>Dec</td>\n",
       "      <td>15.0</td>\n",
       "      <td>40.10</td>\n",
       "      <td>25.2</td>\n",
       "    </tr>\n",
       "    <tr>\n",
       "      <th>124</th>\n",
       "      <td>2021.0</td>\n",
       "      <td>Jan</td>\n",
       "      <td>15.3</td>\n",
       "      <td>40.40</td>\n",
       "      <td>25.1</td>\n",
       "    </tr>\n",
       "    <tr>\n",
       "      <th>125</th>\n",
       "      <td>2021.0</td>\n",
       "      <td>Jul</td>\n",
       "      <td>15.1</td>\n",
       "      <td>45.20</td>\n",
       "      <td>30.2</td>\n",
       "    </tr>\n",
       "    <tr>\n",
       "      <th>129</th>\n",
       "      <td>2021.0</td>\n",
       "      <td>Nov</td>\n",
       "      <td>15.4</td>\n",
       "      <td>41.00</td>\n",
       "      <td>25.5</td>\n",
       "    </tr>\n",
       "    <tr>\n",
       "      <th>130</th>\n",
       "      <td>2021.0</td>\n",
       "      <td>Oct</td>\n",
       "      <td>15.8</td>\n",
       "      <td>41.90</td>\n",
       "      <td>26.1</td>\n",
       "    </tr>\n",
       "  </tbody>\n",
       "</table>\n",
       "<p>112 rows × 5 columns</p>\n",
       "</div>"
      ],
      "text/plain": [
       "index    Year Month  Skimmed  & semi-  Total milk sold for human  \\\n",
       "0      2011.0   Apr              14.9                      26.20   \n",
       "1      2011.0   Aug              15.6                      27.00   \n",
       "2      2011.0   Dec               4.9                      25.41   \n",
       "3      2011.0   Feb               5.8                      24.40   \n",
       "4      2011.0   Jan               4.0                      26.60   \n",
       "..        ...   ...               ...                        ...   \n",
       "122    2021.0   Dec              15.0                      40.10   \n",
       "124    2021.0   Jan              15.3                      40.40   \n",
       "125    2021.0   Jul              15.1                      45.20   \n",
       "129    2021.0   Nov              15.4                      41.00   \n",
       "130    2021.0   Oct              15.8                      41.90   \n",
       "\n",
       "index  Whole milk sales  \n",
       "0                  13.9  \n",
       "1                  15.4  \n",
       "2                  14.4  \n",
       "3                  13.8  \n",
       "4                  14.5  \n",
       "..                  ...  \n",
       "122                25.2  \n",
       "124                25.1  \n",
       "125                30.2  \n",
       "129                25.5  \n",
       "130                26.1  \n",
       "\n",
       "[112 rows x 5 columns]"
      ]
     },
     "execution_count": 17,
     "metadata": {},
     "output_type": "execute_result"
    }
   ],
   "source": [
    "df[df[\"Whole milk sales\"]+df[\"Skimmed  & semi-\"]!=df[\"Total milk sold for human\"]]"
   ]
  },
  {
   "cell_type": "markdown",
   "id": "640b3cc3",
   "metadata": {},
   "source": [
    "### Time Series Part 1 "
   ]
  },
  {
   "cell_type": "code",
   "execution_count": 18,
   "id": "afac8647",
   "metadata": {},
   "outputs": [],
   "source": [
    "month_dic = {\"Jan\":1,\"Feb\":2,\"Mar\":3,\"Apr\":4,\"May\":5,\"Jun\":6,\n",
    "             \"Jul\":7,\"Aug\":8,\"Sep\":9,\"Oct\":10,\"Nov\":11,\"Dec\":12}"
   ]
  },
  {
   "cell_type": "code",
   "execution_count": 19,
   "id": "0286d0df",
   "metadata": {},
   "outputs": [],
   "source": [
    "df[\"Month\"] = df[\"Month\"].apply(lambda x: month_dic[x])"
   ]
  },
  {
   "cell_type": "code",
   "execution_count": 20,
   "id": "f1d0aa37",
   "metadata": {},
   "outputs": [],
   "source": [
    "df[\"Year\"] = df[\"Year\"].astype(\"int\")"
   ]
  },
  {
   "cell_type": "code",
   "execution_count": 21,
   "id": "03500998",
   "metadata": {},
   "outputs": [
    {
     "data": {
      "text/plain": [
       "0       4-2011\n",
       "1       8-2011\n",
       "2      12-2011\n",
       "3       2-2011\n",
       "4       1-2011\n",
       "        ...   \n",
       "127     3-2021\n",
       "128     5-2021\n",
       "129    11-2021\n",
       "130    10-2021\n",
       "131     9-2021\n",
       "Length: 132, dtype: object"
      ]
     },
     "execution_count": 21,
     "metadata": {},
     "output_type": "execute_result"
    }
   ],
   "source": [
    "df[\"Month\"].astype(\"str\")+\"-\"+df[\"Year\"].astype(\"str\")"
   ]
  },
  {
   "cell_type": "code",
   "execution_count": 22,
   "id": "36cdee58",
   "metadata": {},
   "outputs": [],
   "source": [
    "df[\"datetime\"] = pd.to_datetime(df[\"Month\"].astype(\"str\")+\"-\"+df[\"Year\"].astype(\"str\"))"
   ]
  },
  {
   "cell_type": "code",
   "execution_count": 23,
   "id": "f47ea2b4",
   "metadata": {},
   "outputs": [
    {
     "data": {
      "text/plain": [
       "0     2011-04-01\n",
       "1     2011-08-01\n",
       "2     2011-12-01\n",
       "3     2011-02-01\n",
       "4     2011-01-01\n",
       "         ...    \n",
       "127   2021-03-01\n",
       "128   2021-05-01\n",
       "129   2021-11-01\n",
       "130   2021-10-01\n",
       "131   2021-09-01\n",
       "Name: datetime, Length: 132, dtype: datetime64[ns]"
      ]
     },
     "execution_count": 23,
     "metadata": {},
     "output_type": "execute_result"
    }
   ],
   "source": [
    "df[\"datetime\"]"
   ]
  },
  {
   "cell_type": "code",
   "execution_count": 24,
   "id": "d92b3103",
   "metadata": {},
   "outputs": [],
   "source": [
    "df = df.sort_values(by=[\"datetime\"])"
   ]
  },
  {
   "cell_type": "code",
   "execution_count": 25,
   "id": "0db7283c",
   "metadata": {},
   "outputs": [
    {
     "data": {
      "text/plain": [
       "<AxesSubplot:xlabel='datetime'>"
      ]
     },
     "execution_count": 25,
     "metadata": {},
     "output_type": "execute_result"
    },
    {
     "data": {
      "image/png": "[encoded data removed]",
      "text/plain": [
       "<Figure size 432x288 with 1 Axes>"
      ]
     },
     "metadata": {
      "needs_background": "light"
     },
     "output_type": "display_data"
    }
   ],
   "source": [
    "df.set_index(\"datetime\").drop(columns=[\"Year\",\"Month\"]).plot()"
   ]
  },
  {
   "cell_type": "code",
   "execution_count": 26,
   "id": "69373985",
   "metadata": {
    "scrolled": true
   },
   "outputs": [],
   "source": [
    "result = seasonal_decompose(df.set_index(\"datetime\")[\"Total milk sold for human\"], period=12)"
   ]
  },
  {
   "cell_type": "code",
   "execution_count": 27,
   "id": "ad72e826",
   "metadata": {},
   "outputs": [
    {
     "data": {
      "image/png": "[encoded data removed]",
      "text/plain": [
       "<Figure size 432x288 with 4 Axes>"
      ]
     },
     "execution_count": 27,
     "metadata": {},
     "output_type": "execute_result"
    },
    {
     "data": {
      "image/png": "[encoded data removed]",
      "text/plain": [
       "<Figure size 432x288 with 4 Axes>"
      ]
     },
     "metadata": {
      "needs_background": "light"
     },
     "output_type": "display_data"
    }
   ],
   "source": [
    "result.plot()"
   ]
  },
  {
   "cell_type": "code",
   "execution_count": 28,
   "id": "11c909a1",
   "metadata": {},
   "outputs": [
    {
     "data": {
      "image/png": "[encoded data removed]",
      "text/plain": [
       "<Figure size 432x288 with 1 Axes>"
      ]
     },
     "execution_count": 28,
     "metadata": {},
     "output_type": "execute_result"
    },
    {
     "data": {
      "image/png": "[encoded data removed]",
      "text/plain": [
       "<Figure size 432x288 with 1 Axes>"
      ]
     },
     "metadata": {
      "needs_background": "light"
     },
     "output_type": "display_data"
    }
   ],
   "source": [
    "plot_acf(df.set_index(\"datetime\")[\"Total milk sold for human\"])"
   ]
  },
  {
   "cell_type": "code",
   "execution_count": 29,
   "id": "b2429684",
   "metadata": {},
   "outputs": [
    {
     "data": {
      "text/plain": [
       "0.7162457843601794"
      ]
     },
     "execution_count": 29,
     "metadata": {},
     "output_type": "execute_result"
    }
   ],
   "source": [
    "adfuller(df.set_index(\"datetime\")[\"Total milk sold for human\"])[1]"
   ]
  },
  {
   "cell_type": "code",
   "execution_count": 30,
   "id": "8a53a8f3",
   "metadata": {},
   "outputs": [],
   "source": [
    "df[\"lag-1\"] = df[\"Total milk sold for human\"].shift(1)"
   ]
  },
  {
   "cell_type": "code",
   "execution_count": 31,
   "id": "b136aaae",
   "metadata": {},
   "outputs": [
    {
     "data": {
      "text/html": [
       "<div>\n",
       "<style scoped>\n",
       "    .dataframe tbody tr th:only-of-type {\n",
       "        vertical-align: middle;\n",
       "    }\n",
       "\n",
       "    .dataframe tbody tr th {\n",
       "        vertical-align: top;\n",
       "    }\n",
       "\n",
       "    .dataframe thead th {\n",
       "        text-align: right;\n",
       "    }\n",
       "</style>\n",
       "<table border=\"1\" class=\"dataframe\">\n",
       "  <thead>\n",
       "    <tr style=\"text-align: right;\">\n",
       "      <th>index</th>\n",
       "      <th>Year</th>\n",
       "      <th>Month</th>\n",
       "      <th>Skimmed  &amp; semi-</th>\n",
       "      <th>Total milk sold for human</th>\n",
       "      <th>Whole milk sales</th>\n",
       "      <th>datetime</th>\n",
       "      <th>lag-1</th>\n",
       "    </tr>\n",
       "  </thead>\n",
       "  <tbody>\n",
       "    <tr>\n",
       "      <th>4</th>\n",
       "      <td>2011</td>\n",
       "      <td>1</td>\n",
       "      <td>4.0</td>\n",
       "      <td>26.6</td>\n",
       "      <td>14.5</td>\n",
       "      <td>2011-01-01</td>\n",
       "      <td>NaN</td>\n",
       "    </tr>\n",
       "    <tr>\n",
       "      <th>3</th>\n",
       "      <td>2011</td>\n",
       "      <td>2</td>\n",
       "      <td>5.8</td>\n",
       "      <td>24.4</td>\n",
       "      <td>13.8</td>\n",
       "      <td>2011-02-01</td>\n",
       "      <td>26.6</td>\n",
       "    </tr>\n",
       "    <tr>\n",
       "      <th>7</th>\n",
       "      <td>2011</td>\n",
       "      <td>3</td>\n",
       "      <td>12.5</td>\n",
       "      <td>28.0</td>\n",
       "      <td>15.8</td>\n",
       "      <td>2011-03-01</td>\n",
       "      <td>24.4</td>\n",
       "    </tr>\n",
       "    <tr>\n",
       "      <th>0</th>\n",
       "      <td>2011</td>\n",
       "      <td>4</td>\n",
       "      <td>14.9</td>\n",
       "      <td>26.2</td>\n",
       "      <td>13.9</td>\n",
       "      <td>2011-04-01</td>\n",
       "      <td>28.0</td>\n",
       "    </tr>\n",
       "    <tr>\n",
       "      <th>8</th>\n",
       "      <td>2011</td>\n",
       "      <td>5</td>\n",
       "      <td>19.0</td>\n",
       "      <td>27.9</td>\n",
       "      <td>15.0</td>\n",
       "      <td>2011-05-01</td>\n",
       "      <td>26.2</td>\n",
       "    </tr>\n",
       "    <tr>\n",
       "      <th>...</th>\n",
       "      <td>...</td>\n",
       "      <td>...</td>\n",
       "      <td>...</td>\n",
       "      <td>...</td>\n",
       "      <td>...</td>\n",
       "      <td>...</td>\n",
       "      <td>...</td>\n",
       "    </tr>\n",
       "    <tr>\n",
       "      <th>121</th>\n",
       "      <td>2021</td>\n",
       "      <td>8</td>\n",
       "      <td>15.8</td>\n",
       "      <td>44.8</td>\n",
       "      <td>29.0</td>\n",
       "      <td>2021-08-01</td>\n",
       "      <td>45.2</td>\n",
       "    </tr>\n",
       "    <tr>\n",
       "      <th>131</th>\n",
       "      <td>2021</td>\n",
       "      <td>9</td>\n",
       "      <td>15.1</td>\n",
       "      <td>41.7</td>\n",
       "      <td>26.6</td>\n",
       "      <td>2021-09-01</td>\n",
       "      <td>44.8</td>\n",
       "    </tr>\n",
       "    <tr>\n",
       "      <th>130</th>\n",
       "      <td>2021</td>\n",
       "      <td>10</td>\n",
       "      <td>15.8</td>\n",
       "      <td>41.9</td>\n",
       "      <td>26.1</td>\n",
       "      <td>2021-10-01</td>\n",
       "      <td>41.7</td>\n",
       "    </tr>\n",
       "    <tr>\n",
       "      <th>129</th>\n",
       "      <td>2021</td>\n",
       "      <td>11</td>\n",
       "      <td>15.4</td>\n",
       "      <td>41.0</td>\n",
       "      <td>25.5</td>\n",
       "      <td>2021-11-01</td>\n",
       "      <td>41.9</td>\n",
       "    </tr>\n",
       "    <tr>\n",
       "      <th>122</th>\n",
       "      <td>2021</td>\n",
       "      <td>12</td>\n",
       "      <td>15.0</td>\n",
       "      <td>40.1</td>\n",
       "      <td>25.2</td>\n",
       "      <td>2021-12-01</td>\n",
       "      <td>41.0</td>\n",
       "    </tr>\n",
       "  </tbody>\n",
       "</table>\n",
       "<p>132 rows × 7 columns</p>\n",
       "</div>"
      ],
      "text/plain": [
       "index  Year  Month  Skimmed  & semi-  Total milk sold for human  \\\n",
       "4      2011      1               4.0                       26.6   \n",
       "3      2011      2               5.8                       24.4   \n",
       "7      2011      3              12.5                       28.0   \n",
       "0      2011      4              14.9                       26.2   \n",
       "8      2011      5              19.0                       27.9   \n",
       "..      ...    ...               ...                        ...   \n",
       "121    2021      8              15.8                       44.8   \n",
       "131    2021      9              15.1                       41.7   \n",
       "130    2021     10              15.8                       41.9   \n",
       "129    2021     11              15.4                       41.0   \n",
       "122    2021     12              15.0                       40.1   \n",
       "\n",
       "index  Whole milk sales   datetime  lag-1  \n",
       "4                  14.5 2011-01-01    NaN  \n",
       "3                  13.8 2011-02-01   26.6  \n",
       "7                  15.8 2011-03-01   24.4  \n",
       "0                  13.9 2011-04-01   28.0  \n",
       "8                  15.0 2011-05-01   26.2  \n",
       "..                  ...        ...    ...  \n",
       "121                29.0 2021-08-01   45.2  \n",
       "131                26.6 2021-09-01   44.8  \n",
       "130                26.1 2021-10-01   41.7  \n",
       "129                25.5 2021-11-01   41.9  \n",
       "122                25.2 2021-12-01   41.0  \n",
       "\n",
       "[132 rows x 7 columns]"
      ]
     },
     "execution_count": 31,
     "metadata": {},
     "output_type": "execute_result"
    }
   ],
   "source": [
    "df"
   ]
  },
  {
   "cell_type": "code",
   "execution_count": 32,
   "id": "354f3aa0",
   "metadata": {},
   "outputs": [],
   "source": [
    "df[\"diff\"] = df[\"Total milk sold for human\"] - df[\"lag-1\"]"
   ]
  },
  {
   "cell_type": "code",
   "execution_count": 33,
   "id": "6ddd3a1c",
   "metadata": {},
   "outputs": [
    {
     "data": {
      "text/plain": [
       "<AxesSubplot:xlabel='datetime'>"
      ]
     },
     "execution_count": 33,
     "metadata": {},
     "output_type": "execute_result"
    },
    {
     "data": {
      "image/png": "[encoded data removed]",
      "text/plain": [
       "<Figure size 432x288 with 1 Axes>"
      ]
     },
     "metadata": {
      "needs_background": "light"
     },
     "output_type": "display_data"
    }
   ],
   "source": [
    "df.set_index(\"datetime\")[\"diff\"].plot()"
   ]
  },
  {
   "cell_type": "code",
   "execution_count": 34,
   "id": "6bf21847",
   "metadata": {},
   "outputs": [
    {
     "data": {
      "text/plain": [
       "3.789663096369928e-12"
      ]
     },
     "execution_count": 34,
     "metadata": {},
     "output_type": "execute_result"
    }
   ],
   "source": [
    "adfuller(df.set_index(\"datetime\")[\"diff\"].dropna())[1]"
   ]
  },
  {
   "cell_type": "code",
   "execution_count": 35,
   "id": "c8fa7fc3",
   "metadata": {
    "scrolled": true
   },
   "outputs": [
    {
     "data": {
      "image/png": "[encoded data removed]",
      "text/plain": [
       "<Figure size 432x288 with 1 Axes>"
      ]
     },
     "execution_count": 35,
     "metadata": {},
     "output_type": "execute_result"
    },
    {
     "data": {
      "image/png": "[encoded data removed]",
      "text/plain": [
       "<Figure size 432x288 with 1 Axes>"
      ]
     },
     "metadata": {
      "needs_background": "light"
     },
     "output_type": "display_data"
    }
   ],
   "source": [
    "plot_acf(df.set_index(\"datetime\")[\"diff\"].dropna())"
   ]
  },
  {
   "cell_type": "code",
   "execution_count": 36,
   "id": "41cd227b",
   "metadata": {},
   "outputs": [
    {
     "data": {
      "image/png": "[encoded data removed]",
      "text/plain": [
       "<Figure size 432x288 with 1 Axes>"
      ]
     },
     "execution_count": 36,
     "metadata": {},
     "output_type": "execute_result"
    },
    {
     "data": {
      "image/png": "[encoded data removed]",
      "text/plain": [
       "<Figure size 432x288 with 1 Axes>"
      ]
     },
     "metadata": {
      "needs_background": "light"
     },
     "output_type": "display_data"
    }
   ],
   "source": [
    "plot_pacf(df.set_index(\"datetime\")[\"diff\"].dropna())"
   ]
  },
  {
   "cell_type": "markdown",
   "id": "d31624e4",
   "metadata": {},
   "source": [
    "### Arima the  forecasting model, to predict total milk sold in the future\n",
    "#### 3 parameters - with 1 diferencial "
   ]
  },
  {
   "cell_type": "code",
   "execution_count": 38,
   "id": "33ed56fa",
   "metadata": {},
   "outputs": [
    {
     "name": "stderr",
     "output_type": "stream",
     "text": [
      "C:\\Users\\SILVA\\anaconda\\lib\\site-packages\\statsmodels\\tsa\\base\\tsa_model.py:524: ValueWarning: No frequency information was provided, so inferred frequency MS will be used.\n",
      "  warnings.warn('No frequency information was'\n",
      "C:\\Users\\SILVA\\anaconda\\lib\\site-packages\\statsmodels\\tsa\\base\\tsa_model.py:524: ValueWarning: No frequency information was provided, so inferred frequency MS will be used.\n",
      "  warnings.warn('No frequency information was'\n",
      "C:\\Users\\SILVA\\anaconda\\lib\\site-packages\\statsmodels\\tsa\\base\\tsa_model.py:524: ValueWarning: No frequency information was provided, so inferred frequency MS will be used.\n",
      "  warnings.warn('No frequency information was'\n"
     ]
    }
   ],
   "source": [
    "model = ARIMA(df.set_index(\"datetime\")[\"Total milk sold for human\"],order=(2,1,2))"
   ]
  },
  {
   "cell_type": "code",
   "execution_count": 39,
   "id": "97f9d281",
   "metadata": {},
   "outputs": [],
   "source": [
    "res = model.fit()"
   ]
  },
  {
   "cell_type": "code",
   "execution_count": 40,
   "id": "83303d76",
   "metadata": {},
   "outputs": [
    {
     "data": {
      "text/plain": [
       "2011-11-01    25.836009\n",
       "2011-12-01    25.337207\n",
       "2012-01-01    25.343780\n",
       "2012-02-01    25.424878\n",
       "2012-03-01    24.581007\n",
       "                ...    \n",
       "2021-08-01    44.716208\n",
       "2021-09-01    44.896124\n",
       "2021-10-01    42.781807\n",
       "2021-11-01    41.070973\n",
       "2021-12-01    41.183380\n",
       "Freq: MS, Name: predicted_mean, Length: 122, dtype: float64"
      ]
     },
     "execution_count": 40,
     "metadata": {},
     "output_type": "execute_result"
    }
   ],
   "source": [
    "res.predict(10)"
   ]
  },
  {
   "cell_type": "code",
   "execution_count": 41,
   "id": "2fd20d61",
   "metadata": {
    "scrolled": true
   },
   "outputs": [
    {
     "data": {
      "text/plain": [
       "<matplotlib.legend.Legend at 0x117b784c2b0>"
      ]
     },
     "execution_count": 41,
     "metadata": {},
     "output_type": "execute_result"
    },
    {
     "data": {
      "image/png": "[encoded data removed]",
      "text/plain": [
       "<Figure size 432x288 with 1 Axes>"
      ]
     },
     "metadata": {
      "needs_background": "light"
     },
     "output_type": "display_data"
    }
   ],
   "source": [
    "df.set_index(\"datetime\")[\"Total milk sold for human\"].plot()\n",
    "res.predict(10).plot()\n",
    "res.forecast(12).plot(label=\"predicted_mean_forecast\")\n",
    "plt.legend()"
   ]
  },
  {
   "cell_type": "markdown",
   "id": "13562133",
   "metadata": {},
   "source": [
    "####  the End  part 1 of Time Serie"
   ]
  },
  {
   "cell_type": "markdown",
   "id": "705ed180",
   "metadata": {},
   "source": [
    "### Join all dataframes and find correlation between variables "
   ]
  },
  {
   "cell_type": "code",
   "execution_count": 42,
   "id": "af680a54",
   "metadata": {},
   "outputs": [],
   "source": [
    "fertiliser = pd.read_csv(\"../data/fertiliser_year.csv\",index_col=0)\n",
    "cattle = pd.read_csv(\"../data/cattle_year.csv\",index_col=0)\n",
    "land = pd.read_csv(\"../data/land_price.csv\",index_col=0)"
   ]
  },
  {
   "cell_type": "code",
   "execution_count": 43,
   "id": "57fd98cf",
   "metadata": {},
   "outputs": [
    {
     "data": {
      "text/plain": [
       "Index(['Year', 'fertiliser_pca'], dtype='object')"
      ]
     },
     "execution_count": 43,
     "metadata": {},
     "output_type": "execute_result"
    }
   ],
   "source": [
    "fertiliser.columns"
   ]
  },
  {
   "cell_type": "code",
   "execution_count": 44,
   "id": "d3520f93",
   "metadata": {},
   "outputs": [
    {
     "data": {
      "text/plain": [
       "Index(['YEAR', 'BEEF', 'DAIRY'], dtype='object')"
      ]
     },
     "execution_count": 44,
     "metadata": {},
     "output_type": "execute_result"
    }
   ],
   "source": [
    "cattle.columns"
   ]
  },
  {
   "cell_type": "code",
   "execution_count": 45,
   "id": "fdda2ed8",
   "metadata": {},
   "outputs": [],
   "source": [
    "cattle = cattle.rename(columns={\"YEAR\":\"Year\"})"
   ]
  },
  {
   "cell_type": "code",
   "execution_count": 46,
   "id": "1d9fa9b6",
   "metadata": {},
   "outputs": [
    {
     "data": {
      "text/plain": [
       "Index(['Year', 'Land Price'], dtype='object')"
      ]
     },
     "execution_count": 46,
     "metadata": {},
     "output_type": "execute_result"
    }
   ],
   "source": [
    "land.columns"
   ]
  },
  {
   "cell_type": "code",
   "execution_count": 47,
   "id": "65013f59",
   "metadata": {
    "scrolled": true
   },
   "outputs": [],
   "source": [
    "df = df.merge(fertiliser).merge(cattle,how=\"left\").merge(land,how=\"left\")"
   ]
  },
  {
   "cell_type": "code",
   "execution_count": 48,
   "id": "50e437c8",
   "metadata": {},
   "outputs": [
    {
     "data": {
      "text/html": [
       "<div>\n",
       "<style scoped>\n",
       "    .dataframe tbody tr th:only-of-type {\n",
       "        vertical-align: middle;\n",
       "    }\n",
       "\n",
       "    .dataframe tbody tr th {\n",
       "        vertical-align: top;\n",
       "    }\n",
       "\n",
       "    .dataframe thead th {\n",
       "        text-align: right;\n",
       "    }\n",
       "</style>\n",
       "<table border=\"1\" class=\"dataframe\">\n",
       "  <thead>\n",
       "    <tr style=\"text-align: right;\">\n",
       "      <th></th>\n",
       "      <th>Year</th>\n",
       "      <th>Month</th>\n",
       "      <th>Skimmed  &amp; semi-</th>\n",
       "      <th>Total milk sold for human</th>\n",
       "      <th>Whole milk sales</th>\n",
       "      <th>datetime</th>\n",
       "      <th>lag-1</th>\n",
       "      <th>diff</th>\n",
       "      <th>fertiliser_pca</th>\n",
       "      <th>BEEF</th>\n",
       "      <th>DAIRY</th>\n",
       "      <th>Land Price</th>\n",
       "    </tr>\n",
       "  </thead>\n",
       "  <tbody>\n",
       "    <tr>\n",
       "      <th>0</th>\n",
       "      <td>2011</td>\n",
       "      <td>1</td>\n",
       "      <td>4.0</td>\n",
       "      <td>26.6</td>\n",
       "      <td>14.5</td>\n",
       "      <td>2011-01-01</td>\n",
       "      <td>NaN</td>\n",
       "      <td>NaN</td>\n",
       "      <td>461.692421</td>\n",
       "      <td>NaN</td>\n",
       "      <td>NaN</td>\n",
       "      <td>NaN</td>\n",
       "    </tr>\n",
       "    <tr>\n",
       "      <th>1</th>\n",
       "      <td>2011</td>\n",
       "      <td>2</td>\n",
       "      <td>5.8</td>\n",
       "      <td>24.4</td>\n",
       "      <td>13.8</td>\n",
       "      <td>2011-02-01</td>\n",
       "      <td>26.6</td>\n",
       "      <td>-2.2</td>\n",
       "      <td>461.692421</td>\n",
       "      <td>NaN</td>\n",
       "      <td>NaN</td>\n",
       "      <td>NaN</td>\n",
       "    </tr>\n",
       "    <tr>\n",
       "      <th>2</th>\n",
       "      <td>2011</td>\n",
       "      <td>3</td>\n",
       "      <td>12.5</td>\n",
       "      <td>28.0</td>\n",
       "      <td>15.8</td>\n",
       "      <td>2011-03-01</td>\n",
       "      <td>24.4</td>\n",
       "      <td>3.6</td>\n",
       "      <td>461.692421</td>\n",
       "      <td>NaN</td>\n",
       "      <td>NaN</td>\n",
       "      <td>NaN</td>\n",
       "    </tr>\n",
       "    <tr>\n",
       "      <th>3</th>\n",
       "      <td>2011</td>\n",
       "      <td>4</td>\n",
       "      <td>14.9</td>\n",
       "      <td>26.2</td>\n",
       "      <td>13.9</td>\n",
       "      <td>2011-04-01</td>\n",
       "      <td>28.0</td>\n",
       "      <td>-1.8</td>\n",
       "      <td>461.692421</td>\n",
       "      <td>NaN</td>\n",
       "      <td>NaN</td>\n",
       "      <td>NaN</td>\n",
       "    </tr>\n",
       "    <tr>\n",
       "      <th>4</th>\n",
       "      <td>2011</td>\n",
       "      <td>5</td>\n",
       "      <td>19.0</td>\n",
       "      <td>27.9</td>\n",
       "      <td>15.0</td>\n",
       "      <td>2011-05-01</td>\n",
       "      <td>26.2</td>\n",
       "      <td>1.7</td>\n",
       "      <td>461.692421</td>\n",
       "      <td>NaN</td>\n",
       "      <td>NaN</td>\n",
       "      <td>NaN</td>\n",
       "    </tr>\n",
       "    <tr>\n",
       "      <th>...</th>\n",
       "      <td>...</td>\n",
       "      <td>...</td>\n",
       "      <td>...</td>\n",
       "      <td>...</td>\n",
       "      <td>...</td>\n",
       "      <td>...</td>\n",
       "      <td>...</td>\n",
       "      <td>...</td>\n",
       "      <td>...</td>\n",
       "      <td>...</td>\n",
       "      <td>...</td>\n",
       "      <td>...</td>\n",
       "    </tr>\n",
       "    <tr>\n",
       "      <th>127</th>\n",
       "      <td>2021</td>\n",
       "      <td>8</td>\n",
       "      <td>15.8</td>\n",
       "      <td>44.8</td>\n",
       "      <td>29.0</td>\n",
       "      <td>2021-08-01</td>\n",
       "      <td>45.2</td>\n",
       "      <td>-0.4</td>\n",
       "      <td>474.704161</td>\n",
       "      <td>NaN</td>\n",
       "      <td>NaN</td>\n",
       "      <td>NaN</td>\n",
       "    </tr>\n",
       "    <tr>\n",
       "      <th>128</th>\n",
       "      <td>2021</td>\n",
       "      <td>9</td>\n",
       "      <td>15.1</td>\n",
       "      <td>41.7</td>\n",
       "      <td>26.6</td>\n",
       "      <td>2021-09-01</td>\n",
       "      <td>44.8</td>\n",
       "      <td>-3.1</td>\n",
       "      <td>474.704161</td>\n",
       "      <td>NaN</td>\n",
       "      <td>NaN</td>\n",
       "      <td>NaN</td>\n",
       "    </tr>\n",
       "    <tr>\n",
       "      <th>129</th>\n",
       "      <td>2021</td>\n",
       "      <td>10</td>\n",
       "      <td>15.8</td>\n",
       "      <td>41.9</td>\n",
       "      <td>26.1</td>\n",
       "      <td>2021-10-01</td>\n",
       "      <td>41.7</td>\n",
       "      <td>0.2</td>\n",
       "      <td>474.704161</td>\n",
       "      <td>NaN</td>\n",
       "      <td>NaN</td>\n",
       "      <td>NaN</td>\n",
       "    </tr>\n",
       "    <tr>\n",
       "      <th>130</th>\n",
       "      <td>2021</td>\n",
       "      <td>11</td>\n",
       "      <td>15.4</td>\n",
       "      <td>41.0</td>\n",
       "      <td>25.5</td>\n",
       "      <td>2021-11-01</td>\n",
       "      <td>41.9</td>\n",
       "      <td>-0.9</td>\n",
       "      <td>474.704161</td>\n",
       "      <td>NaN</td>\n",
       "      <td>NaN</td>\n",
       "      <td>NaN</td>\n",
       "    </tr>\n",
       "    <tr>\n",
       "      <th>131</th>\n",
       "      <td>2021</td>\n",
       "      <td>12</td>\n",
       "      <td>15.0</td>\n",
       "      <td>40.1</td>\n",
       "      <td>25.2</td>\n",
       "      <td>2021-12-01</td>\n",
       "      <td>41.0</td>\n",
       "      <td>-0.9</td>\n",
       "      <td>474.704161</td>\n",
       "      <td>NaN</td>\n",
       "      <td>NaN</td>\n",
       "      <td>NaN</td>\n",
       "    </tr>\n",
       "  </tbody>\n",
       "</table>\n",
       "<p>132 rows × 12 columns</p>\n",
       "</div>"
      ],
      "text/plain": [
       "     Year  Month  Skimmed  & semi-  Total milk sold for human  \\\n",
       "0    2011      1               4.0                       26.6   \n",
       "1    2011      2               5.8                       24.4   \n",
       "2    2011      3              12.5                       28.0   \n",
       "3    2011      4              14.9                       26.2   \n",
       "4    2011      5              19.0                       27.9   \n",
       "..    ...    ...               ...                        ...   \n",
       "127  2021      8              15.8                       44.8   \n",
       "128  2021      9              15.1                       41.7   \n",
       "129  2021     10              15.8                       41.9   \n",
       "130  2021     11              15.4                       41.0   \n",
       "131  2021     12              15.0                       40.1   \n",
       "\n",
       "     Whole milk sales   datetime  lag-1  diff  fertiliser_pca  BEEF  DAIRY  \\\n",
       "0                14.5 2011-01-01    NaN   NaN      461.692421   NaN    NaN   \n",
       "1                13.8 2011-02-01   26.6  -2.2      461.692421   NaN    NaN   \n",
       "2                15.8 2011-03-01   24.4   3.6      461.692421   NaN    NaN   \n",
       "3                13.9 2011-04-01   28.0  -1.8      461.692421   NaN    NaN   \n",
       "4                15.0 2011-05-01   26.2   1.7      461.692421   NaN    NaN   \n",
       "..                ...        ...    ...   ...             ...   ...    ...   \n",
       "127              29.0 2021-08-01   45.2  -0.4      474.704161   NaN    NaN   \n",
       "128              26.6 2021-09-01   44.8  -3.1      474.704161   NaN    NaN   \n",
       "129              26.1 2021-10-01   41.7   0.2      474.704161   NaN    NaN   \n",
       "130              25.5 2021-11-01   41.9  -0.9      474.704161   NaN    NaN   \n",
       "131              25.2 2021-12-01   41.0  -0.9      474.704161   NaN    NaN   \n",
       "\n",
       "     Land Price  \n",
       "0           NaN  \n",
       "1           NaN  \n",
       "2           NaN  \n",
       "3           NaN  \n",
       "4           NaN  \n",
       "..          ...  \n",
       "127         NaN  \n",
       "128         NaN  \n",
       "129         NaN  \n",
       "130         NaN  \n",
       "131         NaN  \n",
       "\n",
       "[132 rows x 12 columns]"
      ]
     },
     "execution_count": 48,
     "metadata": {},
     "output_type": "execute_result"
    }
   ],
   "source": [
    "df"
   ]
  },
  {
   "cell_type": "code",
   "execution_count": 49,
   "id": "e44c1ab1",
   "metadata": {},
   "outputs": [
    {
     "data": {
      "text/plain": [
       "Index(['Year', 'Month', 'Skimmed  & semi-', 'Total milk sold for human',\n",
       "       'Whole milk sales', 'datetime', 'lag-1', 'diff', 'fertiliser_pca',\n",
       "       'BEEF', 'DAIRY', 'Land Price'],\n",
       "      dtype='object')"
      ]
     },
     "execution_count": 49,
     "metadata": {},
     "output_type": "execute_result"
    }
   ],
   "source": [
    "df.columns"
   ]
  },
  {
   "cell_type": "code",
   "execution_count": 50,
   "id": "9dfc5744",
   "metadata": {
    "scrolled": true
   },
   "outputs": [
    {
     "data": {
      "text/plain": [
       "<AxesSubplot:>"
      ]
     },
     "execution_count": 50,
     "metadata": {},
     "output_type": "execute_result"
    },
    {
     "data": {
      "image/png": "[encoded data removed]",
      "text/plain": [
       "<Figure size 720x360 with 2 Axes>"
      ]
     },
     "metadata": {
      "needs_background": "light"
     },
     "output_type": "display_data"
    }
   ],
   "source": [
    "plt.figure(figsize=(10,5))\n",
    "sns.heatmap(data=df.corr(), annot=True)"
   ]
  },
  {
   "cell_type": "code",
   "execution_count": 51,
   "id": "e2874f78",
   "metadata": {},
   "outputs": [
    {
     "ename": "AttributeError",
     "evalue": "module 'seaborn' has no attribute 'scatter'",
     "output_type": "error",
     "traceback": [
      "\u001b[1;31m---------------------------------------------------------------------------\u001b[0m",
      "\u001b[1;31mAttributeError\u001b[0m                            Traceback (most recent call last)",
      "\u001b[1;32m~\\AppData\\Local\\Temp/ipykernel_14868/3454437028.py\u001b[0m in \u001b[0;36m<module>\u001b[1;34m\u001b[0m\n\u001b[1;32m----> 1\u001b[1;33m \u001b[0msns\u001b[0m\u001b[1;33m.\u001b[0m\u001b[0mscatter\u001b[0m\u001b[1;33m(\u001b[0m\u001b[0mdata\u001b[0m \u001b[1;33m=\u001b[0m \u001b[0mdf\u001b[0m\u001b[1;33m,\u001b[0m \u001b[0mx\u001b[0m\u001b[1;33m=\u001b[0m\u001b[1;34m\"Whole milk sales\"\u001b[0m\u001b[1;33m,\u001b[0m \u001b[0my\u001b[0m\u001b[1;33m=\u001b[0m\u001b[1;34m\"\"\u001b[0m\u001b[1;33m)\u001b[0m\u001b[1;33m\u001b[0m\u001b[1;33m\u001b[0m\u001b[0m\n\u001b[0m",
      "\u001b[1;31mAttributeError\u001b[0m: module 'seaborn' has no attribute 'scatter'"
     ]
    }
   ],
   "source": [
    "sns.scatter(data = df, x=\"Whole milk sales\", y=\"\")"
   ]
  },
  {
   "cell_type": "code",
   "execution_count": 52,
   "id": "925dc352",
   "metadata": {},
   "outputs": [
    {
     "data": {
      "text/html": [
       "<div>\n",
       "<style scoped>\n",
       "    .dataframe tbody tr th:only-of-type {\n",
       "        vertical-align: middle;\n",
       "    }\n",
       "\n",
       "    .dataframe tbody tr th {\n",
       "        vertical-align: top;\n",
       "    }\n",
       "\n",
       "    .dataframe thead th {\n",
       "        text-align: right;\n",
       "    }\n",
       "</style>\n",
       "<table border=\"1\" class=\"dataframe\">\n",
       "  <thead>\n",
       "    <tr style=\"text-align: right;\">\n",
       "      <th></th>\n",
       "      <th>Month</th>\n",
       "      <th>Skimmed  &amp; semi-</th>\n",
       "      <th>Total milk sold for human</th>\n",
       "      <th>Whole milk sales</th>\n",
       "      <th>lag-1</th>\n",
       "      <th>diff</th>\n",
       "      <th>fertiliser_pca</th>\n",
       "      <th>BEEF</th>\n",
       "      <th>DAIRY</th>\n",
       "      <th>Land Price</th>\n",
       "    </tr>\n",
       "    <tr>\n",
       "      <th>Year</th>\n",
       "      <th></th>\n",
       "      <th></th>\n",
       "      <th></th>\n",
       "      <th></th>\n",
       "      <th></th>\n",
       "      <th></th>\n",
       "      <th></th>\n",
       "      <th></th>\n",
       "      <th></th>\n",
       "      <th></th>\n",
       "    </tr>\n",
       "  </thead>\n",
       "  <tbody>\n",
       "    <tr>\n",
       "      <th>2011</th>\n",
       "      <td>6.5</td>\n",
       "      <td>12.166667</td>\n",
       "      <td>26.367500</td>\n",
       "      <td>14.783333</td>\n",
       "      <td>26.454545</td>\n",
       "      <td>-0.108182</td>\n",
       "      <td>461.692421</td>\n",
       "      <td>NaN</td>\n",
       "      <td>NaN</td>\n",
       "      <td>NaN</td>\n",
       "    </tr>\n",
       "    <tr>\n",
       "      <th>2012</th>\n",
       "      <td>6.5</td>\n",
       "      <td>12.100000</td>\n",
       "      <td>25.133333</td>\n",
       "      <td>15.450000</td>\n",
       "      <td>25.159167</td>\n",
       "      <td>-0.025833</td>\n",
       "      <td>518.609379</td>\n",
       "      <td>NaN</td>\n",
       "      <td>NaN</td>\n",
       "      <td>NaN</td>\n",
       "    </tr>\n",
       "    <tr>\n",
       "      <th>2013</th>\n",
       "      <td>6.5</td>\n",
       "      <td>12.666667</td>\n",
       "      <td>24.162500</td>\n",
       "      <td>15.758333</td>\n",
       "      <td>24.316667</td>\n",
       "      <td>-0.154167</td>\n",
       "      <td>506.585639</td>\n",
       "      <td>NaN</td>\n",
       "      <td>NaN</td>\n",
       "      <td>24735.281700</td>\n",
       "    </tr>\n",
       "    <tr>\n",
       "      <th>2014</th>\n",
       "      <td>6.5</td>\n",
       "      <td>13.858333</td>\n",
       "      <td>23.500000</td>\n",
       "      <td>16.491667</td>\n",
       "      <td>23.495833</td>\n",
       "      <td>0.004167</td>\n",
       "      <td>431.428903</td>\n",
       "      <td>635274.535822</td>\n",
       "      <td>-656333.764942</td>\n",
       "      <td>26153.927062</td>\n",
       "    </tr>\n",
       "    <tr>\n",
       "      <th>2015</th>\n",
       "      <td>6.5</td>\n",
       "      <td>16.675000</td>\n",
       "      <td>24.708333</td>\n",
       "      <td>17.541667</td>\n",
       "      <td>24.675000</td>\n",
       "      <td>0.033333</td>\n",
       "      <td>438.639275</td>\n",
       "      <td>620252.586362</td>\n",
       "      <td>-651523.620260</td>\n",
       "      <td>23717.800962</td>\n",
       "    </tr>\n",
       "    <tr>\n",
       "      <th>2016</th>\n",
       "      <td>6.5</td>\n",
       "      <td>16.566667</td>\n",
       "      <td>26.100000</td>\n",
       "      <td>17.833333</td>\n",
       "      <td>25.866667</td>\n",
       "      <td>0.233333</td>\n",
       "      <td>297.100477</td>\n",
       "      <td>639593.768345</td>\n",
       "      <td>-639356.496503</td>\n",
       "      <td>22761.334020</td>\n",
       "    </tr>\n",
       "    <tr>\n",
       "      <th>2017</th>\n",
       "      <td>6.5</td>\n",
       "      <td>18.625000</td>\n",
       "      <td>27.200000</td>\n",
       "      <td>17.633333</td>\n",
       "      <td>27.150000</td>\n",
       "      <td>0.050000</td>\n",
       "      <td>234.357027</td>\n",
       "      <td>646811.622914</td>\n",
       "      <td>-632832.217478</td>\n",
       "      <td>24808.491920</td>\n",
       "    </tr>\n",
       "    <tr>\n",
       "      <th>2018</th>\n",
       "      <td>6.5</td>\n",
       "      <td>19.741667</td>\n",
       "      <td>27.125000</td>\n",
       "      <td>17.400000</td>\n",
       "      <td>27.233333</td>\n",
       "      <td>-0.108333</td>\n",
       "      <td>277.300236</td>\n",
       "      <td>645876.287249</td>\n",
       "      <td>-635406.397890</td>\n",
       "      <td>27986.827726</td>\n",
       "    </tr>\n",
       "    <tr>\n",
       "      <th>2019</th>\n",
       "      <td>6.5</td>\n",
       "      <td>16.686667</td>\n",
       "      <td>44.416667</td>\n",
       "      <td>27.775000</td>\n",
       "      <td>43.083333</td>\n",
       "      <td>1.333333</td>\n",
       "      <td>334.618451</td>\n",
       "      <td>664637.552458</td>\n",
       "      <td>-639173.542970</td>\n",
       "      <td>24618.471287</td>\n",
       "    </tr>\n",
       "    <tr>\n",
       "      <th>2020</th>\n",
       "      <td>6.5</td>\n",
       "      <td>15.566667</td>\n",
       "      <td>43.791667</td>\n",
       "      <td>28.225000</td>\n",
       "      <td>43.950000</td>\n",
       "      <td>-0.158333</td>\n",
       "      <td>238.167094</td>\n",
       "      <td>655260.721566</td>\n",
       "      <td>-653081.034675</td>\n",
       "      <td>24845.948310</td>\n",
       "    </tr>\n",
       "    <tr>\n",
       "      <th>2021</th>\n",
       "      <td>6.5</td>\n",
       "      <td>15.250000</td>\n",
       "      <td>42.308333</td>\n",
       "      <td>27.066667</td>\n",
       "      <td>42.291667</td>\n",
       "      <td>0.016667</td>\n",
       "      <td>474.704161</td>\n",
       "      <td>NaN</td>\n",
       "      <td>NaN</td>\n",
       "      <td>NaN</td>\n",
       "    </tr>\n",
       "  </tbody>\n",
       "</table>\n",
       "</div>"
      ],
      "text/plain": [
       "      Month  Skimmed  & semi-  Total milk sold for human  Whole milk sales  \\\n",
       "Year                                                                         \n",
       "2011    6.5         12.166667                  26.367500         14.783333   \n",
       "2012    6.5         12.100000                  25.133333         15.450000   \n",
       "2013    6.5         12.666667                  24.162500         15.758333   \n",
       "2014    6.5         13.858333                  23.500000         16.491667   \n",
       "2015    6.5         16.675000                  24.708333         17.541667   \n",
       "2016    6.5         16.566667                  26.100000         17.833333   \n",
       "2017    6.5         18.625000                  27.200000         17.633333   \n",
       "2018    6.5         19.741667                  27.125000         17.400000   \n",
       "2019    6.5         16.686667                  44.416667         27.775000   \n",
       "2020    6.5         15.566667                  43.791667         28.225000   \n",
       "2021    6.5         15.250000                  42.308333         27.066667   \n",
       "\n",
       "          lag-1      diff  fertiliser_pca           BEEF          DAIRY  \\\n",
       "Year                                                                      \n",
       "2011  26.454545 -0.108182      461.692421            NaN            NaN   \n",
       "2012  25.159167 -0.025833      518.609379            NaN            NaN   \n",
       "2013  24.316667 -0.154167      506.585639            NaN            NaN   \n",
       "2014  23.495833  0.004167      431.428903  635274.535822 -656333.764942   \n",
       "2015  24.675000  0.033333      438.639275  620252.586362 -651523.620260   \n",
       "2016  25.866667  0.233333      297.100477  639593.768345 -639356.496503   \n",
       "2017  27.150000  0.050000      234.357027  646811.622914 -632832.217478   \n",
       "2018  27.233333 -0.108333      277.300236  645876.287249 -635406.397890   \n",
       "2019  43.083333  1.333333      334.618451  664637.552458 -639173.542970   \n",
       "2020  43.950000 -0.158333      238.167094  655260.721566 -653081.034675   \n",
       "2021  42.291667  0.016667      474.704161            NaN            NaN   \n",
       "\n",
       "        Land Price  \n",
       "Year                \n",
       "2011           NaN  \n",
       "2012           NaN  \n",
       "2013  24735.281700  \n",
       "2014  26153.927062  \n",
       "2015  23717.800962  \n",
       "2016  22761.334020  \n",
       "2017  24808.491920  \n",
       "2018  27986.827726  \n",
       "2019  24618.471287  \n",
       "2020  24845.948310  \n",
       "2021           NaN  "
      ]
     },
     "execution_count": 52,
     "metadata": {},
     "output_type": "execute_result"
    }
   ],
   "source": [
    "df.groupby(\"Year\").mean()"
   ]
  },
  {
   "cell_type": "code",
   "execution_count": 53,
   "id": "9aa6d02e",
   "metadata": {},
   "outputs": [
    {
     "data": {
      "text/plain": [
       "<AxesSubplot:xlabel='Year'>"
      ]
     },
     "execution_count": 53,
     "metadata": {},
     "output_type": "execute_result"
    },
    {
     "data": {
      "image/png": "[encoded data removed]",
      "text/plain": [
       "<Figure size 432x288 with 1 Axes>"
      ]
     },
     "metadata": {
      "needs_background": "light"
     },
     "output_type": "display_data"
    }
   ],
   "source": [
    "df.groupby(\"Year\").mean()[[\"Whole milk sales\",\n",
    "                                \"Skimmed  & semi-\",\n",
    "                                \"Total milk sold for human\"]].plot()"
   ]
  },
  {
   "cell_type": "code",
   "execution_count": 54,
   "id": "783e2635",
   "metadata": {},
   "outputs": [
    {
     "data": {
      "text/html": [
       "<div>\n",
       "<style scoped>\n",
       "    .dataframe tbody tr th:only-of-type {\n",
       "        vertical-align: middle;\n",
       "    }\n",
       "\n",
       "    .dataframe tbody tr th {\n",
       "        vertical-align: top;\n",
       "    }\n",
       "\n",
       "    .dataframe thead th {\n",
       "        text-align: right;\n",
       "    }\n",
       "</style>\n",
       "<table border=\"1\" class=\"dataframe\">\n",
       "  <thead>\n",
       "    <tr style=\"text-align: right;\">\n",
       "      <th></th>\n",
       "      <th>Month</th>\n",
       "      <th>Skimmed  &amp; semi-</th>\n",
       "      <th>Total milk sold for human</th>\n",
       "      <th>Whole milk sales</th>\n",
       "      <th>lag-1</th>\n",
       "      <th>diff</th>\n",
       "      <th>fertiliser_pca</th>\n",
       "      <th>BEEF</th>\n",
       "      <th>DAIRY</th>\n",
       "      <th>Land Price</th>\n",
       "    </tr>\n",
       "    <tr>\n",
       "      <th>Year</th>\n",
       "      <th></th>\n",
       "      <th></th>\n",
       "      <th></th>\n",
       "      <th></th>\n",
       "      <th></th>\n",
       "      <th></th>\n",
       "      <th></th>\n",
       "      <th></th>\n",
       "      <th></th>\n",
       "      <th></th>\n",
       "    </tr>\n",
       "  </thead>\n",
       "  <tbody>\n",
       "    <tr>\n",
       "      <th>2011</th>\n",
       "      <td>13.0</td>\n",
       "      <td>27.776970</td>\n",
       "      <td>1.360675</td>\n",
       "      <td>0.399697</td>\n",
       "      <td>1.396727</td>\n",
       "      <td>3.065336</td>\n",
       "      <td>0.0</td>\n",
       "      <td>NaN</td>\n",
       "      <td>NaN</td>\n",
       "      <td>NaN</td>\n",
       "    </tr>\n",
       "    <tr>\n",
       "      <th>2012</th>\n",
       "      <td>13.0</td>\n",
       "      <td>32.101818</td>\n",
       "      <td>0.487879</td>\n",
       "      <td>0.217273</td>\n",
       "      <td>0.494008</td>\n",
       "      <td>1.698372</td>\n",
       "      <td>0.0</td>\n",
       "      <td>NaN</td>\n",
       "      <td>NaN</td>\n",
       "      <td>NaN</td>\n",
       "    </tr>\n",
       "    <tr>\n",
       "      <th>2013</th>\n",
       "      <td>13.0</td>\n",
       "      <td>26.530152</td>\n",
       "      <td>0.890511</td>\n",
       "      <td>0.719924</td>\n",
       "      <td>0.868788</td>\n",
       "      <td>1.568845</td>\n",
       "      <td>0.0</td>\n",
       "      <td>NaN</td>\n",
       "      <td>NaN</td>\n",
       "      <td>0.0</td>\n",
       "    </tr>\n",
       "    <tr>\n",
       "      <th>2014</th>\n",
       "      <td>13.0</td>\n",
       "      <td>35.708106</td>\n",
       "      <td>1.294545</td>\n",
       "      <td>0.937197</td>\n",
       "      <td>1.296572</td>\n",
       "      <td>4.125663</td>\n",
       "      <td>0.0</td>\n",
       "      <td>0.0</td>\n",
       "      <td>0.0</td>\n",
       "      <td>0.0</td>\n",
       "    </tr>\n",
       "    <tr>\n",
       "      <th>2015</th>\n",
       "      <td>13.0</td>\n",
       "      <td>55.402045</td>\n",
       "      <td>1.195379</td>\n",
       "      <td>0.648106</td>\n",
       "      <td>1.282045</td>\n",
       "      <td>3.784242</td>\n",
       "      <td>0.0</td>\n",
       "      <td>0.0</td>\n",
       "      <td>0.0</td>\n",
       "      <td>0.0</td>\n",
       "    </tr>\n",
       "    <tr>\n",
       "      <th>2016</th>\n",
       "      <td>13.0</td>\n",
       "      <td>40.831515</td>\n",
       "      <td>0.843636</td>\n",
       "      <td>0.222424</td>\n",
       "      <td>1.293333</td>\n",
       "      <td>0.727879</td>\n",
       "      <td>0.0</td>\n",
       "      <td>0.0</td>\n",
       "      <td>0.0</td>\n",
       "      <td>0.0</td>\n",
       "    </tr>\n",
       "    <tr>\n",
       "      <th>2017</th>\n",
       "      <td>13.0</td>\n",
       "      <td>53.783864</td>\n",
       "      <td>1.929091</td>\n",
       "      <td>0.289697</td>\n",
       "      <td>1.970000</td>\n",
       "      <td>3.093636</td>\n",
       "      <td>0.0</td>\n",
       "      <td>0.0</td>\n",
       "      <td>0.0</td>\n",
       "      <td>0.0</td>\n",
       "    </tr>\n",
       "    <tr>\n",
       "      <th>2018</th>\n",
       "      <td>13.0</td>\n",
       "      <td>38.355379</td>\n",
       "      <td>0.889318</td>\n",
       "      <td>0.209091</td>\n",
       "      <td>0.716970</td>\n",
       "      <td>1.702652</td>\n",
       "      <td>0.0</td>\n",
       "      <td>0.0</td>\n",
       "      <td>0.0</td>\n",
       "      <td>0.0</td>\n",
       "    </tr>\n",
       "    <tr>\n",
       "      <th>2019</th>\n",
       "      <td>13.0</td>\n",
       "      <td>0.491806</td>\n",
       "      <td>2.121515</td>\n",
       "      <td>1.931136</td>\n",
       "      <td>31.066970</td>\n",
       "      <td>35.191515</td>\n",
       "      <td>0.0</td>\n",
       "      <td>0.0</td>\n",
       "      <td>0.0</td>\n",
       "      <td>0.0</td>\n",
       "    </tr>\n",
       "    <tr>\n",
       "      <th>2020</th>\n",
       "      <td>13.0</td>\n",
       "      <td>0.706061</td>\n",
       "      <td>8.331742</td>\n",
       "      <td>7.256591</td>\n",
       "      <td>7.288182</td>\n",
       "      <td>3.562652</td>\n",
       "      <td>0.0</td>\n",
       "      <td>0.0</td>\n",
       "      <td>0.0</td>\n",
       "      <td>0.0</td>\n",
       "    </tr>\n",
       "    <tr>\n",
       "      <th>2021</th>\n",
       "      <td>13.0</td>\n",
       "      <td>0.277273</td>\n",
       "      <td>7.815379</td>\n",
       "      <td>6.171515</td>\n",
       "      <td>7.899015</td>\n",
       "      <td>7.301515</td>\n",
       "      <td>0.0</td>\n",
       "      <td>NaN</td>\n",
       "      <td>NaN</td>\n",
       "      <td>NaN</td>\n",
       "    </tr>\n",
       "  </tbody>\n",
       "</table>\n",
       "</div>"
      ],
      "text/plain": [
       "      Month  Skimmed  & semi-  Total milk sold for human  Whole milk sales  \\\n",
       "Year                                                                         \n",
       "2011   13.0         27.776970                   1.360675          0.399697   \n",
       "2012   13.0         32.101818                   0.487879          0.217273   \n",
       "2013   13.0         26.530152                   0.890511          0.719924   \n",
       "2014   13.0         35.708106                   1.294545          0.937197   \n",
       "2015   13.0         55.402045                   1.195379          0.648106   \n",
       "2016   13.0         40.831515                   0.843636          0.222424   \n",
       "2017   13.0         53.783864                   1.929091          0.289697   \n",
       "2018   13.0         38.355379                   0.889318          0.209091   \n",
       "2019   13.0          0.491806                   2.121515          1.931136   \n",
       "2020   13.0          0.706061                   8.331742          7.256591   \n",
       "2021   13.0          0.277273                   7.815379          6.171515   \n",
       "\n",
       "          lag-1       diff  fertiliser_pca  BEEF  DAIRY  Land Price  \n",
       "Year                                                                 \n",
       "2011   1.396727   3.065336             0.0   NaN    NaN         NaN  \n",
       "2012   0.494008   1.698372             0.0   NaN    NaN         NaN  \n",
       "2013   0.868788   1.568845             0.0   NaN    NaN         0.0  \n",
       "2014   1.296572   4.125663             0.0   0.0    0.0         0.0  \n",
       "2015   1.282045   3.784242             0.0   0.0    0.0         0.0  \n",
       "2016   1.293333   0.727879             0.0   0.0    0.0         0.0  \n",
       "2017   1.970000   3.093636             0.0   0.0    0.0         0.0  \n",
       "2018   0.716970   1.702652             0.0   0.0    0.0         0.0  \n",
       "2019  31.066970  35.191515             0.0   0.0    0.0         0.0  \n",
       "2020   7.288182   3.562652             0.0   0.0    0.0         0.0  \n",
       "2021   7.899015   7.301515             0.0   NaN    NaN         NaN  "
      ]
     },
     "execution_count": 54,
     "metadata": {},
     "output_type": "execute_result"
    }
   ],
   "source": [
    "df.groupby(\"Year\").var()"
   ]
  },
  {
   "cell_type": "code",
   "execution_count": 55,
   "id": "f8f73226",
   "metadata": {},
   "outputs": [],
   "source": [
    "df[\"Quarterly\"] = df[\"Month\"].apply(lambda x: np.ceil(x/3))"
   ]
  },
  {
   "cell_type": "code",
   "execution_count": 56,
   "id": "f5181921",
   "metadata": {},
   "outputs": [
    {
     "data": {
      "text/plain": [
       "<AxesSubplot:xlabel='Quarterly'>"
      ]
     },
     "execution_count": 56,
     "metadata": {},
     "output_type": "execute_result"
    },
    {
     "data": {
      "image/png": "[encoded data removed]",
      "text/plain": [
       "<Figure size 432x288 with 1 Axes>"
      ]
     },
     "metadata": {
      "needs_background": "light"
     },
     "output_type": "display_data"
    }
   ],
   "source": [
    "df.groupby(\"Quarterly\").mean()[[\"Whole milk sales\",\n",
    "                                \"Skimmed  & semi-\",\n",
    "                                \"Total milk sold for human\"]].plot()"
   ]
  },
  {
   "cell_type": "code",
   "execution_count": 57,
   "id": "847232ec",
   "metadata": {},
   "outputs": [
    {
     "data": {
      "text/html": [
       "<div>\n",
       "<style scoped>\n",
       "    .dataframe tbody tr th:only-of-type {\n",
       "        vertical-align: middle;\n",
       "    }\n",
       "\n",
       "    .dataframe tbody tr th {\n",
       "        vertical-align: top;\n",
       "    }\n",
       "\n",
       "    .dataframe thead th {\n",
       "        text-align: right;\n",
       "    }\n",
       "</style>\n",
       "<table border=\"1\" class=\"dataframe\">\n",
       "  <thead>\n",
       "    <tr style=\"text-align: right;\">\n",
       "      <th></th>\n",
       "      <th>Year</th>\n",
       "      <th>Month</th>\n",
       "      <th>Skimmed  &amp; semi-</th>\n",
       "      <th>Total milk sold for human</th>\n",
       "      <th>Whole milk sales</th>\n",
       "      <th>lag-1</th>\n",
       "      <th>diff</th>\n",
       "      <th>fertiliser_pca</th>\n",
       "      <th>BEEF</th>\n",
       "      <th>DAIRY</th>\n",
       "      <th>Land Price</th>\n",
       "    </tr>\n",
       "    <tr>\n",
       "      <th>Quarterly</th>\n",
       "      <th></th>\n",
       "      <th></th>\n",
       "      <th></th>\n",
       "      <th></th>\n",
       "      <th></th>\n",
       "      <th></th>\n",
       "      <th></th>\n",
       "      <th></th>\n",
       "      <th></th>\n",
       "      <th></th>\n",
       "      <th></th>\n",
       "    </tr>\n",
       "  </thead>\n",
       "  <tbody>\n",
       "    <tr>\n",
       "      <th>1.0</th>\n",
       "      <td>2016.0</td>\n",
       "      <td>2.0</td>\n",
       "      <td>11.342424</td>\n",
       "      <td>30.054545</td>\n",
       "      <td>19.266667</td>\n",
       "      <td>28.920625</td>\n",
       "      <td>1.241875</td>\n",
       "      <td>383.01846</td>\n",
       "      <td>643958.153531</td>\n",
       "      <td>-643958.153531</td>\n",
       "      <td>24953.510373</td>\n",
       "    </tr>\n",
       "    <tr>\n",
       "      <th>2.0</th>\n",
       "      <td>2016.0</td>\n",
       "      <td>5.0</td>\n",
       "      <td>20.033333</td>\n",
       "      <td>31.312121</td>\n",
       "      <td>20.060606</td>\n",
       "      <td>31.418182</td>\n",
       "      <td>-0.106061</td>\n",
       "      <td>383.01846</td>\n",
       "      <td>643958.153531</td>\n",
       "      <td>-643958.153531</td>\n",
       "      <td>24953.510373</td>\n",
       "    </tr>\n",
       "    <tr>\n",
       "      <th>3.0</th>\n",
       "      <td>2016.0</td>\n",
       "      <td>8.0</td>\n",
       "      <td>17.803030</td>\n",
       "      <td>30.648485</td>\n",
       "      <td>19.904545</td>\n",
       "      <td>31.151515</td>\n",
       "      <td>-0.503030</td>\n",
       "      <td>383.01846</td>\n",
       "      <td>643958.153531</td>\n",
       "      <td>-643958.153531</td>\n",
       "      <td>24953.510373</td>\n",
       "    </tr>\n",
       "    <tr>\n",
       "      <th>4.0</th>\n",
       "      <td>2016.0</td>\n",
       "      <td>11.0</td>\n",
       "      <td>12.604242</td>\n",
       "      <td>29.735152</td>\n",
       "      <td>19.298485</td>\n",
       "      <td>29.921212</td>\n",
       "      <td>-0.186061</td>\n",
       "      <td>383.01846</td>\n",
       "      <td>643958.153531</td>\n",
       "      <td>-643958.153531</td>\n",
       "      <td>24953.510373</td>\n",
       "    </tr>\n",
       "  </tbody>\n",
       "</table>\n",
       "</div>"
      ],
      "text/plain": [
       "             Year  Month  Skimmed  & semi-  Total milk sold for human  \\\n",
       "Quarterly                                                               \n",
       "1.0        2016.0    2.0         11.342424                  30.054545   \n",
       "2.0        2016.0    5.0         20.033333                  31.312121   \n",
       "3.0        2016.0    8.0         17.803030                  30.648485   \n",
       "4.0        2016.0   11.0         12.604242                  29.735152   \n",
       "\n",
       "           Whole milk sales      lag-1      diff  fertiliser_pca  \\\n",
       "Quarterly                                                          \n",
       "1.0               19.266667  28.920625  1.241875       383.01846   \n",
       "2.0               20.060606  31.418182 -0.106061       383.01846   \n",
       "3.0               19.904545  31.151515 -0.503030       383.01846   \n",
       "4.0               19.298485  29.921212 -0.186061       383.01846   \n",
       "\n",
       "                    BEEF          DAIRY    Land Price  \n",
       "Quarterly                                              \n",
       "1.0        643958.153531 -643958.153531  24953.510373  \n",
       "2.0        643958.153531 -643958.153531  24953.510373  \n",
       "3.0        643958.153531 -643958.153531  24953.510373  \n",
       "4.0        643958.153531 -643958.153531  24953.510373  "
      ]
     },
     "execution_count": 57,
     "metadata": {},
     "output_type": "execute_result"
    }
   ],
   "source": [
    "df.groupby(\"Quarterly\").mean()"
   ]
  },
  {
   "cell_type": "code",
   "execution_count": 58,
   "id": "926679c1",
   "metadata": {},
   "outputs": [
    {
     "data": {
      "text/plain": [
       "<AxesSubplot:xlabel='Year,Quarterly'>"
      ]
     },
     "execution_count": 58,
     "metadata": {},
     "output_type": "execute_result"
    },
    {
     "data": {
      "image/png": "[encoded data removed]",
      "text/plain": [
       "<Figure size 432x288 with 1 Axes>"
      ]
     },
     "metadata": {
      "needs_background": "light"
     },
     "output_type": "display_data"
    }
   ],
   "source": [
    "df.groupby([\"Year\",\"Quarterly\"]).mean()[[\"Whole milk sales\",\n",
    "                                \"Skimmed  & semi-\",\n",
    "                                \"Total milk sold for human\"]].plot()"
   ]
  },
  {
   "cell_type": "code",
   "execution_count": null,
   "id": "54d3d44a",
   "metadata": {},
   "outputs": [],
   "source": []
  },
  {
   "cell_type": "code",
   "execution_count": null,
   "id": "06017e18",
   "metadata": {},
   "outputs": [],
   "source": []
  },
  {
   "cell_type": "code",
   "execution_count": null,
   "id": "5a54c8da",
   "metadata": {},
   "outputs": [],
   "source": []
  }
 ],
 "metadata": {
  "kernelspec": {
   "display_name": "Python 3 (ipykernel)",
   "language": "python",
   "name": "python3"
  },
  "language_info": {
   "codemirror_mode": {
    "name": "ipython",
    "version": 3
   },
   "file_extension": ".py",
   "mimetype": "text/x-python",
   "name": "python",
   "nbconvert_exporter": "python",
   "pygments_lexer": "ipython3",
   "version": "3.9.7"
  }
 },
 "nbformat": 4,
 "nbformat_minor": 5
}
