{
 "cells": [
  {
   "cell_type": "code",
   "execution_count": 1,
   "id": "6e5fd869",
   "metadata": {},
   "outputs": [
    {
     "name": "stderr",
     "output_type": "stream",
     "text": [
      "[nltk_data] Downloading package stopwords to\n",
      "[nltk_data]     C:\\Users\\SILVA\\AppData\\Roaming\\nltk_data...\n",
      "[nltk_data]   Package stopwords is already up-to-date!\n"
     ]
    },
    {
     "ename": "ModuleNotFoundError",
     "evalue": "No module named 'tensorflow'",
     "output_type": "error",
     "traceback": [
      "\u001b[1;31m---------------------------------------------------------------------------\u001b[0m",
      "\u001b[1;31mModuleNotFoundError\u001b[0m                       Traceback (most recent call last)",
      "\u001b[1;32m~\\AppData\\Local\\Temp/ipykernel_12604/3100562312.py\u001b[0m in \u001b[0;36m<module>\u001b[1;34m\u001b[0m\n\u001b[0;32m     20\u001b[0m \u001b[1;32mfrom\u001b[0m \u001b[0msklearn\u001b[0m\u001b[1;33m.\u001b[0m\u001b[0mfeature_extraction\u001b[0m\u001b[1;33m.\u001b[0m\u001b[0mtext\u001b[0m \u001b[1;32mimport\u001b[0m \u001b[0mTfidfTransformer\u001b[0m\u001b[1;33m\u001b[0m\u001b[1;33m\u001b[0m\u001b[0m\n\u001b[0;32m     21\u001b[0m \u001b[1;33m\u001b[0m\u001b[0m\n\u001b[1;32m---> 22\u001b[1;33m \u001b[1;32mimport\u001b[0m \u001b[0mtensorflow\u001b[0m \u001b[1;32mas\u001b[0m \u001b[0mtf\u001b[0m\u001b[1;33m\u001b[0m\u001b[1;33m\u001b[0m\u001b[0m\n\u001b[0m\u001b[0;32m     23\u001b[0m \u001b[1;32mfrom\u001b[0m \u001b[0mtensorflow\u001b[0m\u001b[1;33m.\u001b[0m\u001b[0mkeras\u001b[0m\u001b[1;33m.\u001b[0m\u001b[0mmodels\u001b[0m \u001b[1;32mimport\u001b[0m \u001b[0mSequential\u001b[0m\u001b[1;33m\u001b[0m\u001b[1;33m\u001b[0m\u001b[0m\n\u001b[0;32m     24\u001b[0m \u001b[1;32mfrom\u001b[0m \u001b[0mtensorflow\u001b[0m\u001b[1;33m.\u001b[0m\u001b[0mkeras\u001b[0m\u001b[1;33m.\u001b[0m\u001b[0mlayers\u001b[0m \u001b[1;32mimport\u001b[0m \u001b[0mDense\u001b[0m\u001b[1;33m,\u001b[0m \u001b[0mActivation\u001b[0m\u001b[1;33m,\u001b[0m \u001b[0mDropout\u001b[0m\u001b[1;33m\u001b[0m\u001b[1;33m\u001b[0m\u001b[0m\n",
      "\u001b[1;31mModuleNotFoundError\u001b[0m: No module named 'tensorflow'"
     ]
    }
   ],
   "source": [
    "import pandas as pd\n",
    "import numpy as np\n",
    "import seaborn as sns\n",
    "\n",
    "import tweepy \n",
    "import re\n",
    "import string\n",
    "from string import punctuation\n",
    "import nltk\n",
    "from nltk.corpus import stopwords\n",
    "nltk.download('stopwords')\n",
    "\n",
    "\n",
    "import matplotlib.pyplot as plt\n",
    "from sklearn.model_selection import train_test_split\n",
    "\n",
    "from sklearn.metrics import accuracy_score\n",
    "\n",
    "from sklearn.feature_extraction.text import CountVectorizer\n",
    "from sklearn.feature_extraction.text import TfidfTransformer\n",
    "\n",
    "import tensorflow as tf\n",
    "from tensorflow.keras.models import Sequential\n",
    "from tensorflow.keras.layers import Dense, Activation, Dropout\n",
    "from tensorflow.keras.callbacks import EarlyStopping\n",
    "\n",
    "nltk.download('vader_lexicon')\n",
    "from nltk.sentiment.vader import SentimentIntensityAnalyzer"
   ]
  },
  {
   "cell_type": "code",
   "execution_count": 2,
   "id": "fcba5c0c",
   "metadata": {},
   "outputs": [],
   "source": [
    "api_key = \"dzPfHbw07mHlxqWrbFXPnJ83R\"\n",
    "api_secret = \"8lAhud69E2748mdv8eKpsRf2lwDWlBVDk8YMxjxrGLRCfhppTj\"\n",
    "bearer_token = \"AAAAAAAAAAAAAAAAAAAAAEHZbwEAAAAAAWZ%2FmsJH42PgVE44JaUqw8spT6M%3DDczwilpVRZtjfpRPK6l6TSjTB6l9EXAsVqVafUCabWoNLNDeh9\"\n",
    "acess_token = \"2534496417-9rOsCGmGMi9R9kfzifhqJrzP0YxX4ejBgTu3tnf\"\n",
    "acess_secret = \"ccLadXKnmQme8WuUIPsP3X7CUn9WvPFk56uCHWHDq6H76\""
   ]
  },
  {
   "cell_type": "code",
   "execution_count": 3,
   "id": "32092fff",
   "metadata": {},
   "outputs": [],
   "source": [
    "client = tweepy.Client(bearer_token=bearer_token)"
   ]
  },
  {
   "cell_type": "code",
   "execution_count": 4,
   "id": "8659ce93",
   "metadata": {},
   "outputs": [],
   "source": [
    "query = '''ireland milk -is:retweet lang:en'''\n",
    "tweets = client.search_recent_tweets(query=query,\n",
    "                                     tweet_fields = [\"geo\", \"text\", \"source\", \"context_annotations\"],\n",
    "                                     user_fields = [\"location\"],\n",
    "                                     max_results = 100,\n",
    "                                     )"
   ]
  },
  {
   "cell_type": "code",
   "execution_count": 5,
   "id": "76c50f11",
   "metadata": {},
   "outputs": [
    {
     "data": {
      "text/plain": [
       "Response(data=[<Tweet id=1526998660927594496 text=\"@Ride4Truth Over here in Ireland apparently the inflation rate is 8%. Can't say that I have seen it as such except in fuel prices. Did a big shop at aldi and the only thing increased in price that I could see was 3 litres of milk went up 30c. All other stuff prices held. For now.\">, <Tweet id=1526993738199089152 text='Milk Fat Fractions Market Worth Over $14 Billion by 2024. \\n\\nKey Players:\\nUelzena Ingredients, Royal VIVBuisman, Glanbia Ireland Ingredients, FLECHARD SAS, Fonterra \\n\\nRead More @ https://t.co/Bnk1zYp60F \\n\\n#milkfatfractions #milkfatfractionsmarket #milkfatfractionsindustry'>, <Tweet id=1526962883766231040 text=\"'The land of milk and honey promised by #BREXIT has not materialised... Northern Ireland was a far away place in the mind of the Brexiteers'. .. The #NIProtocol  is a process, not an event.' https://t.co/8Caj8MZvuQ\">, <Tweet id=1526929612768432134 text='@melatonin_milk Yeah they are. Exactly. It’s projection. It is true. They are flooding countries with mass immigration. Ireland is to take 200,000 Ukrainians. Meeker did it in 2015 after the US elites created havoc in Syria. They create wars, chaos, death, displace people from their land'>, <Tweet id=1526900897946685440 text='@capedjoosader @DarranMarshall @annaturley @alexhallhall Try looking into how milk etc is produced in Ireland genius 🤓🙄'>, <Tweet id=1526889598995075072 text='@capedjoosader @DarranMarshall @annaturley @alexhallhall Because many farmers in Northern Ireland sell there produce to large food processors across the border. Milk is a classic example of a product that crossed the border multiple times in its lifecycle.'>, <Tweet id=1526889450319527942 text='@lapsedmethodist Read the thread. All NI milk currently goes to the republic for processing then sent back,\\nEasy to remedy. Build a dairy in Northern Ireland more jobs less for the republic'>, <Tweet id=1526882787697074179 text='Not all of them are farms. A cow grazes a meadow in Northern Ireland but is milked in the Republic. Is the milk British or Irish?'>, <Tweet id=1526877186048856065 text='At present all milk produced in Northern Ireland goes to the republic to be processed then sent back.\\nWhy? Because there isn’t a processing plant.\\nThis is very easy to solve, you build one.\\nIt’s not complicated &amp; solves the border issue instantly &amp; created jobs for NI https://t.co/NVera1ZMKF'>, <Tweet id=1526872997314891776 text='@BillNew11845761 @DarranMarshall @annaturley @alexhallhall Well let’s see.\\nNorthern Irish milk could be processed in Northern Ireland.\\nIt’s not complicated to build a dairy'>, <Tweet id=1526861009427877888 text=\"@andrewhunterm Today I found out there is an official ISO standard for making tea: https://t.co/TpCroLgcOq, so we know it's first milk, then tea in the cup. Also, there is an official complaint from Ireland about the standard. Sadly, could not find an ISO coffee standard...\">, <Tweet id=1526834979711467523 text='We are delighted to welcome\\nPaolo Nutini\\nLive at the Milk Market #Limerick\\nSunday August 21st., 2022\\n\\nTickets on sale 9am Wednesday May 25th from Ticketmaster\\n\\n#dolanslimerick #Ireland @mcd_productions @milk_market @limerickcitybiz @TicketmasterIre \\nhttps://t.co/65gwUPI31W https://t.co/cGCzyUQ9jj'>, <Tweet id=1526832858240647174 text='Excited to reveal that Rebecca Lenkiewicz’s (IDA, DISOBEDIENCE)  directorial debut HOT MILK, the adaptation of Deborah Levy’s amazing novel will be coming home to @mubi in the UK, Ireland, Italy, LATAM and Turkey. \\n\\nhttps://t.co/eUtRsY9GOv https://t.co/Qrzn8mTXJs'>, <Tweet id=1526682175499915266 text=\"@GermanyDiplo @EU_Commission Business in Ireland is good.  We take the milk and processed it. It's a concept is the problem.  That the truth of an integrated economy means the union is damaged.  But the Unionist home is Scotland and they too want to go\">, <Tweet id=1526658023975944198 text='@DavidGHFrost @trussliz @FCdO I am sure the dairy farmers in the north east of Ireland are going to be delighted they won’t be selling their milk to the rest of Ireland any more.'>, <Tweet id=1526653656443105283 text='Balor of the evil eye stole a cow from Goibnui the smith\\nGive it back said Goibniu and give it back forthwith\\nThe cow was his prize possession and its skin was soft as silk\\nIt could feed the whole of Ireland and not run out of milk'>, <Tweet id=1526643735370600448 text=\"@SarahFourL @PrayForPatrick Growing up in rural Ireland these are the first Irish words they teach you. I forget 99.9% of the Irish I learned but I'll always remember random shit like muc is pig, bainne is milk &amp; luch is mouse.\">, <Tweet id=1526630168344797184 text='Reading that Ireland wants to bring out potato milk has gotta be the most Irish thing ever.'>, <Tweet id=1526624001472221186 text=\"@PaulineOHara12 @Luca31404488 The 8 square plain Dairy Milk (made in Dublin/Ireland) still tastes like the old recipe.  It hasn't been contaminated with palm oil - Yet.  I had one on Sunday and its still yum 😍\">, <Tweet id=1526605702852116480 text=\"Wouldn't this be amazing in Ireland, the UK,everywhere, where the default mothers own milk substitute is donor milk 🥰 https://t.co/uXydz5ak3L\">, <Tweet id=1526571713986809856 text=\"@RuairiTraderIRL @Goatofmcginty @ClaireByrneLive the do gooders don't want to deal with facts, prefer feeding into their delusions that ireland is a land of milk and honey\">, <Tweet id=1526563430307610624 text='@JP46251093 @lisaocarroll Tell us about animal feed used on NI farms which send 40% of their milk to Ireland and then as milk derivatives and cheese to Europe. Tell us about disease-carrying animals and plants. Tell us about American pig and chicken products.'>, <Tweet id=1526553538725298177 text='@lidl_ireland 20c increase in 2ltrs of whole milk since Friday, I hope the farmer and getting the increase in the price https://t.co/pAXBizvhKW'>, <Tweet id=1526552982937931776 text='@sadeyedsquaw America is now importing cows milk from Ireland for babies'>, <Tweet id=1526514938956722180 text=\"@CiaranDold Don't tell me Ireland also has milk bags\">, <Tweet id=1526472802265595905 text=\"Hints:\\n\\n- Milk doesn't come in those kinda containers in Ireland \\n- Those brands aren't available in Ireland \\n- Kwikspar is only available in SA (Ireland has Eurospar)\\n- District Six is not how Ireland refers to any kind of geographical subdivision\">, <Tweet id=1526462428254507011 text='The dairy sector’s growth had nothing to do with feeding Ireland and everything to do with profitability and exports including of powdered milk which directly impacts mother and child health and poverty. Stop spinning. https://t.co/nN49CSxGdB'>, <Tweet id=1526376181729222656 text=\"@Cernovich FDA once banned European baby milk.🤣\\nThat included vastly superior milk from Ireland, whose cows are grassfed foragers and one step from certified organic as standard.\\nI once consumed American 'milk' and 'butter'🤢\\n\\nWhy do American consumers tolerate contaminated toxic produce?\">, <Tweet id=1526336178097618945 text='Ireland leaving the EU would be ‘Irresistible for many reasons’ (just after they see how well Brexit goes for the UK) they will look at NI as the ‘land of milk and honey’ 🥛 🍯 you couldn’t write this stuff https://t.co/F6LYYuIBc6'>, <Tweet id=1526321115706150913 text=\"@nevillebagnall @TeagueRoger @DerrickBerthel1 @MPIainDS @KellerZoe @Kilsally Why?  If Ireland doesn't buy NI milk which will clearly comply with EU standards just like all exports to EU where does Ireland buy it from?\\n\\nAre you trying to be disingenuous or tick?\">, <Tweet id=1526319311043842055 text='@DerrickBerthel1 @nevillebagnall @TeagueRoger @MPIainDS @KellerZoe @Kilsally Look Irish farmers depend on NI milk !\\n\\nIf Ireland wants to FcUK up Irish butter &amp; cheese manufacture go ahead !!! But currently NI milk not checked at any border !!!\\n\\nHow does excise checking work pre &amp; post Brexit ?'>, <Tweet id=1526283399144648709 text='@HunterR82481525 @DiamondandSilk It’s worse than that, he’s bought up shares in synthetic breast milk and in Ireland babies have hepatitis.'>, <Tweet id=1526268704803241985 text='@pegobry Ireland 🇮🇪 is the biggest producer of baby formula produced from milk on Family Owned Dairy Farms'>, <Tweet id=1526263543594721283 text='@BremainInSpain N Ireland is the latest milk float for Johnson to hide in as he delays releasing the Sue Grey report. It is testament to his own shallowness that he somehow imagines that as he delays it people will forget that while he partied in Downing Streets their hearts were breaking.'>, <Tweet id=1526243354652073986 text='@B_E_Andre @SkiptomyLoulou I literally did that once when cycling in Ireland, hoping to find the 3p we were short for a bottle of milk for our tea in the morning. \\n\\nReader I found it (took about an hour and we covered almost every street in the small town we were in).'>, <Tweet id=1526218025531232257 text='@castlvillageman @ABridgen Republic of Ireland looking north to a land of milk and honey that has free trade deals ... Leaving the EU will be irresistible. 🤣'>, <Tweet id=1526212809352257536 text='@NevilleSouthall MILK IT DA FUCK LOVE FROM NORTHERN IRELAND'>, <Tweet id=1526200563477643272 text='@pegobry I just had a look at a random product here (ireland), the only difference,whey is 1st\\n\\nIngredients\\nWhey Protein (Milk), Vegetable Oils (Sunflower, Rapeseed), Lactose (Milk), Skimmed Milk, Long Chain Polyunsaturated Fatty Acids (DHA (Fish Oil), AA .(Mortierella Alpina Oil)),......'>, <Tweet id=1526126002774151168 text=\"@marlowsean @castlvillageman It is.\\nBut powdered milk from the USA imported to England, then ferried to NI and on into Ireland would not ensure it met EU standards. ( I won't use it in England because of US additives).\">, <Tweet id=1526094316665552896 text='@GNev2 Gary you don’t live in Northern Ireland and probably the last time you were here was playing in the milk cup as a schoolboy, so please don’t comment on something you know absolutely nothing about.'>, <Tweet id=1526050437299728386 text='@AngloScot2 @KnoxTony @hilarybennmp The UK wants to lower standards and do trade deals around the world. Obviously someone could import cheap low quality milk powder, smuggle it into Ireland, and export it as \"Irish\".\\n\\nIf you think this is silly, you don\\'t understand the world.'>, <Tweet id=1526043669689688065 text='@SharylAttkisson My cheese and butter are from Ireland, my coconut milk is from Thailand, my frozen berries are from South America and so is my amaranth and quinoa. My avocados and tomatoes are from Mexico. I do buy meat from a farmer near here.'>, <Tweet id=1526038953576452096 text=\"Yes, unless your English. Its irrelevant in Scotland and Ireland. Don't know about Wales as I haven't been there in over 55 years as they gave me tinned milk in my cornflakes FFS! I was damaged for life ever since..😂🤣😂 https://t.co/xOO1XonToi\">, <Tweet id=1526016108062552065 text='@TicklesMubbut @blueeyesgreene a milk jug and Ireland and some spread sheets'>, <Tweet id=1525969676911759360 text='@CitznOfNowhere @neilclan @OxfordDiplomat A border again in Ireland would destroy NI farming.  Most of their milk is processed in the republic. Most of their Easter lamb processed in the republic.  Destroying farming Incomes to mind a small political party.   Don’t see the sense'>, <Tweet id=1525937605820436482 text=\"@KnoxTony @hilarybennmp Why would people smuggle milk into Ireland to export it to China?\\n\\nThat must be the dumbest criminal business model I've ever heard of.\">, <Tweet id=1525932852549918720 text='@donalhassett1 Living away from Ireland, the things I have missed the most are good mashed potatoes, soda bread, potato bread, Golden crisp Dairy Milk, prawn cocktail Tayto crisps and of course Kerrygold butter!'>, <Tweet id=1525927404975292419 text=\"@hilarybennmp Please try to think into the mind of a smuggler who wants to pass off GB milk powder (GB's notoriously lax standards being the origin of BSE &amp; CJD) into the massively important Irish milk trade.\\n(Ireland supplies a huge amount of guaranteed safe formula milk to China.)\">, <Tweet id=1525885882745638912 text=\"@Purdyoaten1 @portabletato @damian_mcgenity @MichealMartinTD @LeoVaradkar @simoncoveney @ThomasByrneTD @nealerichmond @MaryLouMcDonald @moneillsf @columeastwood @naomi_long @MarosSefcovic Yep, if Truss's proposal were to be accepted, NI produced milk would be removed from sale in Ireland. It could not be processed in batches with Irish milk as it would risk contamination. Else UK aligns with EU rules on animal welfare and milk production, but that's been ruled out\">, <Tweet id=1525883533281087489 text='A milk or milk powder shortage is hard to imagine here in Ireland - lots of rain/grass/cows - but America has managed it, managing through complexity to create and maintain completely unnecessary scarcity.https://t.co/0fAjNlDF5W'>, <Tweet id=1525864946441101314 text='@BarkingMaad @TRyanGregory Many of the infants and babies w hepatitis issues are exposed to the breast milk of jabbed mothers according to a report out of Ireland.'>, <Tweet id=1525862023501910019 text='@garyvee Scrambled with some milk added. It makes the eggs creamier. One of my coworkers/friends from Ireland taught me that years ago 👍'>, <Tweet id=1525845794754117632 text='@Thewiseonewon @btc_ireland Congrats. You just made milk.'>, <Tweet id=1525820239287848960 text='@castlvillageman 100% Green Milk... 😉\\n\\n One United\\n Republic of\\n    Ireland\\n   🇮🇪☘️🇪🇺'>, <Tweet id=1525779342814498817 text=\"Without the protocol and checks at NI ports (SPS). Such activities cannot be stopped/perceived.\\nTherefore, Ireland has no choice. End processing NI milk/milk products.\\n38% of NI dairy  in instant trouble. Raw milk doesn't travel well. Ni has not the scale to process.\\n3/3\">, <Tweet id=1525779337408040960 text='More about the NI protocol.\\n38% of milk produced in N.I. is collected by Irish tankers and processed in Ireland, mixed with Irish milk in various products from cheeses to creams to infant formula. High value added process compared to raw milk.\\n1/3'>, <Tweet id=1525776958830813189 text='@bobrmitchell @johnredwood When we agreed to leave the EU we agreed to border between The main land!!! And Northern. Ireland so that the south and north could be without borders that means all goods traveling in both directions between the whole of Ireland  and the main land Boris signed it🤔spilt milk !!'>, <Tweet id=1525675759175540738 text=\"Howdly doodly, I'm Sailor Meowwun. I come from Ireland. Did you know that oranges are orange? Ridiculous, right? Take care of me, or I'll leave you only a drop of milk in the carton. I want you to adopt me!\">, <Tweet id=1525657643955650561 text='Studying my family history.\\n\\nOur last name used to be spelled Minihane. Dropped the “e” when we came to US.\\n\\nFamily historian told me: Minihane boys used to walk into a pub and order milk just to see if anyone would give them grief. Then the fight was on!\\n#Ireland'>, <Tweet id=1525572652307456000 text='@ghost__milk Ireland....you disappoint me'>, <Tweet id=1525548158754902018 text=\"@ArcticChimpanze You can pop out for milk, messages, activities easier living in 'housing estate', remember that too!\\nIsn't ribbon development of houses side by side in rural Ireland not a housing estate as well..\">, <Tweet id=1525527470811795457 text='I see people justifying the NI Protocol because \"the only milk processing plant is in the Irish Republic\". So is this technology so sophisticated and expensive that we couldn\\'t build one in Northern Ireland?'>, <Tweet id=1525496586117292033 text=\"@ClovexIe @FergalBowers @rtenews The least virulent variant. Kids vaccines rolled out Dec 29th 21 in Ireland. As for the children under 5 they haven't been vacc1nated but I'm sure their mothers have, as they haven't stated the ages these could be kids infected via the womb or via breast milk.\">, <Tweet id=1525488614624399367 text='@RNlovesMAGA @LadyDi53086 @kacrn91 Our Abbott rep said they are getting formula from Ireland. We supplement with donor milk and so far we have plenty of that. We’ve had a shortage for two years. Now it’s really bad.'>, <Tweet id=1525446148655390721 text='Epoch Vanilla Whey Isolate is new at Parks.  Grass Fed, derived from the milk of Ireland dairy cows.  Manufactured in Canada with clean, simple ingredients.  Mixes well and tastes great.  💚 https://t.co/fn4yu2Tq6t'>, <Tweet id=1525421777467363328 text='@collumbo We produce about 12% of the world’s infant formula supply here in Ireland:\\n\\nhttps://t.co/nSmEqfmz86'>, <Tweet id=1525416389133189122 text=\"The conditions attached to Ireland's Nitrates Derogation are “unworkable”, the deputy president of the Irish Creamery Milk Suppliers Association Denis Drennan has warned. #icmsa #Ireland #agriculture #agribusiness \\nhttps://t.co/UNJzdBeFks\">, <Tweet id=1525410502096343046 text=\"@MJSeaman6 @theAliceRoberts No, it isn't fair, this was discussed, agreed and signed already.\\nEU is entirely within its rights to  check everything entering  Eurozone, since there is no border in island or Ireland checks were agreed.\\nBrexitists just want to milk the situation as long as possible.\">, <Tweet id=1525386667158380546 text=\"Working from home, refugees, Northern Ireland, cost of living, the American baby milk crisis. Everything is a bloody culture war now isn't it? No attempt to solve problems. It's all about scoring points now.\">, <Tweet id=1525383040695947265 text='@News_Letter They were and are only to willing to be classed as Irish beef and dairy when Ireland was disease free and Brit agri products were banned around the world most of the ni milk produced is processed in the south then sold on from their into the eu or returned for home and uk market'>, <Tweet id=1525345186150338560 text='Nutrition group Abbott is flying supplies of infant milk formula from Ireland to the United States daily to help mitigate a supply crunch that has seen stores rationing purchases for parents. https://t.co/zCJuyE2LBp'>, <Tweet id=1525239529728270336 text='@dermotryanie @MiaBeetle @cathyby Yes but you surely realise there is still an entire generation that buy a pint of milk. Whether or not the milk has the extra 68ml. I think you are being a bit pedantic about its meaning and many shops do sell imperial measurements on the island of Ireland.'>, <Tweet id=1525238478652440576 text='Ireland. The Land Of Milk And Honey. #Ireland https://t.co/HzzQPhIt8b'>, <Tweet id=1525238012640215041 text='Ireland, The Land Of Milk And Honey, For Some. https://t.co/2iN28thXxz'>, <Tweet id=1525237487140052992 text='@CahnEmily @ThatShockratees millions of cans of infant formula powder is being shipped into the United States from Abbott’s Ireland facility.. https://t.co/yPLCcfPlKk'>, <Tweet id=1525220546891366401 text='Ireland, The Land Of Milk And Honey. https://t.co/xJX6N8Kkhs'>, <Tweet id=1525217432943607808 text=\"@anothercohen Depends where you live Alex. All dairy in the US is pure shite. Try Irish milk (Note: you'd have to be in Ireland because its only fresh for a few days, not like your milk which survivors of a zombie apocalypse can find 5 years later and it's as good as it was on day one)\">, <Tweet id=1525212486785540096 text='Bay Area mom offers to donate her #breast milk, be a wet nurse amid baby formula shortage.\\n#Ireland has a very good milk doner system distributed by #BloodBikes\\n https://t.co/pXnrVaUpQo'>, <Tweet id=1525207907515654146 text='Govt.asks public do not use animal Cow  milk or soy milk to feed infants here in America! Ireland infants milk is being sold to women in our country!'>, <Tweet id=1525206031005007873 text='@HocGfa @ConorBurnsUK I heard what Biden said on baby formula shortage. A lot of NI milk is processed in the South and turned into baby formula. A hard border would threaten that. Ireland is major global exporter of baby formula including to China. Protocol could help US with the baby formula issue'>, <Tweet id=1525196425885278208 text='Green Party Senator Pauline O’Reilly said that the production and promotion of milk formula in Ireland is “big business” making money out of vulnerable mothers.\\nhttps://t.co/EyAHUOicYF'>, <Tweet id=1525192202716069891 text='@DavidHenigUK David would u accept a border between ur house &amp; ur local shop? Like a passport border check to get milk? Because that’s what we are facing here in Ireland if the British government break the protocol agreement! @simoncoveney has been trying to explain this but no is listening!'>, <Tweet id=1525190656305643521 text='@faisalislam Faisal would u accept a border between ur house &amp; ur local shop? Like a passport border check to get milk? Because that’s what we are facing here in Ireland if the British government break the protocol agreement! @simoncoveney has been trying to explain this but no is listening!'>, <Tweet id=1525189132313583625 text='This week, we talk beef prices taking another lift, another boom in milk prices and completing the most important job of the year. \\n \\nWatch in full here: https://t.co/ln7pR1zmWC \\n\\nIn association with @bankofireland, @AXA_Ireland, @Grasslandagro and @dairymaster #FarmTechTalk https://t.co/QWSmwRXfFx'>, <Tweet id=1525180173104054273 text='Suella Braverman said on BBC QT that we need to tear up the NI protocol to stop businesses from moving to Northern Ireland.\\n\\nIf ever there was an admission of the single market being the land of milk and honey - that was it'>, <Tweet id=1525154431414812672 text='@octal Good point. As a partial fix, I read in a book how in Ireland in the 1930s, mothers supplemented breast milk with (cow) milk from market, dipped a clean rag in it and let baby suck on rag. Pre-baby-formula days. Why is this not obvious today?'>, <Tweet id=1525152394937507840 text='Now open: \"Milk and Honey, \" a collection by Home Alone Together artist @JannaIreland\\'s is at the Tyler Wood Gallery. Ireland’s work interrogates themes of domesticity, Black identity, and motherhood.\\n\\nhttps://t.co/7qhessyWMT'>, <Tweet id=1525146656290885632 text='@WFKARS Can anyone explain to me how come there is a shortage of formula milk in the US? We here in Ireland and elsewhere in Europe have no such concern.'>, <Tweet id=1525137682870833152 text='Holy hibiscus honey bunnies Drew Carey George Gray Similac? Kitty milk? Importing from Ireland? The same company that did all the corona testing lol Abbott industries Batman it must be just a coincidence lol@#The price is right.@ Tina is coming with the goodies today🍼🏩❤️🐕🦇💋 https://t.co/9ceuGb5uB9'>, <Tweet id=1525119511405412352 text='@LynnHow90745645 @WendyThePooh63 @cioccolanti @cosumbi Byheart I think looks pretty good.  Similac also has one from Ireland that’s grassfed milk and less crappy ingredients.  There are a lot of organic ones sold at Whole Foods I wouldn’t touch.  Way too many seed oils.'>, <Tweet id=1525109865290530818 text='Given the interest in establishing clover on farms to reduce chemical nitrogen (N) use and increase milk yield, April saw the roll out of Clover Farm Walks across Ireland to support farmers incorporating clover into existing grass swards. Find out more https://t.co/WBh5ukvjPX https://t.co/l5p5gbZaUV'>, <Tweet id=1525098212641722368 text='@JustSayinNI @JenniferJAF Some farmers in Ireland deliver their milk to a NI diary too.\\nSome NI diaries in turn sell much of their consumer products to customers in Ireland.'>, <Tweet id=1525056680613949440 text=\"Hoi! I'm Sailor Meowwun. I come from Ireland. Did you know that this life is an illusion? Witty, amirite? Take care of me, or I'll leave you only a drop of milk in the carton. I love you!\">, <Tweet id=1525036538631012359 text='@Irish89430581 @tconnellyRTE @MarosSefcovic @OlafScholz @GermanEmbassy @GermanAmbUK @USAmbUK @RepBrendanBoyle @Peston UK gets food from everywhere now but how does Ireland get milk if not NORTHERN Ireland for Irish butter &amp; cheese please?\\n\\n#FTZforNorthernIreland \\n\\n#NIprotocolMustGo or #NoStormont = GFA 🌋'>, <Tweet id=1525021318948716544 text='Agri update: Milk supply down 3.3% - Milk supply fell while grain prices continue to surge, writes Bank of Ireland head of Agriculture Sector Eoin Lowry #agriculture #milk #grain #beef #business #agribusiness .@bankofireland https://t.co/tyGXdzSowA https://t.co/ZIA4KWQiiP'>, <Tweet id=1525020139187490816 text='Someone actually tried to bring 2 litres of milk through airport security..only in Ireland @DublinAirport'>, <Tweet id=1524987890572328961 text='yesterday on six one news in Ireland, I heard people talk about the high price of bread, milk and how they are struggling in 2022. That takes a lot of courage to be that open https://t.co/vpQvXQz5hR'>, <Tweet id=1524881943514472479 text='@john_mcguirk @jasonomahony Indeed, because there were just so many opportunities for employment in the land of milk and honey that was Ireland under British rule. *I am being sarcastic.'>, <Tweet id=1524880072318111745 text='In the Republic of Ireland, all fixed milk volumes will receive an 8c/L supplementary payment.... https://t.co/yOVT0bH3aO'>, <Tweet id=1524873481908797440 text='@roamer99 @Kilsally @JamieBrysonCPNI No need to shut the border, again take milk as an example, under EU rules milk from a 3rd country can not enter without paperwork and tariffs, NI milk would be too expensive, there would be no market for it. https://t.co/C1nQccW3S7'>], includes={}, errors=[], meta={'newest_id': '1526998660927594496', 'oldest_id': '1524873481908797440', 'result_count': 100, 'next_token': 'b26v89c19zqg8o3fpywmhhunprxl7ii8ewwxg4bm5a7b1'})"
      ]
     },
     "execution_count": 5,
     "metadata": {},
     "output_type": "execute_result"
    }
   ],
   "source": [
    "tweets"
   ]
  },
  {
   "cell_type": "code",
   "execution_count": 9,
   "id": "d935c671",
   "metadata": {},
   "outputs": [],
   "source": [
    "tweets.data[0].geo"
   ]
  },
  {
   "cell_type": "code",
   "execution_count": 10,
   "id": "a1e388fb",
   "metadata": {},
   "outputs": [
    {
     "data": {
      "text/plain": [
       "'Twitter for Android'"
      ]
     },
     "execution_count": 10,
     "metadata": {},
     "output_type": "execute_result"
    }
   ],
   "source": [
    "tweets.data[0].source"
   ]
  },
  {
   "cell_type": "code",
   "execution_count": 11,
   "id": "20907cb6",
   "metadata": {},
   "outputs": [
    {
     "data": {
      "text/plain": [
       "[{'domain': {'id': '67',\n",
       "   'name': 'Interests and Hobbies',\n",
       "   'description': 'Interests, opinions, and behaviors of individuals, groups, or cultures; like Speciality Cooking or Theme Parks'},\n",
       "  'entity': {'id': '1486458201117642754', 'name': 'Inflation'}},\n",
       " {'domain': {'id': '152',\n",
       "   'name': 'Food',\n",
       "   'description': 'Topics about food, like Donuts or Brunch'},\n",
       "  'entity': {'id': '850419241790472192',\n",
       "   'name': 'Milk',\n",
       "   'description': 'Milk'}},\n",
       " {'domain': {'id': '173',\n",
       "   'name': 'Google Product Taxonomy',\n",
       "   'description': 'A product taxonomy created by Google'},\n",
       "  'entity': {'id': '850419241790472192',\n",
       "   'name': 'Milk',\n",
       "   'description': 'Milk'}},\n",
       " {'domain': {'id': '45',\n",
       "   'name': 'Brand Vertical',\n",
       "   'description': 'Top level entities that describe a Brands industry'},\n",
       "  'entity': {'id': '781974596706635776', 'name': 'Retail'}},\n",
       " {'domain': {'id': '46',\n",
       "   'name': 'Brand Category',\n",
       "   'description': 'Categories within Brand Verticals that narrow down the scope of Brands'},\n",
       "  'entity': {'id': '781974596157251584', 'name': 'Grocery/Convenience'}},\n",
       " {'domain': {'id': '47',\n",
       "   'name': 'Brand',\n",
       "   'description': 'Brands and Companies'},\n",
       "  'entity': {'id': '10040459065', 'name': 'Aldi'}}]"
      ]
     },
     "execution_count": 11,
     "metadata": {},
     "output_type": "execute_result"
    }
   ],
   "source": [
    "tweets.data[0].context_annotations"
   ]
  },
  {
   "cell_type": "code",
   "execution_count": 12,
   "id": "484f0893",
   "metadata": {
    "scrolled": true
   },
   "outputs": [],
   "source": [
    "tweets_ireland = {}\n",
    "tweets_ireland[\"tweet\"] = []\n",
    "for tweet in tweets.data:\n",
    "    tweets_ireland[\"tweet\"].append(tweet.text)"
   ]
  },
  {
   "cell_type": "code",
   "execution_count": 13,
   "id": "b2692681",
   "metadata": {},
   "outputs": [],
   "source": [
    "df_ireland = pd.DataFrame(tweets_ireland)"
   ]
  },
  {
   "cell_type": "code",
   "execution_count": 14,
   "id": "090a420e",
   "metadata": {},
   "outputs": [],
   "source": [
    "df_ireland[\"tweet\"] = df_ireland[\"tweet\"].str.replace(\"\\n\",\"\")"
   ]
  },
  {
   "cell_type": "code",
   "execution_count": 15,
   "id": "75732c50",
   "metadata": {},
   "outputs": [
    {
     "data": {
      "text/html": [
       "<div>\n",
       "<style scoped>\n",
       "    .dataframe tbody tr th:only-of-type {\n",
       "        vertical-align: middle;\n",
       "    }\n",
       "\n",
       "    .dataframe tbody tr th {\n",
       "        vertical-align: top;\n",
       "    }\n",
       "\n",
       "    .dataframe thead th {\n",
       "        text-align: right;\n",
       "    }\n",
       "</style>\n",
       "<table border=\"1\" class=\"dataframe\">\n",
       "  <thead>\n",
       "    <tr style=\"text-align: right;\">\n",
       "      <th></th>\n",
       "      <th>tweet</th>\n",
       "    </tr>\n",
       "  </thead>\n",
       "  <tbody>\n",
       "    <tr>\n",
       "      <th>0</th>\n",
       "      <td>@Ride4Truth Over here in Ireland apparently th...</td>\n",
       "    </tr>\n",
       "    <tr>\n",
       "      <th>1</th>\n",
       "      <td>Milk Fat Fractions Market Worth Over $14 Billi...</td>\n",
       "    </tr>\n",
       "    <tr>\n",
       "      <th>2</th>\n",
       "      <td>'The land of milk and honey promised by #BREXI...</td>\n",
       "    </tr>\n",
       "    <tr>\n",
       "      <th>3</th>\n",
       "      <td>@melatonin_milk Yeah they are. Exactly. It’s p...</td>\n",
       "    </tr>\n",
       "    <tr>\n",
       "      <th>4</th>\n",
       "      <td>@capedjoosader @DarranMarshall @annaturley @al...</td>\n",
       "    </tr>\n",
       "    <tr>\n",
       "      <th>...</th>\n",
       "      <td>...</td>\n",
       "    </tr>\n",
       "    <tr>\n",
       "      <th>95</th>\n",
       "      <td>Someone actually tried to bring 2 litres of mi...</td>\n",
       "    </tr>\n",
       "    <tr>\n",
       "      <th>96</th>\n",
       "      <td>yesterday on six one news in Ireland, I heard ...</td>\n",
       "    </tr>\n",
       "    <tr>\n",
       "      <th>97</th>\n",
       "      <td>@john_mcguirk @jasonomahony Indeed, because th...</td>\n",
       "    </tr>\n",
       "    <tr>\n",
       "      <th>98</th>\n",
       "      <td>In the Republic of Ireland, all fixed milk vol...</td>\n",
       "    </tr>\n",
       "    <tr>\n",
       "      <th>99</th>\n",
       "      <td>@roamer99 @Kilsally @JamieBrysonCPNI No need t...</td>\n",
       "    </tr>\n",
       "  </tbody>\n",
       "</table>\n",
       "<p>100 rows × 1 columns</p>\n",
       "</div>"
      ],
      "text/plain": [
       "                                                tweet\n",
       "0   @Ride4Truth Over here in Ireland apparently th...\n",
       "1   Milk Fat Fractions Market Worth Over $14 Billi...\n",
       "2   'The land of milk and honey promised by #BREXI...\n",
       "3   @melatonin_milk Yeah they are. Exactly. It’s p...\n",
       "4   @capedjoosader @DarranMarshall @annaturley @al...\n",
       "..                                                ...\n",
       "95  Someone actually tried to bring 2 litres of mi...\n",
       "96  yesterday on six one news in Ireland, I heard ...\n",
       "97  @john_mcguirk @jasonomahony Indeed, because th...\n",
       "98  In the Republic of Ireland, all fixed milk vol...\n",
       "99  @roamer99 @Kilsally @JamieBrysonCPNI No need t...\n",
       "\n",
       "[100 rows x 1 columns]"
      ]
     },
     "execution_count": 15,
     "metadata": {},
     "output_type": "execute_result"
    }
   ],
   "source": [
    "df_ireland"
   ]
  },
  {
   "cell_type": "code",
   "execution_count": 16,
   "id": "e15aa194",
   "metadata": {},
   "outputs": [],
   "source": [
    "query = '''us milk -is:retweet lang:en'''\n",
    "tweets = client.search_recent_tweets(query=query,\n",
    "                                     tweet_fields = [\"geo\", \"text\", \"source\", \"context_annotations\"],\n",
    "                                     user_fields = [\"location\"],\n",
    "                                     max_results = 100,\n",
    "                                     )"
   ]
  },
  {
   "cell_type": "code",
   "execution_count": 17,
   "id": "7ea3e1f7",
   "metadata": {},
   "outputs": [],
   "source": [
    "tweets_us = {}\n",
    "tweets_us[\"tweet\"] = []\n",
    "for tweet in tweets.data:\n",
    "    tweets_us[\"tweet\"].append(tweet.text)"
   ]
  },
  {
   "cell_type": "code",
   "execution_count": 18,
   "id": "410a5635",
   "metadata": {},
   "outputs": [],
   "source": [
    "df_us = pd.DataFrame(tweets_us)"
   ]
  },
  {
   "cell_type": "code",
   "execution_count": 19,
   "id": "284fc12b",
   "metadata": {},
   "outputs": [],
   "source": [
    "df_us[\"tweet\"] = df_us[\"tweet\"].str.replace(\"\\n\",\"\")"
   ]
  },
  {
   "cell_type": "code",
   "execution_count": 20,
   "id": "6b00ca02",
   "metadata": {},
   "outputs": [
    {
     "data": {
      "text/html": [
       "<div>\n",
       "<style scoped>\n",
       "    .dataframe tbody tr th:only-of-type {\n",
       "        vertical-align: middle;\n",
       "    }\n",
       "\n",
       "    .dataframe tbody tr th {\n",
       "        vertical-align: top;\n",
       "    }\n",
       "\n",
       "    .dataframe thead th {\n",
       "        text-align: right;\n",
       "    }\n",
       "</style>\n",
       "<table border=\"1\" class=\"dataframe\">\n",
       "  <thead>\n",
       "    <tr style=\"text-align: right;\">\n",
       "      <th></th>\n",
       "      <th>tweet</th>\n",
       "    </tr>\n",
       "  </thead>\n",
       "  <tbody>\n",
       "    <tr>\n",
       "      <th>0</th>\n",
       "      <td>@MosesZD @crabcrawler1 @AdamBaldwin Two of us ...</td>\n",
       "    </tr>\n",
       "    <tr>\n",
       "      <th>1</th>\n",
       "      <td>@commanderwiggy @otiosebellicose @Esqueer_ Not...</td>\n",
       "    </tr>\n",
       "    <tr>\n",
       "      <th>2</th>\n",
       "      <td>I’m attending Food &amp;amp; Water Watch’s event, ...</td>\n",
       "    </tr>\n",
       "    <tr>\n",
       "      <th>3</th>\n",
       "      <td>Gn☕📸 #community photo is from hard lives. The ...</td>\n",
       "    </tr>\n",
       "    <tr>\n",
       "      <th>4</th>\n",
       "      <td>Apr US number of milk cows was -1.0% YoY. http...</td>\n",
       "    </tr>\n",
       "    <tr>\n",
       "      <th>...</th>\n",
       "      <td>...</td>\n",
       "    </tr>\n",
       "    <tr>\n",
       "      <th>94</th>\n",
       "      <td>Love when the school gives us expired milk🤩</td>\n",
       "    </tr>\n",
       "    <tr>\n",
       "      <th>95</th>\n",
       "      <td>@alexisdeanna2 Seriously so stressful! I didn’...</td>\n",
       "    </tr>\n",
       "    <tr>\n",
       "      <th>96</th>\n",
       "      <td>we will reclaim choccy milk.....they took it f...</td>\n",
       "    </tr>\n",
       "    <tr>\n",
       "      <th>97</th>\n",
       "      <td>@hondoscanyon @lesiavasylenko New born babies ...</td>\n",
       "    </tr>\n",
       "    <tr>\n",
       "      <th>98</th>\n",
       "      <td>@hoesten33 @NataliaAntonova @ForeignPolicy I w...</td>\n",
       "    </tr>\n",
       "  </tbody>\n",
       "</table>\n",
       "<p>99 rows × 1 columns</p>\n",
       "</div>"
      ],
      "text/plain": [
       "                                                tweet\n",
       "0   @MosesZD @crabcrawler1 @AdamBaldwin Two of us ...\n",
       "1   @commanderwiggy @otiosebellicose @Esqueer_ Not...\n",
       "2   I’m attending Food &amp; Water Watch’s event, ...\n",
       "3   Gn☕📸 #community photo is from hard lives. The ...\n",
       "4   Apr US number of milk cows was -1.0% YoY. http...\n",
       "..                                                ...\n",
       "94        Love when the school gives us expired milk🤩\n",
       "95  @alexisdeanna2 Seriously so stressful! I didn’...\n",
       "96  we will reclaim choccy milk.....they took it f...\n",
       "97  @hondoscanyon @lesiavasylenko New born babies ...\n",
       "98  @hoesten33 @NataliaAntonova @ForeignPolicy I w...\n",
       "\n",
       "[99 rows x 1 columns]"
      ]
     },
     "execution_count": 20,
     "metadata": {},
     "output_type": "execute_result"
    }
   ],
   "source": [
    "df_us"
   ]
  },
  {
   "cell_type": "markdown",
   "id": "62200b09",
   "metadata": {},
   "source": [
    "### Machine Learning"
   ]
  },
  {
   "cell_type": "code",
   "execution_count": 21,
   "id": "0e31fc0a",
   "metadata": {},
   "outputs": [],
   "source": [
    "df = pd.read_csv('../data/clothing_review.csv')"
   ]
  },
  {
   "cell_type": "code",
   "execution_count": 22,
   "id": "bd152dd6",
   "metadata": {},
   "outputs": [],
   "source": [
    "df = df.drop(['Title', 'Positive Feedback Count', 'Unnamed: 0', ], axis=1)\n",
    "df.dropna(inplace=True)"
   ]
  },
  {
   "cell_type": "code",
   "execution_count": 23,
   "id": "d050293e",
   "metadata": {},
   "outputs": [],
   "source": [
    "df['Polarity_Rating'] = df['Rating'].apply(lambda x: 'Positive' if x > 3 else('Neutral' if x == 3  else 'Negative'))"
   ]
  },
  {
   "cell_type": "code",
   "execution_count": 24,
   "id": "301b8fca",
   "metadata": {},
   "outputs": [],
   "source": [
    "df_Positive = df[df['Polarity_Rating'] == 'Positive'][0:8000]\n",
    "df_Neutral = df[df['Polarity_Rating'] == 'Neutral']\n",
    "df_Negative = df[df['Polarity_Rating'] == 'Negative']"
   ]
  },
  {
   "cell_type": "code",
   "execution_count": 25,
   "id": "e2afe125",
   "metadata": {},
   "outputs": [],
   "source": [
    "df_Neutral_over = df_Neutral.sample(8000, replace=True)\n",
    "df_Negative_over = df_Negative.sample(8000, replace=True)\n",
    "df = pd.concat([df_Positive, df_Neutral_over, df_Negative_over], axis=0)"
   ]
  },
  {
   "cell_type": "code",
   "execution_count": 26,
   "id": "03cb16bb",
   "metadata": {},
   "outputs": [],
   "source": [
    "def get_text_processing(text):\n",
    "    stpword = stopwords.words('english')\n",
    "    no_punctuation = [char for char in text if char not in string.punctuation]\n",
    "    no_punctuation = ''.join(no_punctuation)\n",
    "    return ' '.join([word for word in no_punctuation.split() if word.lower() not in stpword])"
   ]
  },
  {
   "cell_type": "code",
   "execution_count": 27,
   "id": "9d04a3ab",
   "metadata": {},
   "outputs": [],
   "source": [
    "df['review'] = df['Review Text'].apply(get_text_processing)"
   ]
  },
  {
   "cell_type": "code",
   "execution_count": 28,
   "id": "291d4028",
   "metadata": {},
   "outputs": [],
   "source": [
    "df = df[['review', 'Polarity_Rating']]"
   ]
  },
  {
   "cell_type": "code",
   "execution_count": 29,
   "id": "46e2b37a",
   "metadata": {},
   "outputs": [
    {
     "data": {
      "text/html": [
       "<div>\n",
       "<style scoped>\n",
       "    .dataframe tbody tr th:only-of-type {\n",
       "        vertical-align: middle;\n",
       "    }\n",
       "\n",
       "    .dataframe tbody tr th {\n",
       "        vertical-align: top;\n",
       "    }\n",
       "\n",
       "    .dataframe thead th {\n",
       "        text-align: right;\n",
       "    }\n",
       "</style>\n",
       "<table border=\"1\" class=\"dataframe\">\n",
       "  <thead>\n",
       "    <tr style=\"text-align: right;\">\n",
       "      <th></th>\n",
       "      <th>review</th>\n",
       "      <th>Polarity_Rating</th>\n",
       "    </tr>\n",
       "  </thead>\n",
       "  <tbody>\n",
       "    <tr>\n",
       "      <th>0</th>\n",
       "      <td>Absolutely wonderful silky sexy comfortable</td>\n",
       "      <td>Positive</td>\n",
       "    </tr>\n",
       "    <tr>\n",
       "      <th>1</th>\n",
       "      <td>Love dress sooo pretty happened find store im ...</td>\n",
       "      <td>Positive</td>\n",
       "    </tr>\n",
       "    <tr>\n",
       "      <th>3</th>\n",
       "      <td>love love love jumpsuit fun flirty fabulous ev...</td>\n",
       "      <td>Positive</td>\n",
       "    </tr>\n",
       "    <tr>\n",
       "      <th>4</th>\n",
       "      <td>shirt flattering due adjustable front tie perf...</td>\n",
       "      <td>Positive</td>\n",
       "    </tr>\n",
       "    <tr>\n",
       "      <th>6</th>\n",
       "      <td>aded basket hte last mintue see would look lik...</td>\n",
       "      <td>Positive</td>\n",
       "    </tr>\n",
       "    <tr>\n",
       "      <th>...</th>\n",
       "      <td>...</td>\n",
       "      <td>...</td>\n",
       "    </tr>\n",
       "    <tr>\n",
       "      <th>12114</th>\n",
       "      <td>Unfortunately sweater let love retailer especi...</td>\n",
       "      <td>Negative</td>\n",
       "    </tr>\n",
       "    <tr>\n",
       "      <th>9649</th>\n",
       "      <td>wanted love suit gorgeous color quality style ...</td>\n",
       "      <td>Negative</td>\n",
       "    </tr>\n",
       "    <tr>\n",
       "      <th>22188</th>\n",
       "      <td>Loved look sweater fit shown however thin cash...</td>\n",
       "      <td>Negative</td>\n",
       "    </tr>\n",
       "    <tr>\n",
       "      <th>20154</th>\n",
       "      <td>shirt overpowering vinegar odor took packaging...</td>\n",
       "      <td>Negative</td>\n",
       "    </tr>\n",
       "    <tr>\n",
       "      <th>10956</th>\n",
       "      <td>looking dress online hoping popback went local...</td>\n",
       "      <td>Negative</td>\n",
       "    </tr>\n",
       "  </tbody>\n",
       "</table>\n",
       "<p>24000 rows × 2 columns</p>\n",
       "</div>"
      ],
      "text/plain": [
       "                                                  review Polarity_Rating\n",
       "0            Absolutely wonderful silky sexy comfortable        Positive\n",
       "1      Love dress sooo pretty happened find store im ...        Positive\n",
       "3      love love love jumpsuit fun flirty fabulous ev...        Positive\n",
       "4      shirt flattering due adjustable front tie perf...        Positive\n",
       "6      aded basket hte last mintue see would look lik...        Positive\n",
       "...                                                  ...             ...\n",
       "12114  Unfortunately sweater let love retailer especi...        Negative\n",
       "9649   wanted love suit gorgeous color quality style ...        Negative\n",
       "22188  Loved look sweater fit shown however thin cash...        Negative\n",
       "20154  shirt overpowering vinegar odor took packaging...        Negative\n",
       "10956  looking dress online hoping popback went local...        Negative\n",
       "\n",
       "[24000 rows x 2 columns]"
      ]
     },
     "execution_count": 29,
     "metadata": {},
     "output_type": "execute_result"
    }
   ],
   "source": [
    "df"
   ]
  },
  {
   "cell_type": "code",
   "execution_count": 32,
   "id": "d1725ed4",
   "metadata": {},
   "outputs": [],
   "source": [
    "one_hot = pd.get_dummies(df[\"Polarity_Rating\"])\n",
    "df_ = df.copy()\n",
    "df_.drop(['Polarity_Rating'],axis=1,inplace=True)\n",
    "df_ = pd.concat([df_,one_hot],axis=1)"
   ]
  },
  {
   "cell_type": "code",
   "execution_count": 33,
   "id": "4104a391",
   "metadata": {},
   "outputs": [
    {
     "data": {
      "text/html": [
       "<div>\n",
       "<style scoped>\n",
       "    .dataframe tbody tr th:only-of-type {\n",
       "        vertical-align: middle;\n",
       "    }\n",
       "\n",
       "    .dataframe tbody tr th {\n",
       "        vertical-align: top;\n",
       "    }\n",
       "\n",
       "    .dataframe thead th {\n",
       "        text-align: right;\n",
       "    }\n",
       "</style>\n",
       "<table border=\"1\" class=\"dataframe\">\n",
       "  <thead>\n",
       "    <tr style=\"text-align: right;\">\n",
       "      <th></th>\n",
       "      <th>review</th>\n",
       "      <th>Negative</th>\n",
       "      <th>Neutral</th>\n",
       "      <th>Positive</th>\n",
       "    </tr>\n",
       "  </thead>\n",
       "  <tbody>\n",
       "    <tr>\n",
       "      <th>0</th>\n",
       "      <td>Absolutely wonderful silky sexy comfortable</td>\n",
       "      <td>0</td>\n",
       "      <td>0</td>\n",
       "      <td>1</td>\n",
       "    </tr>\n",
       "    <tr>\n",
       "      <th>1</th>\n",
       "      <td>Love dress sooo pretty happened find store im ...</td>\n",
       "      <td>0</td>\n",
       "      <td>0</td>\n",
       "      <td>1</td>\n",
       "    </tr>\n",
       "    <tr>\n",
       "      <th>3</th>\n",
       "      <td>love love love jumpsuit fun flirty fabulous ev...</td>\n",
       "      <td>0</td>\n",
       "      <td>0</td>\n",
       "      <td>1</td>\n",
       "    </tr>\n",
       "    <tr>\n",
       "      <th>4</th>\n",
       "      <td>shirt flattering due adjustable front tie perf...</td>\n",
       "      <td>0</td>\n",
       "      <td>0</td>\n",
       "      <td>1</td>\n",
       "    </tr>\n",
       "    <tr>\n",
       "      <th>6</th>\n",
       "      <td>aded basket hte last mintue see would look lik...</td>\n",
       "      <td>0</td>\n",
       "      <td>0</td>\n",
       "      <td>1</td>\n",
       "    </tr>\n",
       "    <tr>\n",
       "      <th>...</th>\n",
       "      <td>...</td>\n",
       "      <td>...</td>\n",
       "      <td>...</td>\n",
       "      <td>...</td>\n",
       "    </tr>\n",
       "    <tr>\n",
       "      <th>12114</th>\n",
       "      <td>Unfortunately sweater let love retailer especi...</td>\n",
       "      <td>1</td>\n",
       "      <td>0</td>\n",
       "      <td>0</td>\n",
       "    </tr>\n",
       "    <tr>\n",
       "      <th>9649</th>\n",
       "      <td>wanted love suit gorgeous color quality style ...</td>\n",
       "      <td>1</td>\n",
       "      <td>0</td>\n",
       "      <td>0</td>\n",
       "    </tr>\n",
       "    <tr>\n",
       "      <th>22188</th>\n",
       "      <td>Loved look sweater fit shown however thin cash...</td>\n",
       "      <td>1</td>\n",
       "      <td>0</td>\n",
       "      <td>0</td>\n",
       "    </tr>\n",
       "    <tr>\n",
       "      <th>20154</th>\n",
       "      <td>shirt overpowering vinegar odor took packaging...</td>\n",
       "      <td>1</td>\n",
       "      <td>0</td>\n",
       "      <td>0</td>\n",
       "    </tr>\n",
       "    <tr>\n",
       "      <th>10956</th>\n",
       "      <td>looking dress online hoping popback went local...</td>\n",
       "      <td>1</td>\n",
       "      <td>0</td>\n",
       "      <td>0</td>\n",
       "    </tr>\n",
       "  </tbody>\n",
       "</table>\n",
       "<p>24000 rows × 4 columns</p>\n",
       "</div>"
      ],
      "text/plain": [
       "                                                  review  Negative  Neutral  \\\n",
       "0            Absolutely wonderful silky sexy comfortable         0        0   \n",
       "1      Love dress sooo pretty happened find store im ...         0        0   \n",
       "3      love love love jumpsuit fun flirty fabulous ev...         0        0   \n",
       "4      shirt flattering due adjustable front tie perf...         0        0   \n",
       "6      aded basket hte last mintue see would look lik...         0        0   \n",
       "...                                                  ...       ...      ...   \n",
       "12114  Unfortunately sweater let love retailer especi...         1        0   \n",
       "9649   wanted love suit gorgeous color quality style ...         1        0   \n",
       "22188  Loved look sweater fit shown however thin cash...         1        0   \n",
       "20154  shirt overpowering vinegar odor took packaging...         1        0   \n",
       "10956  looking dress online hoping popback went local...         1        0   \n",
       "\n",
       "       Positive  \n",
       "0             1  \n",
       "1             1  \n",
       "3             1  \n",
       "4             1  \n",
       "6             1  \n",
       "...         ...  \n",
       "12114         0  \n",
       "9649          0  \n",
       "22188         0  \n",
       "20154         0  \n",
       "10956         0  \n",
       "\n",
       "[24000 rows x 4 columns]"
      ]
     },
     "execution_count": 33,
     "metadata": {},
     "output_type": "execute_result"
    }
   ],
   "source": [
    "df_"
   ]
  },
  {
   "cell_type": "code",
   "execution_count": 34,
   "id": "7969de0f",
   "metadata": {},
   "outputs": [],
   "source": [
    "X = df_['review'].values\n",
    "y = df_.drop('review', axis=1).values\n",
    "X_train, X_test, y_train, y_test = train_test_split(X, y, test_size=0.30, random_state=42)"
   ]
  },
  {
   "cell_type": "code",
   "execution_count": 35,
   "id": "7f00d774",
   "metadata": {},
   "outputs": [],
   "source": [
    "vect = CountVectorizer(max_features=5000)\n",
    "X_train = vect.fit_transform(X_train)\n",
    "X_test = vect.transform(X_test)"
   ]
  },
  {
   "cell_type": "code",
   "execution_count": 36,
   "id": "b68d9986",
   "metadata": {},
   "outputs": [],
   "source": [
    "tfidf = TfidfTransformer()\n",
    "X_train = tfidf.fit_transform(X_train)\n",
    "X_test = tfidf.transform(X_test)\n",
    "X_train = X_train.toarray()\n",
    "X_test = X_test.toarray()"
   ]
  },
  {
   "cell_type": "code",
   "execution_count": 37,
   "id": "d081b101",
   "metadata": {},
   "outputs": [],
   "source": [
    "model = Sequential()\n",
    "\n",
    "model.add(Dense(units=5000,activation='relu'))\n",
    "model.add(Dropout(0.5))\n",
    "\n",
    "model.add(Dense(units=400,activation='relu'))\n",
    "model.add(Dropout(0.5))\n",
    "\n",
    "model.add(Dense(units=100,activation='relu'))\n",
    "model.add(Dropout(0.5))\n",
    "\n",
    "model.add(Dense(units=3, activation='softmax'))\n",
    "\n",
    "opt=tf.keras.optimizers.Adam(learning_rate=0.001)\n",
    "model.compile(loss='categorical_crossentropy', optimizer=opt, metrics=['accuracy'])\n",
    "\n",
    "early_stop = EarlyStopping(monitor='val_loss', mode='min', verbose=1, patience=2)"
   ]
  },
  {
   "cell_type": "code",
   "execution_count": 38,
   "id": "8aee0572",
   "metadata": {},
   "outputs": [
    {
     "name": "stdout",
     "output_type": "stream",
     "text": [
      "Epoch 1/100\n",
      "66/66 [==============================] - 17s 252ms/step - loss: 0.7561 - accuracy: 0.6513 - val_loss: 0.4601 - val_accuracy: 0.8242\n",
      "Epoch 2/100\n",
      "66/66 [==============================] - 19s 282ms/step - loss: 0.2632 - accuracy: 0.9121 - val_loss: 0.3180 - val_accuracy: 0.8922\n",
      "Epoch 3/100\n",
      "66/66 [==============================] - 16s 243ms/step - loss: 0.0798 - accuracy: 0.9774 - val_loss: 0.2913 - val_accuracy: 0.9183\n",
      "Epoch 4/100\n",
      "66/66 [==============================] - 16s 238ms/step - loss: 0.0208 - accuracy: 0.9952 - val_loss: 0.3854 - val_accuracy: 0.9106\n",
      "Epoch 5/100\n",
      "66/66 [==============================] - 15s 233ms/step - loss: 0.0084 - accuracy: 0.9981 - val_loss: 0.3911 - val_accuracy: 0.9211\n",
      "Epoch 00005: early stopping\n"
     ]
    },
    {
     "data": {
      "text/plain": [
       "<keras.callbacks.History at 0x1f7bd559040>"
      ]
     },
     "execution_count": 38,
     "metadata": {},
     "output_type": "execute_result"
    }
   ],
   "source": [
    "model.fit(x=X_train, y=y_train, batch_size=256, epochs=100, validation_data=(X_test, y_test), verbose=1, callbacks=early_stop)"
   ]
  },
  {
   "cell_type": "code",
   "execution_count": 39,
   "id": "dccb35ad",
   "metadata": {},
   "outputs": [
    {
     "name": "stdout",
     "output_type": "stream",
     "text": [
      "113/113 [==============================] - 4s 33ms/step - loss: 0.3911 - accuracy: 0.9211\n",
      "Test accuracy: 0.9211111068725586\n"
     ]
    }
   ],
   "source": [
    "model_score = model.evaluate(X_test, y_test, batch_size=64, verbose=1)\n",
    "print('Test accuracy:', model_score[1])"
   ]
  },
  {
   "cell_type": "code",
   "execution_count": 40,
   "id": "2d392803",
   "metadata": {},
   "outputs": [],
   "source": [
    "sid = SentimentIntensityAnalyzer()"
   ]
  },
  {
   "cell_type": "code",
   "execution_count": 41,
   "id": "0773ad6b",
   "metadata": {},
   "outputs": [],
   "source": [
    "X = df['review'].values\n",
    "y = df.drop('review', axis=1).values\n",
    "X_train, X_test, y_train, y_test = train_test_split(X, y, test_size=0.30, random_state=42)"
   ]
  },
  {
   "cell_type": "code",
   "execution_count": 42,
   "id": "fc5f6c69",
   "metadata": {},
   "outputs": [
    {
     "data": {
      "text/plain": [
       "array(['price amazing goes everything fits great glad made purchase',\n",
       "       'Im 57 130 lbs ordered mediumregular dress fell three inches knees model taller falls kneesdoesnt make sense think retailer sends petites place regular',\n",
       "       'Adorable foxes smitten store fix bizarre foxes dont come high youre limited length wear bought ml based salesperson advice cant imagine trying anything smaller usually wear size 4 bottom super snug back store went',\n",
       "       ...,\n",
       "       'Love retailers kimonos saw pattern unfortunately bought tag already showing holes gave 15 went wear first time already huge snag love retailer 98 worth money',\n",
       "       'purchased dress 50th birthday bash stunning fit perfect buy size could worn regular size incredibly flattering elegant well made one go black dresses summer',\n",
       "       'great dark wash fit true size every stevies reference 56 145lbs size 6m 29 fit perfect bit long fold looks cute highly recommend especially since sale definitely closet staple'],\n",
       "      dtype=object)"
      ]
     },
     "execution_count": 42,
     "metadata": {},
     "output_type": "execute_result"
    }
   ],
   "source": [
    "X_test"
   ]
  },
  {
   "cell_type": "code",
   "execution_count": 43,
   "id": "1885f4ad",
   "metadata": {},
   "outputs": [],
   "source": [
    "results = []\n",
    "for text in X_test:\n",
    "    result = sid.polarity_scores(text)[\"compound\"]\n",
    "    if result < -0.05:\n",
    "        results.append(\"Negative\")\n",
    "    elif result < 0.05:\n",
    "        results.append(\"Neutral\")\n",
    "    else:\n",
    "        results.append(\"Positive\")"
   ]
  },
  {
   "cell_type": "code",
   "execution_count": 44,
   "id": "304ff7a3",
   "metadata": {},
   "outputs": [],
   "source": [
    "results = np.array(results)"
   ]
  },
  {
   "cell_type": "code",
   "execution_count": 45,
   "id": "a46fbd94",
   "metadata": {
    "scrolled": true
   },
   "outputs": [
    {
     "data": {
      "text/plain": [
       "array([['Positive'],\n",
       "       ['Negative'],\n",
       "       ['Negative'],\n",
       "       ...,\n",
       "       ['Negative'],\n",
       "       ['Positive'],\n",
       "       ['Positive']], dtype=object)"
      ]
     },
     "execution_count": 45,
     "metadata": {},
     "output_type": "execute_result"
    }
   ],
   "source": [
    "y_test"
   ]
  },
  {
   "cell_type": "code",
   "execution_count": 46,
   "id": "d5db955f",
   "metadata": {},
   "outputs": [
    {
     "data": {
      "text/plain": [
       "0.38027777777777777"
      ]
     },
     "execution_count": 46,
     "metadata": {},
     "output_type": "execute_result"
    }
   ],
   "source": [
    "accuracy_score(y_test,results)"
   ]
  },
  {
   "cell_type": "code",
   "execution_count": 47,
   "id": "b2be64ae",
   "metadata": {},
   "outputs": [],
   "source": [
    "df_ireland['tweet'] = df_ireland['tweet'].apply(get_text_processing)\n",
    "df_us['tweet'] = df_us['tweet'].apply(get_text_processing)"
   ]
  },
  {
   "cell_type": "code",
   "execution_count": 48,
   "id": "a44d2019",
   "metadata": {},
   "outputs": [
    {
     "data": {
      "text/html": [
       "<div>\n",
       "<style scoped>\n",
       "    .dataframe tbody tr th:only-of-type {\n",
       "        vertical-align: middle;\n",
       "    }\n",
       "\n",
       "    .dataframe tbody tr th {\n",
       "        vertical-align: top;\n",
       "    }\n",
       "\n",
       "    .dataframe thead th {\n",
       "        text-align: right;\n",
       "    }\n",
       "</style>\n",
       "<table border=\"1\" class=\"dataframe\">\n",
       "  <thead>\n",
       "    <tr style=\"text-align: right;\">\n",
       "      <th></th>\n",
       "      <th>tweet</th>\n",
       "    </tr>\n",
       "  </thead>\n",
       "  <tbody>\n",
       "    <tr>\n",
       "      <th>0</th>\n",
       "      <td>Ride4Truth Ireland apparently inflation rate 8...</td>\n",
       "    </tr>\n",
       "    <tr>\n",
       "      <th>1</th>\n",
       "      <td>Milk Fat Fractions Market Worth 14 Billion 202...</td>\n",
       "    </tr>\n",
       "    <tr>\n",
       "      <th>2</th>\n",
       "      <td>land milk honey promised BREXIT materialised N...</td>\n",
       "    </tr>\n",
       "    <tr>\n",
       "      <th>3</th>\n",
       "      <td>melatoninmilk Yeah Exactly It’s projection tru...</td>\n",
       "    </tr>\n",
       "    <tr>\n",
       "      <th>4</th>\n",
       "      <td>capedjoosader DarranMarshall annaturley alexha...</td>\n",
       "    </tr>\n",
       "    <tr>\n",
       "      <th>...</th>\n",
       "      <td>...</td>\n",
       "    </tr>\n",
       "    <tr>\n",
       "      <th>95</th>\n",
       "      <td>Someone actually tried bring 2 litres milk air...</td>\n",
       "    </tr>\n",
       "    <tr>\n",
       "      <th>96</th>\n",
       "      <td>yesterday six one news Ireland heard people ta...</td>\n",
       "    </tr>\n",
       "    <tr>\n",
       "      <th>97</th>\n",
       "      <td>johnmcguirk jasonomahony Indeed many opportuni...</td>\n",
       "    </tr>\n",
       "    <tr>\n",
       "      <th>98</th>\n",
       "      <td>Republic Ireland fixed milk volumes receive 8c...</td>\n",
       "    </tr>\n",
       "    <tr>\n",
       "      <th>99</th>\n",
       "      <td>roamer99 Kilsally JamieBrysonCPNI need shut bo...</td>\n",
       "    </tr>\n",
       "  </tbody>\n",
       "</table>\n",
       "<p>100 rows × 1 columns</p>\n",
       "</div>"
      ],
      "text/plain": [
       "                                                tweet\n",
       "0   Ride4Truth Ireland apparently inflation rate 8...\n",
       "1   Milk Fat Fractions Market Worth 14 Billion 202...\n",
       "2   land milk honey promised BREXIT materialised N...\n",
       "3   melatoninmilk Yeah Exactly It’s projection tru...\n",
       "4   capedjoosader DarranMarshall annaturley alexha...\n",
       "..                                                ...\n",
       "95  Someone actually tried bring 2 litres milk air...\n",
       "96  yesterday six one news Ireland heard people ta...\n",
       "97  johnmcguirk jasonomahony Indeed many opportuni...\n",
       "98  Republic Ireland fixed milk volumes receive 8c...\n",
       "99  roamer99 Kilsally JamieBrysonCPNI need shut bo...\n",
       "\n",
       "[100 rows x 1 columns]"
      ]
     },
     "execution_count": 48,
     "metadata": {},
     "output_type": "execute_result"
    }
   ],
   "source": [
    "df_ireland"
   ]
  },
  {
   "cell_type": "code",
   "execution_count": 49,
   "id": "e3b952ba",
   "metadata": {},
   "outputs": [],
   "source": [
    "vec_ireland = vect.transform(df_ireland['tweet'])\n",
    "vec_us = vect.transform(df_us['tweet'])"
   ]
  },
  {
   "cell_type": "code",
   "execution_count": 50,
   "id": "1c92a11a",
   "metadata": {},
   "outputs": [],
   "source": [
    "vec_ireland = tfidf.transform(vec_ireland)\n",
    "vec_us = tfidf.transform(vec_us)\n",
    "vec_ireland = vec_ireland.toarray()\n",
    "vec_us = vec_us.toarray()"
   ]
  },
  {
   "cell_type": "code",
   "execution_count": 51,
   "id": "e6da71af",
   "metadata": {},
   "outputs": [],
   "source": [
    "df_ireland[\"sentiment\"] = np.argmax(model.predict(vec_ireland),axis=1)"
   ]
  },
  {
   "cell_type": "code",
   "execution_count": 52,
   "id": "36fab04e",
   "metadata": {},
   "outputs": [],
   "source": [
    "def number_to_sentiment(x):\n",
    "    if x == 0:\n",
    "        return \"Negative\"\n",
    "    if x == 1:\n",
    "        return \"Neutral\"\n",
    "    return \"Positive\""
   ]
  },
  {
   "cell_type": "code",
   "execution_count": 53,
   "id": "9b3b6236",
   "metadata": {},
   "outputs": [],
   "source": [
    "df_ireland[\"sentiment\"] = df_ireland[\"sentiment\"].apply(number_to_sentiment)"
   ]
  },
  {
   "cell_type": "code",
   "execution_count": 54,
   "id": "cee00874",
   "metadata": {},
   "outputs": [],
   "source": [
    "df_us[\"sentiment\"] = np.argmax(model.predict(vec_us),axis=1)\n",
    "df_us[\"sentiment\"] = df_us[\"sentiment\"].apply(number_to_sentiment)"
   ]
  },
  {
   "cell_type": "code",
   "execution_count": 55,
   "id": "be896af2",
   "metadata": {},
   "outputs": [
    {
     "data": {
      "text/plain": [
       "<AxesSubplot:>"
      ]
     },
     "execution_count": 55,
     "metadata": {},
     "output_type": "execute_result"
    },
    {
     "data": {
      "image/png": "[encoded data removed]",
      "text/plain": [
       "<Figure size 432x288 with 1 Axes>"
      ]
     },
     "metadata": {
      "needs_background": "light"
     },
     "output_type": "display_data"
    }
   ],
   "source": [
    "df_ireland[\"sentiment\"].value_counts().plot.bar()"
   ]
  },
  {
   "cell_type": "code",
   "execution_count": 56,
   "id": "e0cc2fc2",
   "metadata": {},
   "outputs": [
    {
     "data": {
      "text/plain": [
       "<AxesSubplot:>"
      ]
     },
     "execution_count": 56,
     "metadata": {},
     "output_type": "execute_result"
    },
    {
     "data": {
      "image/png": "[encoded data removed]",
      "text/plain": [
       "<Figure size 432x288 with 1 Axes>"
      ]
     },
     "metadata": {
      "needs_background": "light"
     },
     "output_type": "display_data"
    }
   ],
   "source": [
    "df_us[\"sentiment\"].value_counts().plot.bar()"
   ]
  }
 ],
 "metadata": {
  "kernelspec": {
   "display_name": "Python 3 (ipykernel)",
   "language": "python",
   "name": "python3"
  },
  "language_info": {
   "codemirror_mode": {
    "name": "ipython",
    "version": 3
   },
   "file_extension": ".py",
   "mimetype": "text/x-python",
   "name": "python",
   "nbconvert_exporter": "python",
   "pygments_lexer": "ipython3",
   "version": "3.9.7"
  }
 },
 "nbformat": 4,
 "nbformat_minor": 5
}
