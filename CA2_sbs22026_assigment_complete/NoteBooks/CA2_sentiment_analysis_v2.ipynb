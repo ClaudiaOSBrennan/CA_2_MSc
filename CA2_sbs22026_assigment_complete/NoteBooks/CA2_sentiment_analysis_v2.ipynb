{
 "cells": [
  {
   "cell_type": "code",
   "execution_count": 1,
   "id": "6e5fd869",
   "metadata": {},
   "outputs": [
    {
     "name": "stderr",
     "output_type": "stream",
     "text": [
      "[nltk_data] Downloading package stopwords to\n",
      "[nltk_data]     C:\\Users\\SILVA\\AppData\\Roaming\\nltk_data...\n",
      "[nltk_data]   Package stopwords is already up-to-date!\n",
      "[nltk_data] Downloading package vader_lexicon to\n",
      "[nltk_data]     C:\\Users\\SILVA\\AppData\\Roaming\\nltk_data...\n"
     ]
    }
   ],
   "source": [
    "import pandas as pd\n",
    "import numpy as np\n",
    "import seaborn as sns\n",
    "\n",
    "import tweepy \n",
    "import re\n",
    "import string\n",
    "from string import punctuation\n",
    "import nltk\n",
    "from nltk.corpus import stopwords\n",
    "nltk.download('stopwords')\n",
    "\n",
    "\n",
    "import matplotlib.pyplot as plt\n",
    "from sklearn.model_selection import train_test_split\n",
    "\n",
    "from sklearn.metrics import accuracy_score\n",
    "\n",
    "from sklearn.feature_extraction.text import CountVectorizer\n",
    "from sklearn.feature_extraction.text import TfidfTransformer\n",
    "\n",
    "import tensorflow as tf\n",
    "from tensorflow.keras.models import Sequential\n",
    "from tensorflow.keras.layers import Dense, Activation, Dropout\n",
    "from tensorflow.keras.callbacks import EarlyStopping\n",
    "\n",
    "nltk.download('vader_lexicon')\n",
    "from nltk.sentiment.vader import SentimentIntensityAnalyzer"
   ]
  },
  {
   "cell_type": "code",
   "execution_count": 3,
   "id": "fcba5c0c",
   "metadata": {},
   "outputs": [],
   "source": [
    "api_key = \"dzPfHbw07mHlxqWrbFXPnJ83R\"\n",
    "api_secret = \"8lAhud69E2748mdv8eKpsRf2lwDWlBVDk8YMxjxrGLRCfhppTj\"\n",
    "bearer_token = \"AAAAAAAAAAAAAAAAAAAAAEHZbwEAAAAAAWZ%2FmsJH42PgVE44JaUqw8spT6M%3DDczwilpVRZtjfpRPK6l6TSjTB6l9EXAsVqVafUCabWoNLNDeh9\"\n",
    "acess_token = \"2534496417-9rOsCGmGMi9R9kfzifhqJrzP0YxX4ejBgTu3tnf\"\n",
    "acess_secret = \"ccLadXKnmQme8WuUIPsP3X7CUn9WvPFk56uCHWHDq6H76\""
   ]
  },
  {
   "cell_type": "code",
   "execution_count": 4,
   "id": "32092fff",
   "metadata": {},
   "outputs": [],
   "source": [
    "client = tweepy.Client(bearer_token=bearer_token)"
   ]
  },
  {
   "cell_type": "code",
   "execution_count": 5,
   "id": "8659ce93",
   "metadata": {},
   "outputs": [],
   "source": [
    "query = '''ireland milk -is:retweet lang:en'''\n",
    "tweets = client.search_recent_tweets(query=query,\n",
    "                                     tweet_fields = [\"geo\", \"text\", \"source\", \"context_annotations\"],\n",
    "                                     user_fields = [\"location\"],\n",
    "                                     max_results = 100,\n",
    "                                     )"
   ]
  },
  {
   "cell_type": "code",
   "execution_count": 6,
   "id": "76c50f11",
   "metadata": {},
   "outputs": [
    {
     "data": {
      "text/plain": [
       "Response(data=[<Tweet id=1528397098797805568 text='Harvey Milk, one of the first openly gay US politicians, was born on May 22, 1930. Ireland legalized gay marriage on May 22, 2015\\n\\nHinduism teaches us that every being is Divine or a reflection of Divine qualities, regardless of one’s outer attributes.\\n\\n#Respect #LGBTQ #equity'>, <Tweet id=1528390258089500672 text='Not only is it Irish Marriage Referendum Day (The day LGBTQIA+ Marriage was made legal in Ireland in 2015) but also Harvey Milk Day (A gay rights activist who was unfortunately assassinated in 1978)\\n#LGBTQ #LGBTQIALOVEMAY https://t.co/gEpBhpdSHx'>, <Tweet id=1528332121143746560 text='@c_tiot Bloody right mate, I\\'m from Ireland, there was these two lads in the supermarket and one dropped a bottle of milk, his mate goes to him \"you are one dopey Biden bollox\" and I burst out laughing,how\\'s it feel @JoeBiden fake @Potus to know you are a world wide laughing stock?🇮🇪🇬🇧🇺🇸'>, <Tweet id=1528314850019000320 text=\"On Sunday's we STACK 🥰\\n\\nJoin us for live music, delicious food and good vibes as always!\\n\\nLewis Curry Duo: 2pm to 4pm\\nSpilt Milk Band: 5pm to 7pm\\nMark Ireland: 7pm to close https://t.co/JY1utiG6qi\">, <Tweet id=1528263949703053313 text=\"@Mozzer2015 @LePatissier1 @Aldi_Ireland @TescoIrl @SuperValuIRL @lidl_ireland @conor_pope I guess because milk has gone from 75c/lt up to 95c/lt.\\nAnd of course no justifications. I'm totally convinced the increase could be a lot less.\">, <Tweet id=1528224029194190849 text=\"[English] 2022-05-22\\n\\nWe're celebrating:\\n - Harvey Milk Day\\n - Marriage Referendum Anniversary (Ireland)\\n - Mspec Lesbian Visbility &amp; Awareness Week\\n - LGBTQ+ History Month (Cuba/Germany)\\n\\nhttps://t.co/yNVR88epAE\">, <Tweet id=1528088843282436097 text=\"My love for KERRYGOLD milk is undying. @kerrygoldng  gives me CALCIUM and VITAMIN 🥰\\nIt's CREAMY and NOURISHING ❣️\\nKerrygold advantage instant milk is made from Ireland 💓\\nIt gives me all the NUTRIENTS that my body desires 🤜🤛\\nBest milk for both young and old \\n#KidsLoveKerrygold https://t.co/uq70Eanaml\">, <Tweet id=1528088022209773575 text=\"@kerrygoldng \\nMy love for KERRYGOLD milk is Undying. It gives me CALCIUM and VITAMIN\\nIt's CREAMY and NOURISHING ❣️\\nKerrygold advantage instant milk is made from Ireland 💓\\nIt gives me all the NUTRIENTS that my body desires 🤜🤛\\nBest milk for both young and old #KidsLoveKerrygold https://t.co/qbSqbYRzJn\">, <Tweet id=1528072509593206785 text='In each of  @TescoIrl @Aldi_Ireland @lidl_ireland @SuperValuIRL @dunnesstores the price of own brand  butter and milk stand at €2.99 and €.95 I always thought price matching was about reducing and not matching to increase prices ad has happened here. @NTBreakfast @rte @'>, <Tweet id=1528065576911921154 text='@liminalstate1 @historydefined You wouldn’t love it if you had to live through it. Potatoes and milk do not a healthy diet make. My granny lived in Ireland until 1921 when her aunt &amp; uncle sponsored her to come here. The stories she told me about the food in Ireland explained her love of green vegetables.'>, <Tweet id=1528001480262766592 text='43% of all milk produced in Ireland is used to make Baileys liqueur.\\n\\n☞ #InterestingRandomFacts #IRF https://t.co/Xh9QuPpS4t'>, <Tweet id=1527804780516519936 text=\"What's good? I'm Sailor Meowwun. I come from Ireland. Did you know that there's 7 billion hoomans on the Earth? Strange, don't you think? Take care of me, or I'll leave you only a drop of milk in the carton. I admire you!\">, <Tweet id=1527744383222566912 text=\"Aye, I'm MewMew. I come from Ireland. Did you know that I sometimes eat from my owner's plate? Witty, amirite? Take care of me, or I'll leave you only a drop of milk in the carton. I want you to adopt me!\">, <Tweet id=1527727199465488384 text='Jeez Louise imagine if that was implemented in Ireland. \\n\\nCan’t wait for my card to decline when I’m buying a drum of milk because I took a piss in the shower… 🙄 https://t.co/0cIHkRk0v2'>, <Tweet id=1527725894860677122 text='.@somerdalecheese is importing a trio of cheeses that originate from Old Irish Creamery on Ireland’s west coast. All of the Claddagh Bó Irish Cheddar products are made using milk from grass-fed cows.\\n\\n- More here 👇\\nhttps://t.co/TeEBBLyRSf\\n#cheese #dairy #dairyindustry'>, <Tweet id=1527725855090147328 text='This week, we talk the high seas leading to Israel for weanlings, fixed milk price options and what to do with lameness with early born lambs. \\n \\nWatch here: https://t.co/OICokzvAYe\\n\\nIn association with @bankofireland, @AXA_Ireland, @Grasslandagro and @dairymaster #FarmTechTalk https://t.co/yYXefjJMyY'>, <Tweet id=1527717892451704832 text='43% of all milk produced in Ireland is used to make Baileys liqueur.@BaileysOfficial  come to Uganda, we have quality milk, make Uganda the center of Africa to produce Baileys😊 https://t.co/QKi3TlbtX6'>, <Tweet id=1527714193075412992 text=\"What's good? I'm Katye East. I come from Ireland. Did you know that dogs drool? Witty, amirite? Take care of me, or I'll leave you only a drop of milk in the carton. I think you're beautiful!\">, <Tweet id=1527711000656588800 text='A SHOCKING video has revealed the horror cruelty shown to infant calves transported from Ireland to Europe. \\n\\nhttps://t.co/IKldIAfdPH\\n#dairytruth #liveexport #milk #cheese #irishdairy #moofreemay https://t.co/J3Xi7xh382'>, <Tweet id=1527670483583266816 text='Potato milk is now available in select stores across Ireland and online, offering yet another plant based alternative to regular milk.\\n\\nhttps://t.co/rWvALlYSwn'>, <Tweet id=1527641765548810241 text='@PaddyNolan15 @EwanMacKenna Hospitals at a time were quiet and now GPS in Northern Ireland seek to milk the situation by refusing to see patients and keeping the old covid rules.'>, <Tweet id=1527634523357429761 text='@TInformatio @OzzyJellyEllie @EoinLlewellyn @wolfiewire @rtenews @dawnmeatsgroup @OriginGreen @IFAmedia @EPACatchments @pippa_hackett @IELA_Ireland @Irishwildlife Dairy and egg industries are also really bad for water. Look at the impacts of intensive chicken farming on the River Wye in Wales, or the impacts of slurry and milk released into rivers elsewhere in the UK. @GeorgeMonbiot has done good reporting on this.'>, <Tweet id=1527628757204443139 text=\"The Fair is is town in Ballymaloe &amp; there's a @berthasrevenge Gin Cocktail demonstration \\nBerthas Revenge Gin is a milk Gin made in Ireland 🇮🇪 from Whey alcohol &amp; named after Big Bertha, a famous Irish cow that lived for 49 years &amp; used to lead the local St.Patrick's Day parade! https://t.co/0uf6PFiE4i\">, <Tweet id=1527617255638540292 text='@cork_foodie The ONLY Coffee pop eggs boba tea in Ireland! The “Pop Eggs” are pearl sized bubbles which actually ‘pops’ to release coffee when bitten. They are best for milk tea lovers who have a soft spot for coffee but cannot decide which is their true love. 😂 Please visit us!!! https://t.co/hJZYdsUi49'>, <Tweet id=1527607570613129216 text='@AnGobanSaor Meanwhile in Ireland farmers reps, speak of our wholesome food industry, which means just red meat and milk, lol. No wheat, no beet, hardly no veg, hardly any life supporting food grown in Ireland thanks to the EU and the doctrine of globalisation.'>, <Tweet id=1527599246760894467 text='@TitusNation There are already foreign producers of baby formula with FDA certification. One is in Ireland. But leave it to Democrats to turn starving babies into more money for government.\\nhttps://t.co/0Ys599Vunq'>, <Tweet id=1527599159724867585 text='@sarahnadav There are already foreign producers of baby formula with FDA certification. One is in Ireland. But leave it to Democrats to turn starving babies into more money for government.\\nhttps://t.co/0Ys599Vunq'>, <Tweet id=1527588984964231168 text='what a day, it’s 10.55. My Netflix had been hacked, we had no milk, Jon’s gone to Ireland and I couldn’t get n-dubz tickets'>, <Tweet id=1527565756044566530 text='@Aldi_Ireland and yet you increase the price of milk, a staple, by €0.10 a litre this week! https://t.co/ceTJrxGBL6'>, <Tweet id=1527559091224289281 text='@awsumedevil @IndyTom3 Correction to that.  Could be referring to the British Isles mind.  Maybe getting milk from the Republic of Ireland.'>, <Tweet id=1527540794059546625 text='The only cow in a small town in Ireland stopped giving milk. The townsfolk learned they could buy a cow in Scotland quite cheaply so they bought it. It was wonderful, produced lots of milk every day and everyone was happy.'>, <Tweet id=1527534035471310848 text='@rtenews Yes Ireland just use your lobbies like the Yiddish mafia colony does!!!! You could even get 40 billion a year, or even more!! milk the cow you dumdums'>, <Tweet id=1527421487170215936 text='@SpeakerPelosi Fuk N.Ireland, get to work here with the gas, milk, inflation and every other thing your admin has fukked up.'>, <Tweet id=1527410036003196928 text='@rtenews Why is it that food products which originate in the Republic of Ireland 🇮🇪 are becoming so expensive - and so suddenly?? Bread, porridge, milk, butter, meat, poultry etc!! @PresidentIRL @MichealMartinTD @LeoVaradkar @simoncoveney @DonnellyStephen @MaryLouMcDonald @PearseDoherty'>, <Tweet id=1527369375858077700 text='🇮🇪 Ireland is a major producer of milk formula, with three of the major suppliers – Abbott, Danone and Nestlé – having substantial plants here. All three producers said they were in discussions with US authorities to see how they could work with the new Biden measures.'>, <Tweet id=1527368924433510402 text='@awkward_kc @breedsomebees @GramPepe1 Actually from what I’m reading. Canada royal milk. The company that makes baby formula in Canada doesn’t ship to USA. Or even is used by Canadian. It’s shipped to China. Canadians rely on imported from USA, England, Germany, Ireland. So why would they export to the USA?'>, <Tweet id=1527367748250021896 text='This is now you milk your tea Irish country style #milkvat #countryliving #ireland https://t.co/QJySaB7QX1'>, <Tweet id=1527297624847437826 text='A fantastic service providing life saving donor milk to neonatal units across Ireland 👏💕 https://t.co/FiPzt5QH34'>, <Tweet id=1527289757042061313 text='Today we are celebrating #WorldHumanMilkDonationDay\\n\\nIn 2021 our Human Milk Bank provided donor milk for 844 premature babies throughout Ireland 🎉\\n\\nFind out more about becoming a donor: https://t.co/vKwB6b1fpa https://t.co/bFYZTri1Ja'>, <Tweet id=1527277861631139840 text='@alan_hall @carlalockhart All northern milk is processed in southern Ireland.'>, <Tweet id=1527238994513252356 text='@janine_shelley @fred_guttenberg @POTUS They critical issue is the consolidation of the milk supplies on the island of Ireland from dairy farms in the republic and in Northern Ireland.'>, <Tweet id=1527212495018024961 text='📣 Jolie white promo 📣\\n\\nA single button allows you to choose the desired amount of espresso every time! ☕\\n\\nAdd to cart now 🛒\\nhttps://t.co/sDD7zAIgh2\\n.\\n.\\n#lavazza #shoplocal #coffee #coffeelover #irishbusiness #coffeetime #lavazzacoffee #ireland https://t.co/f37OISfJDB'>, <Tweet id=1527187197912391680 text='@lidl_ni Why do you not stock Lactose Free Milk in your stores in Northern Ireland? I have been to several stores in Co.  Armagh and they never have your Lactose Free Milk. This forces me to go elsewhere for weekly food shop.'>, <Tweet id=1527181264129859585 text='The FDA to announce steps for the USA to import more baby #milk formula from countries like Mexico, Chile, Ireland, and the Netherlands.\\n\\nhttps://t.co/7y05Zqvqwh'>, <Tweet id=1527093433315209216 text=\"Ireland, in breadth, and for wholesomeness and serenity of climate, far surpasses Britain; for the snow scarcely ever lies there above three days: no man makes hay in the summer for winter's provision, or builds stables for his beasts of burden... the island abounds in milk and h\">, <Tweet id=1527061589974732800 text=\"@HomeSpunPuns Yes...I heard they were trying to source milk powder I believe..in Ireland...there's too many coincidences around Mr Gates.\">, <Tweet id=1527055864812683267 text='@Eibhln11 @capedjoosader @DarranMarshall @annaturley @alexhallhall Hold on with your sanctimonious whining. You sarcastically asked how Ireland made milk, not to whom they sell. \\nAnd if they want to keep on selling I suggest they urge the EU to stop being a stroppy ex girlfriend and get the hell over it.'>, <Tweet id=1527042629308977160 text=\"@capedjoosader @DarranMarshall @annaturley @alexhallhall I've read tweets in recent months from unionists stating that they would rather eat grass than live in an flourishing all Ireland economy, do they produce milk if they eat enough grass\">, <Tweet id=1527037451046244352 text=\"@capedjoosader @DarranMarshall @annaturley @alexhallhall if you're concerned about NI farms you're presumably concerned that NI dairy farmers can't process any of their milk in NI and must send it to Ireland for processing?\">, <Tweet id=1527028984843624448 text='@henryj17 @castlvillageman It makes no difference where the milk comes from, the processing of the milk into a milk product (cheese, etc.) determines the country of origin.\\n\\nE.G. If milk from France, UK, Spain, Ireland is mixed at a factory in Norway and turned into cheese, then the milk becomes NO origin.'>, <Tweet id=1527012069320425472 text=\"Heyo, I'm Captain Kitty. I come from Ireland. Did you know that oranges are orange? Absurd, yes? Take care of me, or I'll leave you only a drop of milk in the carton. I hope you go away!\">, <Tweet id=1526998660927594496 text=\"@Ride4Truth Over here in Ireland apparently the inflation rate is 8%. Can't say that I have seen it as such except in fuel prices. Did a big shop at aldi and the only thing increased in price that I could see was 3 litres of milk went up 30c. All other stuff prices held. For now.\">, <Tweet id=1526993738199089152 text='Milk Fat Fractions Market Worth Over $14 Billion by 2024. \\n\\nKey Players:\\nUelzena Ingredients, Royal VIVBuisman, Glanbia Ireland Ingredients, FLECHARD SAS, Fonterra \\n\\nRead More @ https://t.co/Bnk1zYp60F \\n\\n#milkfatfractions #milkfatfractionsmarket #milkfatfractionsindustry'>, <Tweet id=1526962883766231040 text=\"'The land of milk and honey promised by #BREXIT has not materialised... Northern Ireland was a far away place in the mind of the Brexiteers'. .. The #NIProtocol  is a process, not an event.' https://t.co/8Caj8MZvuQ\">, <Tweet id=1526929612768432134 text='@melatonin_milk Yeah they are. Exactly. It’s projection. It is true. They are flooding countries with mass immigration. Ireland is to take 200,000 Ukrainians. Meeker did it in 2015 after the US elites created havoc in Syria. They create wars, chaos, death, displace people from their land'>, <Tweet id=1526900897946685440 text='@capedjoosader @DarranMarshall @annaturley @alexhallhall Try looking into how milk etc is produced in Ireland genius 🤓🙄'>, <Tweet id=1526889598995075072 text='@capedjoosader @DarranMarshall @annaturley @alexhallhall Because many farmers in Northern Ireland sell there produce to large food processors across the border. Milk is a classic example of a product that crossed the border multiple times in its lifecycle.'>, <Tweet id=1526889450319527942 text='@lapsedmethodist Read the thread. All NI milk currently goes to the republic for processing then sent back,\\nEasy to remedy. Build a dairy in Northern Ireland more jobs less for the republic'>, <Tweet id=1526882787697074179 text='Not all of them are farms. A cow grazes a meadow in Northern Ireland but is milked in the Republic. Is the milk British or Irish?'>, <Tweet id=1526877186048856065 text='At present all milk produced in Northern Ireland goes to the republic to be processed then sent back.\\nWhy? Because there isn’t a processing plant.\\nThis is very easy to solve, you build one.\\nIt’s not complicated &amp; solves the border issue instantly &amp; created jobs for NI https://t.co/NVera1ZMKF'>, <Tweet id=1526872997314891776 text='@BillNew11845761 @DarranMarshall @annaturley @alexhallhall Well let’s see.\\nNorthern Irish milk could be processed in Northern Ireland.\\nIt’s not complicated to build a dairy'>, <Tweet id=1526861009427877888 text=\"@andrewhunterm Today I found out there is an official ISO standard for making tea: https://t.co/TpCroLgcOq, so we know it's first milk, then tea in the cup. Also, there is an official complaint from Ireland about the standard. Sadly, could not find an ISO coffee standard...\">, <Tweet id=1526834979711467523 text='We are delighted to welcome\\nPaolo Nutini\\nLive at the Milk Market #Limerick\\nSunday August 21st., 2022\\n\\nTickets on sale 9am Wednesday May 25th from Ticketmaster\\n\\n#dolanslimerick #Ireland @mcd_productions @milk_market @limerickcitybiz @TicketmasterIre \\nhttps://t.co/65gwUPI31W https://t.co/cGCzyUQ9jj'>, <Tweet id=1526832858240647174 text='Excited to reveal that Rebecca Lenkiewicz’s (IDA, DISOBEDIENCE)  directorial debut HOT MILK, the adaptation of Deborah Levy’s amazing novel will be coming home to @mubi in the UK, Ireland, Italy, LATAM and Turkey. \\n\\nhttps://t.co/eUtRsY9GOv https://t.co/Qrzn8mTXJs'>, <Tweet id=1526682175499915266 text=\"@GermanyDiplo @EU_Commission Business in Ireland is good.  We take the milk and processed it. It's a concept is the problem.  That the truth of an integrated economy means the union is damaged.  But the Unionist home is Scotland and they too want to go\">, <Tweet id=1526658023975944198 text='@DavidGHFrost @trussliz @FCdO I am sure the dairy farmers in the north east of Ireland are going to be delighted they won’t be selling their milk to the rest of Ireland any more.'>, <Tweet id=1526653656443105283 text='Balor of the evil eye stole a cow from Goibnui the smith\\nGive it back said Goibniu and give it back forthwith\\nThe cow was his prize possession and its skin was soft as silk\\nIt could feed the whole of Ireland and not run out of milk'>, <Tweet id=1526643735370600448 text=\"@SarahFourL @PrayForPatrick Growing up in rural Ireland these are the first Irish words they teach you. I forget 99.9% of the Irish I learned but I'll always remember random shit like muc is pig, bainne is milk &amp; luch is mouse.\">, <Tweet id=1526630168344797184 text='Reading that Ireland wants to bring out potato milk has gotta be the most Irish thing ever.'>, <Tweet id=1526624001472221186 text=\"@PaulineOHara12 @Luca31404488 The 8 square plain Dairy Milk (made in Dublin/Ireland) still tastes like the old recipe.  It hasn't been contaminated with palm oil - Yet.  I had one on Sunday and its still yum 😍\">, <Tweet id=1526605702852116480 text=\"Wouldn't this be amazing in Ireland, the UK,everywhere, where the default mothers own milk substitute is donor milk 🥰 https://t.co/uXydz5ak3L\">, <Tweet id=1526571713986809856 text=\"@RuairiTraderIRL @Goatofmcginty @ClaireByrneLive the do gooders don't want to deal with facts, prefer feeding into their delusions that ireland is a land of milk and honey\">, <Tweet id=1526563430307610624 text='@JP46251093 @lisaocarroll Tell us about animal feed used on NI farms which send 40% of their milk to Ireland and then as milk derivatives and cheese to Europe. Tell us about disease-carrying animals and plants. Tell us about American pig and chicken products.'>, <Tweet id=1526553538725298177 text='@lidl_ireland 20c increase in 2ltrs of whole milk since Friday, I hope the farmer and getting the increase in the price https://t.co/pAXBizvhKW'>, <Tweet id=1526552982937931776 text='@sadeyedsquaw America is now importing cows milk from Ireland for babies'>, <Tweet id=1526514938956722180 text=\"@CiaranDold Don't tell me Ireland also has milk bags\">, <Tweet id=1526472802265595905 text=\"Hints:\\n\\n- Milk doesn't come in those kinda containers in Ireland \\n- Those brands aren't available in Ireland \\n- Kwikspar is only available in SA (Ireland has Eurospar)\\n- District Six is not how Ireland refers to any kind of geographical subdivision\">, <Tweet id=1526462428254507011 text='The dairy sector’s growth had nothing to do with feeding Ireland and everything to do with profitability and exports including of powdered milk which directly impacts mother and child health and poverty. Stop spinning. https://t.co/nN49CSxGdB'>, <Tweet id=1526376181729222656 text=\"@Cernovich FDA once banned European baby milk.🤣\\nThat included vastly superior milk from Ireland, whose cows are grassfed foragers and one step from certified organic as standard.\\nI once consumed American 'milk' and 'butter'🤢\\n\\nWhy do American consumers tolerate contaminated toxic produce?\">, <Tweet id=1526336178097618945 text='Ireland leaving the EU would be ‘Irresistible for many reasons’ (just after they see how well Brexit goes for the UK) they will look at NI as the ‘land of milk and honey’ 🥛 🍯 you couldn’t write this stuff https://t.co/F6LYYuIBc6'>, <Tweet id=1526321115706150913 text=\"@nevillebagnall @TeagueRoger @DerrickBerthel1 @MPIainDS @KellerZoe @Kilsally Why?  If Ireland doesn't buy NI milk which will clearly comply with EU standards just like all exports to EU where does Ireland buy it from?\\n\\nAre you trying to be disingenuous or tick?\">, <Tweet id=1526319311043842055 text='@DerrickBerthel1 @nevillebagnall @TeagueRoger @MPIainDS @KellerZoe @Kilsally Look Irish farmers depend on NI milk !\\n\\nIf Ireland wants to FcUK up Irish butter &amp; cheese manufacture go ahead !!! But currently NI milk not checked at any border !!!\\n\\nHow does excise checking work pre &amp; post Brexit ?'>, <Tweet id=1526283399144648709 text='@HunterR82481525 @DiamondandSilk It’s worse than that, he’s bought up shares in synthetic breast milk and in Ireland babies have hepatitis.'>, <Tweet id=1526268704803241985 text='@pegobry Ireland 🇮🇪 is the biggest producer of baby formula produced from milk on Family Owned Dairy Farms'>, <Tweet id=1526263543594721283 text='@BremainInSpain N Ireland is the latest milk float for Johnson to hide in as he delays releasing the Sue Grey report. It is testament to his own shallowness that he somehow imagines that as he delays it people will forget that while he partied in Downing Streets their hearts were breaking.'>, <Tweet id=1526243354652073986 text='@B_E_Andre @SkiptomyLoulou I literally did that once when cycling in Ireland, hoping to find the 3p we were short for a bottle of milk for our tea in the morning. \\n\\nReader I found it (took about an hour and we covered almost every street in the small town we were in).'>, <Tweet id=1526218025531232257 text='@castlvillageman @ABridgen Republic of Ireland looking north to a land of milk and honey that has free trade deals ... Leaving the EU will be irresistible. 🤣'>, <Tweet id=1526212809352257536 text='@NevilleSouthall MILK IT DA FUCK LOVE FROM NORTHERN IRELAND'>, <Tweet id=1526200563477643272 text='@pegobry I just had a look at a random product here (ireland), the only difference,whey is 1st\\n\\nIngredients\\nWhey Protein (Milk), Vegetable Oils (Sunflower, Rapeseed), Lactose (Milk), Skimmed Milk, Long Chain Polyunsaturated Fatty Acids (DHA (Fish Oil), AA .(Mortierella Alpina Oil)),......'>, <Tweet id=1526126002774151168 text=\"@marlowsean @castlvillageman It is.\\nBut powdered milk from the USA imported to England, then ferried to NI and on into Ireland would not ensure it met EU standards. ( I won't use it in England because of US additives).\">, <Tweet id=1526094316665552896 text='@GNev2 Gary you don’t live in Northern Ireland and probably the last time you were here was playing in the milk cup as a schoolboy, so please don’t comment on something you know absolutely nothing about.'>, <Tweet id=1526050437299728386 text='@AngloScot2 @KnoxTony @hilarybennmp The UK wants to lower standards and do trade deals around the world. Obviously someone could import cheap low quality milk powder, smuggle it into Ireland, and export it as \"Irish\".\\n\\nIf you think this is silly, you don\\'t understand the world.'>, <Tweet id=1526043669689688065 text='@SharylAttkisson My cheese and butter are from Ireland, my coconut milk is from Thailand, my frozen berries are from South America and so is my amaranth and quinoa. My avocados and tomatoes are from Mexico. I do buy meat from a farmer near here.'>, <Tweet id=1526038953576452096 text=\"Yes, unless your English. Its irrelevant in Scotland and Ireland. Don't know about Wales as I haven't been there in over 55 years as they gave me tinned milk in my cornflakes FFS! I was damaged for life ever since..😂🤣😂 https://t.co/xOO1XonToi\">, <Tweet id=1526016108062552065 text='@TicklesMubbut @blueeyesgreene a milk jug and Ireland and some spread sheets'>, <Tweet id=1525969676911759360 text='@CitznOfNowhere @neilclan @OxfordDiplomat A border again in Ireland would destroy NI farming.  Most of their milk is processed in the republic. Most of their Easter lamb processed in the republic.  Destroying farming Incomes to mind a small political party.   Don’t see the sense'>, <Tweet id=1525937605820436482 text=\"@KnoxTony @hilarybennmp Why would people smuggle milk into Ireland to export it to China?\\n\\nThat must be the dumbest criminal business model I've ever heard of.\">, <Tweet id=1525932852549918720 text='@donalhassett1 Living away from Ireland, the things I have missed the most are good mashed potatoes, soda bread, potato bread, Golden crisp Dairy Milk, prawn cocktail Tayto crisps and of course Kerrygold butter!'>, <Tweet id=1525927404975292419 text=\"@hilarybennmp Please try to think into the mind of a smuggler who wants to pass off GB milk powder (GB's notoriously lax standards being the origin of BSE &amp; CJD) into the massively important Irish milk trade.\\n(Ireland supplies a huge amount of guaranteed safe formula milk to China.)\">, <Tweet id=1525885882745638912 text=\"@Purdyoaten1 @portabletato @damian_mcgenity @MichealMartinTD @LeoVaradkar @simoncoveney @ThomasByrneTD @nealerichmond @MaryLouMcDonald @moneillsf @columeastwood @naomi_long @MarosSefcovic Yep, if Truss's proposal were to be accepted, NI produced milk would be removed from sale in Ireland. It could not be processed in batches with Irish milk as it would risk contamination. Else UK aligns with EU rules on animal welfare and milk production, but that's been ruled out\">], includes={}, errors=[], meta={'newest_id': '1528397098797805568', 'oldest_id': '1525885882745638912', 'result_count': 100, 'next_token': 'b26v89c19zqg8o3fpywmwngwibely8g049zm9ms5xjngd'})"
      ]
     },
     "execution_count": 6,
     "metadata": {},
     "output_type": "execute_result"
    }
   ],
   "source": [
    "tweets"
   ]
  },
  {
   "cell_type": "code",
   "execution_count": 7,
   "id": "d935c671",
   "metadata": {},
   "outputs": [],
   "source": [
    "tweets.data[0].geo"
   ]
  },
  {
   "cell_type": "code",
   "execution_count": 8,
   "id": "a1e388fb",
   "metadata": {},
   "outputs": [
    {
     "data": {
      "text/plain": [
       "'Twitter for Android'"
      ]
     },
     "execution_count": 8,
     "metadata": {},
     "output_type": "execute_result"
    }
   ],
   "source": [
    "tweets.data[0].source"
   ]
  },
  {
   "cell_type": "code",
   "execution_count": 9,
   "id": "20907cb6",
   "metadata": {},
   "outputs": [
    {
     "data": {
      "text/plain": [
       "[{'domain': {'id': '152',\n",
       "   'name': 'Food',\n",
       "   'description': 'Topics about food, like Donuts or Brunch'},\n",
       "  'entity': {'id': '850419241790472192',\n",
       "   'name': 'Milk',\n",
       "   'description': 'Milk'}},\n",
       " {'domain': {'id': '173',\n",
       "   'name': 'Google Product Taxonomy',\n",
       "   'description': 'A product taxonomy created by Google'},\n",
       "  'entity': {'id': '850419241790472192',\n",
       "   'name': 'Milk',\n",
       "   'description': 'Milk'}},\n",
       " {'domain': {'id': '65',\n",
       "   'name': 'Interests and Hobbies Vertical',\n",
       "   'description': 'Top level interests and hobbies groupings, like Food or Travel'},\n",
       "  'entity': {'id': '847896364256067584',\n",
       "   'name': 'Society',\n",
       "   'description': 'Society'}},\n",
       " {'domain': {'id': '66',\n",
       "   'name': 'Interests and Hobbies Category',\n",
       "   'description': 'A grouping of interests and hobbies entities, like Novelty Food or Destinations'},\n",
       "  'entity': {'id': '847896538105782272',\n",
       "   'name': 'Marriage',\n",
       "   'description': 'Marriage'}}]"
      ]
     },
     "execution_count": 9,
     "metadata": {},
     "output_type": "execute_result"
    }
   ],
   "source": [
    "tweets.data[0].context_annotations"
   ]
  },
  {
   "cell_type": "code",
   "execution_count": 10,
   "id": "484f0893",
   "metadata": {
    "scrolled": true
   },
   "outputs": [],
   "source": [
    "tweets_ireland = {}\n",
    "tweets_ireland[\"tweet\"] = []\n",
    "for tweet in tweets.data:\n",
    "    tweets_ireland[\"tweet\"].append(tweet.text)"
   ]
  },
  {
   "cell_type": "code",
   "execution_count": 11,
   "id": "b2692681",
   "metadata": {},
   "outputs": [],
   "source": [
    "df_ireland = pd.DataFrame(tweets_ireland)"
   ]
  },
  {
   "cell_type": "code",
   "execution_count": 12,
   "id": "090a420e",
   "metadata": {},
   "outputs": [],
   "source": [
    "df_ireland[\"tweet\"] = df_ireland[\"tweet\"].str.replace(\"\\n\",\"\")"
   ]
  },
  {
   "cell_type": "code",
   "execution_count": 13,
   "id": "75732c50",
   "metadata": {},
   "outputs": [
    {
     "data": {
      "text/html": [
       "<div>\n",
       "<style scoped>\n",
       "    .dataframe tbody tr th:only-of-type {\n",
       "        vertical-align: middle;\n",
       "    }\n",
       "\n",
       "    .dataframe tbody tr th {\n",
       "        vertical-align: top;\n",
       "    }\n",
       "\n",
       "    .dataframe thead th {\n",
       "        text-align: right;\n",
       "    }\n",
       "</style>\n",
       "<table border=\"1\" class=\"dataframe\">\n",
       "  <thead>\n",
       "    <tr style=\"text-align: right;\">\n",
       "      <th></th>\n",
       "      <th>tweet</th>\n",
       "    </tr>\n",
       "  </thead>\n",
       "  <tbody>\n",
       "    <tr>\n",
       "      <th>0</th>\n",
       "      <td>Harvey Milk, one of the first openly gay US po...</td>\n",
       "    </tr>\n",
       "    <tr>\n",
       "      <th>1</th>\n",
       "      <td>Not only is it Irish Marriage Referendum Day (...</td>\n",
       "    </tr>\n",
       "    <tr>\n",
       "      <th>2</th>\n",
       "      <td>@c_tiot Bloody right mate, I'm from Ireland, t...</td>\n",
       "    </tr>\n",
       "    <tr>\n",
       "      <th>3</th>\n",
       "      <td>On Sunday's we STACK 🥰Join us for live music, ...</td>\n",
       "    </tr>\n",
       "    <tr>\n",
       "      <th>4</th>\n",
       "      <td>@Mozzer2015 @LePatissier1 @Aldi_Ireland @Tesco...</td>\n",
       "    </tr>\n",
       "    <tr>\n",
       "      <th>...</th>\n",
       "      <td>...</td>\n",
       "    </tr>\n",
       "    <tr>\n",
       "      <th>95</th>\n",
       "      <td>@CitznOfNowhere @neilclan @OxfordDiplomat A bo...</td>\n",
       "    </tr>\n",
       "    <tr>\n",
       "      <th>96</th>\n",
       "      <td>@KnoxTony @hilarybennmp Why would people smugg...</td>\n",
       "    </tr>\n",
       "    <tr>\n",
       "      <th>97</th>\n",
       "      <td>@donalhassett1 Living away from Ireland, the t...</td>\n",
       "    </tr>\n",
       "    <tr>\n",
       "      <th>98</th>\n",
       "      <td>@hilarybennmp Please try to think into the min...</td>\n",
       "    </tr>\n",
       "    <tr>\n",
       "      <th>99</th>\n",
       "      <td>@Purdyoaten1 @portabletato @damian_mcgenity @M...</td>\n",
       "    </tr>\n",
       "  </tbody>\n",
       "</table>\n",
       "<p>100 rows × 1 columns</p>\n",
       "</div>"
      ],
      "text/plain": [
       "                                                tweet\n",
       "0   Harvey Milk, one of the first openly gay US po...\n",
       "1   Not only is it Irish Marriage Referendum Day (...\n",
       "2   @c_tiot Bloody right mate, I'm from Ireland, t...\n",
       "3   On Sunday's we STACK 🥰Join us for live music, ...\n",
       "4   @Mozzer2015 @LePatissier1 @Aldi_Ireland @Tesco...\n",
       "..                                                ...\n",
       "95  @CitznOfNowhere @neilclan @OxfordDiplomat A bo...\n",
       "96  @KnoxTony @hilarybennmp Why would people smugg...\n",
       "97  @donalhassett1 Living away from Ireland, the t...\n",
       "98  @hilarybennmp Please try to think into the min...\n",
       "99  @Purdyoaten1 @portabletato @damian_mcgenity @M...\n",
       "\n",
       "[100 rows x 1 columns]"
      ]
     },
     "execution_count": 13,
     "metadata": {},
     "output_type": "execute_result"
    }
   ],
   "source": [
    "df_ireland"
   ]
  },
  {
   "cell_type": "code",
   "execution_count": 14,
   "id": "e15aa194",
   "metadata": {},
   "outputs": [],
   "source": [
    "query = '''us milk -is:retweet lang:en'''\n",
    "tweets = client.search_recent_tweets(query=query,\n",
    "                                     tweet_fields = [\"geo\", \"text\", \"source\", \"context_annotations\"],\n",
    "                                     user_fields = [\"location\"],\n",
    "                                     max_results = 100,\n",
    "                                     )"
   ]
  },
  {
   "cell_type": "code",
   "execution_count": 15,
   "id": "7ea3e1f7",
   "metadata": {},
   "outputs": [],
   "source": [
    "tweets_us = {}\n",
    "tweets_us[\"tweet\"] = []\n",
    "for tweet in tweets.data:\n",
    "    tweets_us[\"tweet\"].append(tweet.text)"
   ]
  },
  {
   "cell_type": "code",
   "execution_count": 16,
   "id": "410a5635",
   "metadata": {},
   "outputs": [],
   "source": [
    "df_us = pd.DataFrame(tweets_us)"
   ]
  },
  {
   "cell_type": "code",
   "execution_count": 17,
   "id": "284fc12b",
   "metadata": {},
   "outputs": [],
   "source": [
    "df_us[\"tweet\"] = df_us[\"tweet\"].str.replace(\"\\n\",\"\")"
   ]
  },
  {
   "cell_type": "code",
   "execution_count": 18,
   "id": "6b00ca02",
   "metadata": {},
   "outputs": [
    {
     "data": {
      "text/html": [
       "<div>\n",
       "<style scoped>\n",
       "    .dataframe tbody tr th:only-of-type {\n",
       "        vertical-align: middle;\n",
       "    }\n",
       "\n",
       "    .dataframe tbody tr th {\n",
       "        vertical-align: top;\n",
       "    }\n",
       "\n",
       "    .dataframe thead th {\n",
       "        text-align: right;\n",
       "    }\n",
       "</style>\n",
       "<table border=\"1\" class=\"dataframe\">\n",
       "  <thead>\n",
       "    <tr style=\"text-align: right;\">\n",
       "      <th></th>\n",
       "      <th>tweet</th>\n",
       "    </tr>\n",
       "  </thead>\n",
       "  <tbody>\n",
       "    <tr>\n",
       "      <th>0</th>\n",
       "      <td>Happy #HarveyMilkDayTo think of Harvey Milk to...</td>\n",
       "    </tr>\n",
       "    <tr>\n",
       "      <th>1</th>\n",
       "      <td>NYC street food vendor attacked in Times Squar...</td>\n",
       "    </tr>\n",
       "    <tr>\n",
       "      <th>2</th>\n",
       "      <td>@AP Capitalism failure in US milk formula supply</td>\n",
       "    </tr>\n",
       "    <tr>\n",
       "      <th>3</th>\n",
       "      <td>@spanishcossack @RALee85 Fuck your own people ...</td>\n",
       "    </tr>\n",
       "    <tr>\n",
       "      <th>4</th>\n",
       "      <td>Most baby formula sold in the US is cow’s milk...</td>\n",
       "    </tr>\n",
       "    <tr>\n",
       "      <th>...</th>\n",
       "      <td>...</td>\n",
       "    </tr>\n",
       "    <tr>\n",
       "      <th>95</th>\n",
       "      <td>@ASAPfugo @thefaerest Wait this makes sense ca...</td>\n",
       "    </tr>\n",
       "    <tr>\n",
       "      <th>96</th>\n",
       "      <td>The evidence has been with us all along, and f...</td>\n",
       "    </tr>\n",
       "    <tr>\n",
       "      <th>97</th>\n",
       "      <td>NYC street food vendor attacked in Times Squar...</td>\n",
       "    </tr>\n",
       "    <tr>\n",
       "      <th>98</th>\n",
       "      <td>@zimmermannwife milk and mocha are an alternat...</td>\n",
       "    </tr>\n",
       "    <tr>\n",
       "      <th>99</th>\n",
       "      <td>NYC street food vendor attacked in Times Squar...</td>\n",
       "    </tr>\n",
       "  </tbody>\n",
       "</table>\n",
       "<p>100 rows × 1 columns</p>\n",
       "</div>"
      ],
      "text/plain": [
       "                                                tweet\n",
       "0   Happy #HarveyMilkDayTo think of Harvey Milk to...\n",
       "1   NYC street food vendor attacked in Times Squar...\n",
       "2    @AP Capitalism failure in US milk formula supply\n",
       "3   @spanishcossack @RALee85 Fuck your own people ...\n",
       "4   Most baby formula sold in the US is cow’s milk...\n",
       "..                                                ...\n",
       "95  @ASAPfugo @thefaerest Wait this makes sense ca...\n",
       "96  The evidence has been with us all along, and f...\n",
       "97  NYC street food vendor attacked in Times Squar...\n",
       "98  @zimmermannwife milk and mocha are an alternat...\n",
       "99  NYC street food vendor attacked in Times Squar...\n",
       "\n",
       "[100 rows x 1 columns]"
      ]
     },
     "execution_count": 18,
     "metadata": {},
     "output_type": "execute_result"
    }
   ],
   "source": [
    "df_us"
   ]
  },
  {
   "cell_type": "markdown",
   "id": "62200b09",
   "metadata": {},
   "source": [
    "### Machine Learning"
   ]
  },
  {
   "cell_type": "markdown",
   "id": "6dc8ad50",
   "metadata": {},
   "source": [
    "#### data frame used in class to train the model "
   ]
  },
  {
   "cell_type": "code",
   "execution_count": 19,
   "id": "0e31fc0a",
   "metadata": {},
   "outputs": [],
   "source": [
    "df = pd.read_csv('../data/clothing_review.csv')"
   ]
  },
  {
   "cell_type": "code",
   "execution_count": 20,
   "id": "bd152dd6",
   "metadata": {},
   "outputs": [],
   "source": [
    "df = df.drop(['Title', 'Positive Feedback Count', 'Unnamed: 0', ], axis=1)\n",
    "df.dropna(inplace=True)"
   ]
  },
  {
   "cell_type": "code",
   "execution_count": 21,
   "id": "d050293e",
   "metadata": {},
   "outputs": [],
   "source": [
    "df['Polarity_Rating'] = df['Rating'].apply(lambda x: 'Positive' if x > 3 else('Neutral' if x == 3  else 'Negative'))"
   ]
  },
  {
   "cell_type": "code",
   "execution_count": 22,
   "id": "301b8fca",
   "metadata": {},
   "outputs": [],
   "source": [
    "df_Positive = df[df['Polarity_Rating'] == 'Positive'][0:8000]\n",
    "df_Neutral = df[df['Polarity_Rating'] == 'Neutral']\n",
    "df_Negative = df[df['Polarity_Rating'] == 'Negative']"
   ]
  },
  {
   "cell_type": "code",
   "execution_count": 23,
   "id": "e2afe125",
   "metadata": {},
   "outputs": [],
   "source": [
    "df_Neutral_over = df_Neutral.sample(8000, replace=True)\n",
    "df_Negative_over = df_Negative.sample(8000, replace=True)\n",
    "df = pd.concat([df_Positive, df_Neutral_over, df_Negative_over], axis=0)"
   ]
  },
  {
   "cell_type": "code",
   "execution_count": 24,
   "id": "03cb16bb",
   "metadata": {},
   "outputs": [],
   "source": [
    "def get_text_processing(text):\n",
    "    stpword = stopwords.words('english')\n",
    "    no_punctuation = [char for char in text if char not in string.punctuation]\n",
    "    no_punctuation = ''.join(no_punctuation)\n",
    "    return ' '.join([word for word in no_punctuation.split() if word.lower() not in stpword])"
   ]
  },
  {
   "cell_type": "code",
   "execution_count": 25,
   "id": "9d04a3ab",
   "metadata": {},
   "outputs": [],
   "source": [
    "df['review'] = df['Review Text'].apply(get_text_processing)"
   ]
  },
  {
   "cell_type": "code",
   "execution_count": 26,
   "id": "291d4028",
   "metadata": {},
   "outputs": [],
   "source": [
    "df = df[['review', 'Polarity_Rating']]"
   ]
  },
  {
   "cell_type": "code",
   "execution_count": 27,
   "id": "46e2b37a",
   "metadata": {},
   "outputs": [
    {
     "data": {
      "text/html": [
       "<div>\n",
       "<style scoped>\n",
       "    .dataframe tbody tr th:only-of-type {\n",
       "        vertical-align: middle;\n",
       "    }\n",
       "\n",
       "    .dataframe tbody tr th {\n",
       "        vertical-align: top;\n",
       "    }\n",
       "\n",
       "    .dataframe thead th {\n",
       "        text-align: right;\n",
       "    }\n",
       "</style>\n",
       "<table border=\"1\" class=\"dataframe\">\n",
       "  <thead>\n",
       "    <tr style=\"text-align: right;\">\n",
       "      <th></th>\n",
       "      <th>review</th>\n",
       "      <th>Polarity_Rating</th>\n",
       "    </tr>\n",
       "  </thead>\n",
       "  <tbody>\n",
       "    <tr>\n",
       "      <th>0</th>\n",
       "      <td>Absolutely wonderful silky sexy comfortable</td>\n",
       "      <td>Positive</td>\n",
       "    </tr>\n",
       "    <tr>\n",
       "      <th>1</th>\n",
       "      <td>Love dress sooo pretty happened find store im ...</td>\n",
       "      <td>Positive</td>\n",
       "    </tr>\n",
       "    <tr>\n",
       "      <th>3</th>\n",
       "      <td>love love love jumpsuit fun flirty fabulous ev...</td>\n",
       "      <td>Positive</td>\n",
       "    </tr>\n",
       "    <tr>\n",
       "      <th>4</th>\n",
       "      <td>shirt flattering due adjustable front tie perf...</td>\n",
       "      <td>Positive</td>\n",
       "    </tr>\n",
       "    <tr>\n",
       "      <th>6</th>\n",
       "      <td>aded basket hte last mintue see would look lik...</td>\n",
       "      <td>Positive</td>\n",
       "    </tr>\n",
       "    <tr>\n",
       "      <th>...</th>\n",
       "      <td>...</td>\n",
       "      <td>...</td>\n",
       "    </tr>\n",
       "    <tr>\n",
       "      <th>8697</th>\n",
       "      <td>couldnt wait get top mail since didnt local re...</td>\n",
       "      <td>Negative</td>\n",
       "    </tr>\n",
       "    <tr>\n",
       "      <th>19275</th>\n",
       "      <td>looked like simple chic blouse fabric felt che...</td>\n",
       "      <td>Negative</td>\n",
       "    </tr>\n",
       "    <tr>\n",
       "      <th>6458</th>\n",
       "      <td>Wow sure close fitting suction cups body yikes...</td>\n",
       "      <td>Negative</td>\n",
       "    </tr>\n",
       "    <tr>\n",
       "      <th>2612</th>\n",
       "      <td>fabric texture didnt meet expectations unfortu...</td>\n",
       "      <td>Negative</td>\n",
       "    </tr>\n",
       "    <tr>\n",
       "      <th>11803</th>\n",
       "      <td>saw dress online thought perfectly cute howeve...</td>\n",
       "      <td>Negative</td>\n",
       "    </tr>\n",
       "  </tbody>\n",
       "</table>\n",
       "<p>24000 rows × 2 columns</p>\n",
       "</div>"
      ],
      "text/plain": [
       "                                                  review Polarity_Rating\n",
       "0            Absolutely wonderful silky sexy comfortable        Positive\n",
       "1      Love dress sooo pretty happened find store im ...        Positive\n",
       "3      love love love jumpsuit fun flirty fabulous ev...        Positive\n",
       "4      shirt flattering due adjustable front tie perf...        Positive\n",
       "6      aded basket hte last mintue see would look lik...        Positive\n",
       "...                                                  ...             ...\n",
       "8697   couldnt wait get top mail since didnt local re...        Negative\n",
       "19275  looked like simple chic blouse fabric felt che...        Negative\n",
       "6458   Wow sure close fitting suction cups body yikes...        Negative\n",
       "2612   fabric texture didnt meet expectations unfortu...        Negative\n",
       "11803  saw dress online thought perfectly cute howeve...        Negative\n",
       "\n",
       "[24000 rows x 2 columns]"
      ]
     },
     "execution_count": 27,
     "metadata": {},
     "output_type": "execute_result"
    }
   ],
   "source": [
    "df"
   ]
  },
  {
   "cell_type": "code",
   "execution_count": 28,
   "id": "d1725ed4",
   "metadata": {},
   "outputs": [],
   "source": [
    "one_hot = pd.get_dummies(df[\"Polarity_Rating\"])\n",
    "df_ = df.copy()\n",
    "df_.drop(['Polarity_Rating'],axis=1,inplace=True)\n",
    "df_ = pd.concat([df_,one_hot],axis=1)"
   ]
  },
  {
   "cell_type": "code",
   "execution_count": 29,
   "id": "4104a391",
   "metadata": {},
   "outputs": [
    {
     "data": {
      "text/html": [
       "<div>\n",
       "<style scoped>\n",
       "    .dataframe tbody tr th:only-of-type {\n",
       "        vertical-align: middle;\n",
       "    }\n",
       "\n",
       "    .dataframe tbody tr th {\n",
       "        vertical-align: top;\n",
       "    }\n",
       "\n",
       "    .dataframe thead th {\n",
       "        text-align: right;\n",
       "    }\n",
       "</style>\n",
       "<table border=\"1\" class=\"dataframe\">\n",
       "  <thead>\n",
       "    <tr style=\"text-align: right;\">\n",
       "      <th></th>\n",
       "      <th>review</th>\n",
       "      <th>Negative</th>\n",
       "      <th>Neutral</th>\n",
       "      <th>Positive</th>\n",
       "    </tr>\n",
       "  </thead>\n",
       "  <tbody>\n",
       "    <tr>\n",
       "      <th>0</th>\n",
       "      <td>Absolutely wonderful silky sexy comfortable</td>\n",
       "      <td>0</td>\n",
       "      <td>0</td>\n",
       "      <td>1</td>\n",
       "    </tr>\n",
       "    <tr>\n",
       "      <th>1</th>\n",
       "      <td>Love dress sooo pretty happened find store im ...</td>\n",
       "      <td>0</td>\n",
       "      <td>0</td>\n",
       "      <td>1</td>\n",
       "    </tr>\n",
       "    <tr>\n",
       "      <th>3</th>\n",
       "      <td>love love love jumpsuit fun flirty fabulous ev...</td>\n",
       "      <td>0</td>\n",
       "      <td>0</td>\n",
       "      <td>1</td>\n",
       "    </tr>\n",
       "    <tr>\n",
       "      <th>4</th>\n",
       "      <td>shirt flattering due adjustable front tie perf...</td>\n",
       "      <td>0</td>\n",
       "      <td>0</td>\n",
       "      <td>1</td>\n",
       "    </tr>\n",
       "    <tr>\n",
       "      <th>6</th>\n",
       "      <td>aded basket hte last mintue see would look lik...</td>\n",
       "      <td>0</td>\n",
       "      <td>0</td>\n",
       "      <td>1</td>\n",
       "    </tr>\n",
       "    <tr>\n",
       "      <th>...</th>\n",
       "      <td>...</td>\n",
       "      <td>...</td>\n",
       "      <td>...</td>\n",
       "      <td>...</td>\n",
       "    </tr>\n",
       "    <tr>\n",
       "      <th>8697</th>\n",
       "      <td>couldnt wait get top mail since didnt local re...</td>\n",
       "      <td>1</td>\n",
       "      <td>0</td>\n",
       "      <td>0</td>\n",
       "    </tr>\n",
       "    <tr>\n",
       "      <th>19275</th>\n",
       "      <td>looked like simple chic blouse fabric felt che...</td>\n",
       "      <td>1</td>\n",
       "      <td>0</td>\n",
       "      <td>0</td>\n",
       "    </tr>\n",
       "    <tr>\n",
       "      <th>6458</th>\n",
       "      <td>Wow sure close fitting suction cups body yikes...</td>\n",
       "      <td>1</td>\n",
       "      <td>0</td>\n",
       "      <td>0</td>\n",
       "    </tr>\n",
       "    <tr>\n",
       "      <th>2612</th>\n",
       "      <td>fabric texture didnt meet expectations unfortu...</td>\n",
       "      <td>1</td>\n",
       "      <td>0</td>\n",
       "      <td>0</td>\n",
       "    </tr>\n",
       "    <tr>\n",
       "      <th>11803</th>\n",
       "      <td>saw dress online thought perfectly cute howeve...</td>\n",
       "      <td>1</td>\n",
       "      <td>0</td>\n",
       "      <td>0</td>\n",
       "    </tr>\n",
       "  </tbody>\n",
       "</table>\n",
       "<p>24000 rows × 4 columns</p>\n",
       "</div>"
      ],
      "text/plain": [
       "                                                  review  Negative  Neutral  \\\n",
       "0            Absolutely wonderful silky sexy comfortable         0        0   \n",
       "1      Love dress sooo pretty happened find store im ...         0        0   \n",
       "3      love love love jumpsuit fun flirty fabulous ev...         0        0   \n",
       "4      shirt flattering due adjustable front tie perf...         0        0   \n",
       "6      aded basket hte last mintue see would look lik...         0        0   \n",
       "...                                                  ...       ...      ...   \n",
       "8697   couldnt wait get top mail since didnt local re...         1        0   \n",
       "19275  looked like simple chic blouse fabric felt che...         1        0   \n",
       "6458   Wow sure close fitting suction cups body yikes...         1        0   \n",
       "2612   fabric texture didnt meet expectations unfortu...         1        0   \n",
       "11803  saw dress online thought perfectly cute howeve...         1        0   \n",
       "\n",
       "       Positive  \n",
       "0             1  \n",
       "1             1  \n",
       "3             1  \n",
       "4             1  \n",
       "6             1  \n",
       "...         ...  \n",
       "8697          0  \n",
       "19275         0  \n",
       "6458          0  \n",
       "2612          0  \n",
       "11803         0  \n",
       "\n",
       "[24000 rows x 4 columns]"
      ]
     },
     "execution_count": 29,
     "metadata": {},
     "output_type": "execute_result"
    }
   ],
   "source": [
    "df_"
   ]
  },
  {
   "cell_type": "code",
   "execution_count": 30,
   "id": "7969de0f",
   "metadata": {},
   "outputs": [],
   "source": [
    "X = df_['review'].values\n",
    "y = df_.drop('review', axis=1).values\n",
    "X_train, X_test, y_train, y_test = train_test_split(X, y, test_size=0.30, random_state=42)"
   ]
  },
  {
   "cell_type": "code",
   "execution_count": 31,
   "id": "7f00d774",
   "metadata": {},
   "outputs": [],
   "source": [
    "vect = CountVectorizer(max_features=5000)\n",
    "X_train = vect.fit_transform(X_train)\n",
    "X_test = vect.transform(X_test)"
   ]
  },
  {
   "cell_type": "code",
   "execution_count": 32,
   "id": "b68d9986",
   "metadata": {},
   "outputs": [],
   "source": [
    "tfidf = TfidfTransformer()\n",
    "X_train = tfidf.fit_transform(X_train)\n",
    "X_test = tfidf.transform(X_test)\n",
    "X_train = X_train.toarray()\n",
    "X_test = X_test.toarray()"
   ]
  },
  {
   "cell_type": "code",
   "execution_count": 33,
   "id": "d081b101",
   "metadata": {},
   "outputs": [],
   "source": [
    "model = Sequential()\n",
    "\n",
    "model.add(Dense(units=5000,activation='relu'))\n",
    "model.add(Dropout(0.5))\n",
    "\n",
    "model.add(Dense(units=400,activation='relu'))\n",
    "model.add(Dropout(0.5))\n",
    "\n",
    "model.add(Dense(units=100,activation='relu'))\n",
    "model.add(Dropout(0.5))\n",
    "\n",
    "model.add(Dense(units=3, activation='softmax'))\n",
    "\n",
    "opt=tf.keras.optimizers.Adam(learning_rate=0.001)\n",
    "model.compile(loss='categorical_crossentropy', optimizer=opt, metrics=['accuracy'])\n",
    "\n",
    "early_stop = EarlyStopping(monitor='val_loss', mode='min', verbose=1, patience=2)"
   ]
  },
  {
   "cell_type": "code",
   "execution_count": 38,
   "id": "8aee0572",
   "metadata": {},
   "outputs": [
    {
     "name": "stdout",
     "output_type": "stream",
     "text": [
      "Epoch 1/100\n",
      "66/66 [==============================] - 17s 252ms/step - loss: 0.7561 - accuracy: 0.6513 - val_loss: 0.4601 - val_accuracy: 0.8242\n",
      "Epoch 2/100\n",
      "66/66 [==============================] - 19s 282ms/step - loss: 0.2632 - accuracy: 0.9121 - val_loss: 0.3180 - val_accuracy: 0.8922\n",
      "Epoch 3/100\n",
      "66/66 [==============================] - 16s 243ms/step - loss: 0.0798 - accuracy: 0.9774 - val_loss: 0.2913 - val_accuracy: 0.9183\n",
      "Epoch 4/100\n",
      "66/66 [==============================] - 16s 238ms/step - loss: 0.0208 - accuracy: 0.9952 - val_loss: 0.3854 - val_accuracy: 0.9106\n",
      "Epoch 5/100\n",
      "66/66 [==============================] - 15s 233ms/step - loss: 0.0084 - accuracy: 0.9981 - val_loss: 0.3911 - val_accuracy: 0.9211\n",
      "Epoch 00005: early stopping\n"
     ]
    },
    {
     "data": {
      "text/plain": [
       "<keras.callbacks.History at 0x1f7bd559040>"
      ]
     },
     "execution_count": 38,
     "metadata": {},
     "output_type": "execute_result"
    }
   ],
   "source": [
    "model.fit(x=X_train, y=y_train, batch_size=256, epochs=100, validation_data=(X_test, y_test), verbose=1, callbacks=early_stop)"
   ]
  },
  {
   "cell_type": "code",
   "execution_count": 39,
   "id": "dccb35ad",
   "metadata": {},
   "outputs": [
    {
     "name": "stdout",
     "output_type": "stream",
     "text": [
      "113/113 [==============================] - 4s 33ms/step - loss: 0.3911 - accuracy: 0.9211\n",
      "Test accuracy: 0.9211111068725586\n"
     ]
    }
   ],
   "source": [
    "model_score = model.evaluate(X_test, y_test, batch_size=64, verbose=1)\n",
    "print('Test accuracy:', model_score[1])"
   ]
  },
  {
   "cell_type": "code",
   "execution_count": 40,
   "id": "2d392803",
   "metadata": {},
   "outputs": [],
   "source": [
    "sid = SentimentIntensityAnalyzer()"
   ]
  },
  {
   "cell_type": "code",
   "execution_count": 41,
   "id": "0773ad6b",
   "metadata": {},
   "outputs": [],
   "source": [
    "X = df['review'].values\n",
    "y = df.drop('review', axis=1).values\n",
    "X_train, X_test, y_train, y_test = train_test_split(X, y, test_size=0.30, random_state=42)"
   ]
  },
  {
   "cell_type": "code",
   "execution_count": 42,
   "id": "fc5f6c69",
   "metadata": {},
   "outputs": [
    {
     "data": {
      "text/plain": [
       "array(['price amazing goes everything fits great glad made purchase',\n",
       "       'Im 57 130 lbs ordered mediumregular dress fell three inches knees model taller falls kneesdoesnt make sense think retailer sends petites place regular',\n",
       "       'Adorable foxes smitten store fix bizarre foxes dont come high youre limited length wear bought ml based salesperson advice cant imagine trying anything smaller usually wear size 4 bottom super snug back store went',\n",
       "       ...,\n",
       "       'Love retailers kimonos saw pattern unfortunately bought tag already showing holes gave 15 went wear first time already huge snag love retailer 98 worth money',\n",
       "       'purchased dress 50th birthday bash stunning fit perfect buy size could worn regular size incredibly flattering elegant well made one go black dresses summer',\n",
       "       'great dark wash fit true size every stevies reference 56 145lbs size 6m 29 fit perfect bit long fold looks cute highly recommend especially since sale definitely closet staple'],\n",
       "      dtype=object)"
      ]
     },
     "execution_count": 42,
     "metadata": {},
     "output_type": "execute_result"
    }
   ],
   "source": [
    "X_test"
   ]
  },
  {
   "cell_type": "code",
   "execution_count": 43,
   "id": "1885f4ad",
   "metadata": {},
   "outputs": [],
   "source": [
    "results = []\n",
    "for text in X_test:\n",
    "    result = sid.polarity_scores(text)[\"compound\"]\n",
    "    if result < -0.05:\n",
    "        results.append(\"Negative\")\n",
    "    elif result < 0.05:\n",
    "        results.append(\"Neutral\")\n",
    "    else:\n",
    "        results.append(\"Positive\")"
   ]
  },
  {
   "cell_type": "code",
   "execution_count": 44,
   "id": "304ff7a3",
   "metadata": {},
   "outputs": [],
   "source": [
    "results = np.array(results)"
   ]
  },
  {
   "cell_type": "code",
   "execution_count": 45,
   "id": "a46fbd94",
   "metadata": {
    "scrolled": true
   },
   "outputs": [
    {
     "data": {
      "text/plain": [
       "array([['Positive'],\n",
       "       ['Negative'],\n",
       "       ['Negative'],\n",
       "       ...,\n",
       "       ['Negative'],\n",
       "       ['Positive'],\n",
       "       ['Positive']], dtype=object)"
      ]
     },
     "execution_count": 45,
     "metadata": {},
     "output_type": "execute_result"
    }
   ],
   "source": [
    "y_test"
   ]
  },
  {
   "cell_type": "code",
   "execution_count": 46,
   "id": "d5db955f",
   "metadata": {},
   "outputs": [
    {
     "data": {
      "text/plain": [
       "0.38027777777777777"
      ]
     },
     "execution_count": 46,
     "metadata": {},
     "output_type": "execute_result"
    }
   ],
   "source": [
    "accuracy_score(y_test,results)"
   ]
  },
  {
   "cell_type": "markdown",
   "id": "7b50a691",
   "metadata": {},
   "source": [
    "#### Test  the Reserach model Twitter Milk - Data Frame collected on  research "
   ]
  },
  {
   "cell_type": "code",
   "execution_count": 47,
   "id": "b2be64ae",
   "metadata": {},
   "outputs": [],
   "source": [
    "df_ireland['tweet'] = df_ireland['tweet'].apply(get_text_processing)\n",
    "df_us['tweet'] = df_us['tweet'].apply(get_text_processing)"
   ]
  },
  {
   "cell_type": "code",
   "execution_count": 48,
   "id": "a44d2019",
   "metadata": {},
   "outputs": [
    {
     "data": {
      "text/html": [
       "<div>\n",
       "<style scoped>\n",
       "    .dataframe tbody tr th:only-of-type {\n",
       "        vertical-align: middle;\n",
       "    }\n",
       "\n",
       "    .dataframe tbody tr th {\n",
       "        vertical-align: top;\n",
       "    }\n",
       "\n",
       "    .dataframe thead th {\n",
       "        text-align: right;\n",
       "    }\n",
       "</style>\n",
       "<table border=\"1\" class=\"dataframe\">\n",
       "  <thead>\n",
       "    <tr style=\"text-align: right;\">\n",
       "      <th></th>\n",
       "      <th>tweet</th>\n",
       "    </tr>\n",
       "  </thead>\n",
       "  <tbody>\n",
       "    <tr>\n",
       "      <th>0</th>\n",
       "      <td>Ride4Truth Ireland apparently inflation rate 8...</td>\n",
       "    </tr>\n",
       "    <tr>\n",
       "      <th>1</th>\n",
       "      <td>Milk Fat Fractions Market Worth 14 Billion 202...</td>\n",
       "    </tr>\n",
       "    <tr>\n",
       "      <th>2</th>\n",
       "      <td>land milk honey promised BREXIT materialised N...</td>\n",
       "    </tr>\n",
       "    <tr>\n",
       "      <th>3</th>\n",
       "      <td>melatoninmilk Yeah Exactly It’s projection tru...</td>\n",
       "    </tr>\n",
       "    <tr>\n",
       "      <th>4</th>\n",
       "      <td>capedjoosader DarranMarshall annaturley alexha...</td>\n",
       "    </tr>\n",
       "    <tr>\n",
       "      <th>...</th>\n",
       "      <td>...</td>\n",
       "    </tr>\n",
       "    <tr>\n",
       "      <th>95</th>\n",
       "      <td>Someone actually tried bring 2 litres milk air...</td>\n",
       "    </tr>\n",
       "    <tr>\n",
       "      <th>96</th>\n",
       "      <td>yesterday six one news Ireland heard people ta...</td>\n",
       "    </tr>\n",
       "    <tr>\n",
       "      <th>97</th>\n",
       "      <td>johnmcguirk jasonomahony Indeed many opportuni...</td>\n",
       "    </tr>\n",
       "    <tr>\n",
       "      <th>98</th>\n",
       "      <td>Republic Ireland fixed milk volumes receive 8c...</td>\n",
       "    </tr>\n",
       "    <tr>\n",
       "      <th>99</th>\n",
       "      <td>roamer99 Kilsally JamieBrysonCPNI need shut bo...</td>\n",
       "    </tr>\n",
       "  </tbody>\n",
       "</table>\n",
       "<p>100 rows × 1 columns</p>\n",
       "</div>"
      ],
      "text/plain": [
       "                                                tweet\n",
       "0   Ride4Truth Ireland apparently inflation rate 8...\n",
       "1   Milk Fat Fractions Market Worth 14 Billion 202...\n",
       "2   land milk honey promised BREXIT materialised N...\n",
       "3   melatoninmilk Yeah Exactly It’s projection tru...\n",
       "4   capedjoosader DarranMarshall annaturley alexha...\n",
       "..                                                ...\n",
       "95  Someone actually tried bring 2 litres milk air...\n",
       "96  yesterday six one news Ireland heard people ta...\n",
       "97  johnmcguirk jasonomahony Indeed many opportuni...\n",
       "98  Republic Ireland fixed milk volumes receive 8c...\n",
       "99  roamer99 Kilsally JamieBrysonCPNI need shut bo...\n",
       "\n",
       "[100 rows x 1 columns]"
      ]
     },
     "execution_count": 48,
     "metadata": {},
     "output_type": "execute_result"
    }
   ],
   "source": [
    "df_ireland"
   ]
  },
  {
   "cell_type": "code",
   "execution_count": 34,
   "id": "e3b952ba",
   "metadata": {},
   "outputs": [],
   "source": [
    "vec_ireland = vect.transform(df_ireland['tweet'])\n",
    "vec_us = vect.transform(df_us['tweet'])"
   ]
  },
  {
   "cell_type": "code",
   "execution_count": 35,
   "id": "1c92a11a",
   "metadata": {},
   "outputs": [],
   "source": [
    "vec_ireland = tfidf.transform(vec_ireland)\n",
    "vec_us = tfidf.transform(vec_us)\n",
    "vec_ireland = vec_ireland.toarray()\n",
    "vec_us = vec_us.toarray()"
   ]
  },
  {
   "cell_type": "code",
   "execution_count": 36,
   "id": "e6da71af",
   "metadata": {},
   "outputs": [
    {
     "name": "stdout",
     "output_type": "stream",
     "text": [
      "4/4 [==============================] - 9s 74ms/step\n"
     ]
    }
   ],
   "source": [
    "df_ireland[\"sentiment\"] = np.argmax(model.predict(vec_ireland),axis=1)"
   ]
  },
  {
   "cell_type": "code",
   "execution_count": 37,
   "id": "36fab04e",
   "metadata": {},
   "outputs": [],
   "source": [
    "def number_to_sentiment(x):\n",
    "    if x == 0:\n",
    "        return \"Negative\"\n",
    "    if x == 1:\n",
    "        return \"Neutral\"\n",
    "    return \"Positive\""
   ]
  },
  {
   "cell_type": "code",
   "execution_count": 38,
   "id": "9b3b6236",
   "metadata": {},
   "outputs": [],
   "source": [
    "df_ireland[\"sentiment\"] = df_ireland[\"sentiment\"].apply(number_to_sentiment)"
   ]
  },
  {
   "cell_type": "code",
   "execution_count": 39,
   "id": "cee00874",
   "metadata": {},
   "outputs": [
    {
     "name": "stdout",
     "output_type": "stream",
     "text": [
      "4/4 [==============================] - 0s 23ms/step\n"
     ]
    }
   ],
   "source": [
    "df_us[\"sentiment\"] = np.argmax(model.predict(vec_us),axis=1)\n",
    "df_us[\"sentiment\"] = df_us[\"sentiment\"].apply(number_to_sentiment)"
   ]
  },
  {
   "cell_type": "code",
   "execution_count": 40,
   "id": "be896af2",
   "metadata": {},
   "outputs": [
    {
     "data": {
      "text/plain": [
       "<AxesSubplot:>"
      ]
     },
     "execution_count": 40,
     "metadata": {},
     "output_type": "execute_result"
    },
    {
     "data": {
      "image/png": "[encoded data removed]",
      "text/plain": [
       "<Figure size 432x288 with 1 Axes>"
      ]
     },
     "metadata": {
      "needs_background": "light"
     },
     "output_type": "display_data"
    }
   ],
   "source": [
    "df_ireland[\"sentiment\"].value_counts().plot.bar()"
   ]
  },
  {
   "cell_type": "code",
   "execution_count": 41,
   "id": "e0cc2fc2",
   "metadata": {},
   "outputs": [
    {
     "data": {
      "text/plain": [
       "<AxesSubplot:>"
      ]
     },
     "execution_count": 41,
     "metadata": {},
     "output_type": "execute_result"
    },
    {
     "data": {
      "image/png": "[encoded data removed]",
      "text/plain": [
       "<Figure size 432x288 with 1 Axes>"
      ]
     },
     "metadata": {
      "needs_background": "light"
     },
     "output_type": "display_data"
    }
   ],
   "source": [
    "df_us[\"sentiment\"].value_counts().plot.bar()"
   ]
  },
  {
   "cell_type": "code",
   "execution_count": null,
   "id": "026b1284",
   "metadata": {},
   "outputs": [],
   "source": []
  },
  {
   "cell_type": "code",
   "execution_count": null,
   "id": "73f63033",
   "metadata": {},
   "outputs": [],
   "source": []
  }
 ],
 "metadata": {
  "kernelspec": {
   "display_name": "Python 3 (ipykernel)",
   "language": "python",
   "name": "python3"
  },
  "language_info": {
   "codemirror_mode": {
    "name": "ipython",
    "version": 3
   },
   "file_extension": ".py",
   "mimetype": "text/x-python",
   "name": "python",
   "nbconvert_exporter": "python",
   "pygments_lexer": "ipython3",
   "version": "3.9.7"
  }
 },
 "nbformat": 4,
 "nbformat_minor": 5
}
